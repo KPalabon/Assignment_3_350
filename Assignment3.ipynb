{
 "cells": [
  {
   "cell_type": "markdown",
   "id": "734f8fea-b3c3-46a3-a7de-c650119f0bfa",
   "metadata": {},
   "source": [
    "Step 1"
   ]
  },
  {
   "cell_type": "code",
   "execution_count": 1,
   "id": "831f4d19-ff8f-42ac-b880-2e8db542593f",
   "metadata": {},
   "outputs": [],
   "source": [
    "from neo4j import GraphDatabase"
   ]
  },
  {
   "cell_type": "code",
   "execution_count": 2,
   "id": "f0e9f7f7-b596-49e8-9fb4-32f7b0918cb2",
   "metadata": {},
   "outputs": [],
   "source": [
    "uri = \"bolt://localhost:7687\"\n",
    "pwd = \"1234abcd\""
   ]
  },
  {
   "cell_type": "markdown",
   "id": "a79f864d-0d4f-4f83-b837-441820ea60a4",
   "metadata": {},
   "source": [
    "Step 6"
   ]
  },
  {
   "cell_type": "code",
   "execution_count": 3,
   "id": "767fd5d5-e3ea-4368-82c6-34821898d878",
   "metadata": {},
   "outputs": [],
   "source": [
    "client_cluster = '''\n",
    "CALL gds.graph.project(\n",
    "'clientClusters' ,\n",
    "{ Client: {\n",
    "label: 'Client' }\n",
    "},\n",
    "{ SHARED_PII: {\n",
    "type: 'SHARED_PII',\n",
    "orientation: 'UNDIRECTED',\n",
    "properties: {\n",
    "count: {\n",
    "property: 'count' }\n",
    "}\n",
    "}\n",
    "}\n",
    ")\n",
    "YIELD graphName, nodeCount, relationshipCount\n",
    "'''"
   ]
  },
  {
   "cell_type": "code",
   "execution_count": 4,
   "id": "2baaa329-8aa1-4699-853f-3663c9f7cdc5",
   "metadata": {},
   "outputs": [
    {
     "ename": "NameError",
     "evalue": "name 'gds' is not defined",
     "output_type": "error",
     "traceback": [
      "\u001b[1;31m---------------------------------------------------------------------------\u001b[0m",
      "\u001b[1;31mNameError\u001b[0m                                 Traceback (most recent call last)",
      "Cell \u001b[1;32mIn[4], line 1\u001b[0m\n\u001b[1;32m----> 1\u001b[0m gds\u001b[38;5;241m.\u001b[39mrun\u001b[38;5;241m.\u001b[39mcypher(client_cluster)\n",
      "\u001b[1;31mNameError\u001b[0m: name 'gds' is not defined"
     ]
    }
   ],
   "source": [
    "gds.run.cypher(client_cluster)"
   ]
  },
  {
   "cell_type": "markdown",
   "id": "210d1a8e-b600-4666-bc9b-134efda50648",
   "metadata": {},
   "source": [
    "Step 11"
   ]
  },
  {
   "cell_type": "code",
   "execution_count": null,
   "id": "a4ca4c48-77d8-4594-8eb8-941a91ff2d96",
   "metadata": {},
   "outputs": [],
   "source": [
    "SIMILAR_TO_script = '''\n",
    "CALL gds.graph.writeRelationship(\n",
    "  'clientClusters',\n",
    "  {\n",
    "    relationshipType: 'SIMILAR_TO',\n",
    "    writeProperty: 'jaccardScore',\n",
    "    relationshipWeightProperty: 'jaccardScore'\n",
    "  }\n",
    ")\n",
    "YIELD relationshipsWritten, propertiesWritten\n",
    "'''"
   ]
  },
  {
   "cell_type": "code",
   "execution_count": null,
   "id": "c1373aa9-e094-46d8-818b-d35b7ba65b7d",
   "metadata": {},
   "outputs": [],
   "source": [
    "gds.run.cypher(SIMILAR_TO_script)"
   ]
  },
  {
   "cell_type": "markdown",
   "id": "6ce9ac06-6d38-4413-9d76-d1f741c7c1e0",
   "metadata": {},
   "source": [
    "Step 12"
   ]
  },
  {
   "cell_type": "code",
   "execution_count": null,
   "id": "71b12aa6-01eb-4189-b0f9-88f0900c23d5",
   "metadata": {},
   "outputs": [],
   "source": [
    "how_many = '''\n",
    "CALL gds.degree.write(\n",
    "  'clientClusters',\n",
    "  {\n",
    "    relationshipTypes: ['SIMILAR_TO'],\n",
    "    writeProperty: 'degree'\n",
    "  }\n",
    ")\n",
    "YIELD nodePropertiesWritten, nodesWritten;\n",
    "'''"
   ]
  },
  {
   "cell_type": "code",
   "execution_count": null,
   "id": "40b606ee-de47-4e23-a726-cae49c507587",
   "metadata": {},
   "outputs": [],
   "source": [
    "gds.run.cypher(how_many)"
   ]
  }
 ],
 "metadata": {
  "kernelspec": {
   "display_name": "Python 3 (ipykernel)",
   "language": "python",
   "name": "python3"
  },
  "language_info": {
   "codemirror_mode": {
    "name": "ipython",
    "version": 3
   },
   "file_extension": ".py",
   "mimetype": "text/x-python",
   "name": "python",
   "nbconvert_exporter": "python",
   "pygments_lexer": "ipython3",
   "version": "3.12.7"
  }
 },
 "nbformat": 4,
 "nbformat_minor": 5
}
