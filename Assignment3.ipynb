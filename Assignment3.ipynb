{
 "cells": [
  {
   "cell_type": "markdown",
   "id": "3d1460ec-4220-43fc-97e0-ed39f7aacb0d",
   "metadata": {},
   "source": [
    "Step 4"
   ]
  },
  {
   "cell_type": "code",
   "execution_count": 1,
   "id": "399c5217-38c0-42d0-b87b-dd10aa2d774f",
   "metadata": {},
   "outputs": [],
   "source": [
    "import pandas as pd\n",
    "import os"
   ]
  },
  {
   "cell_type": "code",
   "execution_count": 2,
   "id": "e6ff712c-b8a3-402a-b9ad-72eb3198882b",
   "metadata": {},
   "outputs": [],
   "source": [
    "import neo4j"
   ]
  },
  {
   "cell_type": "code",
   "execution_count": 3,
   "id": "4572b7e7-99b3-4f3e-bd1b-e684375dbba4",
   "metadata": {},
   "outputs": [],
   "source": [
    "from neo4j import GraphDatabase"
   ]
  },
  {
   "cell_type": "code",
   "execution_count": 4,
   "id": "2f84e7fb-ed48-4f93-8075-e074ade5f128",
   "metadata": {},
   "outputs": [],
   "source": [
    "from graphdatascience import GraphDataScience"
   ]
  },
  {
   "cell_type": "code",
   "execution_count": 5,
   "id": "1ef0f609-2cf3-4cfb-b633-e451e001b426",
   "metadata": {},
   "outputs": [],
   "source": [
    "NEO4J_URI = os.environ.get(\"NEO4J_URI\", \"bolt://localhost:7687\")"
   ]
  },
  {
   "cell_type": "code",
   "execution_count": 6,
   "id": "5d31e35a-71d2-4e46-b9f7-fb7c66ab0f7e",
   "metadata": {},
   "outputs": [],
   "source": [
    "NEO4J_AUTH = ( \"neo4j\",  \"june15kent\")"
   ]
  },
  {
   "cell_type": "code",
   "execution_count": 7,
   "id": "e24bb559-c1df-4ec8-936e-619cde2b0d83",
   "metadata": {},
   "outputs": [],
   "source": [
    "driver = GraphDatabase.driver(NEO4J_URI, auth=NEO4J_AUTH)"
   ]
  },
  {
   "cell_type": "code",
   "execution_count": null,
   "id": "c8657bf1-70e1-4b3c-bcf2-3b7f4d7a1469",
   "metadata": {},
   "outputs": [],
   "source": [
    "gds = GraphDataScience(NEO4J_URI, auth=NEO4J_AUTH)"
   ]
  },
  {
   "cell_type": "markdown",
   "id": "6ea255b5-c1c0-41f5-b306-621293efa663",
   "metadata": {},
   "source": [
    "Step 5"
   ]
  },
  {
   "cell_type": "code",
   "execution_count": null,
   "id": "18d01548-18ba-4807-8694-619db6d9d40e",
   "metadata": {},
   "outputs": [],
   "source": [
    "pii_query = '''\n",
    "MATCH (c:Client)-[ :HAS_EMAIL |:HAS_PHONE |:HAS_SSN ]-> (n) <-[ :HAS_EMAIL |:HAS_PHONE |:HAS_SSN ]-(d:Client)\n",
    "WHERE id(c) < id(d)\n",
    "RETURN c.id, d.id, count(*) AS freq\n",
    "ORDER BY freq DESC\n",
    "'''"
   ]
  },
  {
   "cell_type": "code",
   "execution_count": null,
   "id": "b4253e3e-5a49-4def-b9d9-b9bb8bad7b91",
   "metadata": {},
   "outputs": [],
   "source": [
    "gds.run_cypher(pii_query)"
   ]
  },
  {
   "cell_type": "markdown",
   "id": "0f01d3a3-dc07-49e0-9095-40c302dc8d02",
   "metadata": {},
   "source": [
    "Step 6"
   ]
  },
  {
   "cell_type": "code",
   "execution_count": null,
   "id": "1dadd458-cf10-4925-aa76-114b3fe9048d",
   "metadata": {},
   "outputs": [],
   "source": [
    "project_query = '''\n",
    "CALL gds.graph.project(\n",
    "    'clientClusters' ,\n",
    "    { Client: {\n",
    "        label: 'Client' }\n",
    "    },\n",
    "    { SHARED_PII: {\n",
    "        type: 'SHARED_PII',\n",
    "        orientation: 'UNDIRECTED',\n",
    "        properties: {\n",
    "        count: {\n",
    "        property: 'count' }\n",
    "            }\n",
    "        }\n",
    "    }\n",
    ")\n",
    "YIELD graphName, nodeCount, relationshipCount\n",
    "'''"
   ]
  },
  {
   "cell_type": "code",
   "execution_count": null,
   "id": "97d33f39-8449-4864-ac14-0a6a9ab02f70",
   "metadata": {},
   "outputs": [],
   "source": [
    "gds.run_cypher(project_query)"
   ]
  },
  {
   "cell_type": "markdown",
   "id": "68745cb0-8847-45be-a6ec-4daa855743d7",
   "metadata": {},
   "source": [
    "Step 7"
   ]
  },
  {
   "cell_type": "code",
   "execution_count": null,
   "id": "402b1697-371a-4d06-8832-5adc59f318d5",
   "metadata": {},
   "outputs": [],
   "source": [
    "streaming_query = '''\n",
    "CALL gds.wcc.stream(\n",
    "    'clientClusters',\n",
    "    {\n",
    "    nodeLabels: ['Client'],\n",
    "    relationshipTypes: ['SHARED_PII'],\n",
    "    consecutiveIds: true\n",
    "    }\n",
    ")\n",
    "YIELD nodeId, componentId\n",
    "RETURN gds.util.asNode(nodeId).id AS clientId, \n",
    "componentId AS clusterId\n",
    "'''"
   ]
  },
  {
   "cell_type": "code",
   "execution_count": null,
   "id": "988253a1-2fdc-4249-a366-33577df21ef1",
   "metadata": {},
   "outputs": [],
   "source": [
    "pandasDF = driver.execute_query(\n",
    "    streaming_query,\n",
    "    database_=\"neo4j\",\n",
    "    result_transformer_=  neo4j.Result.to_df\n",
    ")"
   ]
  },
  {
   "cell_type": "code",
   "execution_count": null,
   "id": "37f04009-0e94-49b8-a25f-936c8b90436e",
   "metadata": {},
   "outputs": [],
   "source": [
    "print(type(pandasDF))"
   ]
  },
  {
   "cell_type": "code",
   "execution_count": null,
   "id": "9a9f34f1-e7e5-442d-b257-07565851d157",
   "metadata": {},
   "outputs": [],
   "source": [
    "with driver.session() as session:\n",
    "    result = session.run(streaming_query)\n",
    "    print(result.data())"
   ]
  },
  {
   "cell_type": "markdown",
   "id": "6d90549f-b0e0-449d-bf73-a7555a370296",
   "metadata": {},
   "source": [
    "Step 8"
   ]
  },
  {
   "cell_type": "code",
   "execution_count": null,
   "id": "312ad510-d9f0-4993-b220-2a4ba93302aa",
   "metadata": {},
   "outputs": [],
   "source": [
    "possible_fraud_members = '''\n",
    "CALL gds.wcc.stream(\n",
    "    'clientClusters',\n",
    "    {\n",
    "    nodeLabels: ['Client'],\n",
    "    relationshipTypes: ['SHARED_PII'],\n",
    "    consecutiveIds: true\n",
    "    }\n",
    ")\n",
    "YIELD nodeId, componentId\n",
    "WITH gds.util.asNode(nodeId) AS clientId , componentId AS clusterId\n",
    "WITH clusterId, collect(clientId.id) AS clients\n",
    "WITH clusterId, clients, size(clients) AS clusterSize WHERE clusterSize >= 2\n",
    "UNWIND clients AS client\n",
    "MATCH (c:Client) WHERE c.id = client\n",
    "SET c.secondPartyFraudRing = clusterId\n",
    "'''"
   ]
  },
  {
   "cell_type": "code",
   "execution_count": null,
   "id": "1f473533-9904-4425-953d-2de7f26b05ec",
   "metadata": {},
   "outputs": [],
   "source": [
    "pandasDF = driver.execute_query(\n",
    "    possible_fraud_members,\n",
    "    database_=\"neo4j\",\n",
    "    result_transformer_=  neo4j.Result.to_df\n",
    ")"
   ]
  },
  {
   "cell_type": "code",
   "execution_count": null,
   "id": "4dfec213-e5fa-4c3d-91f7-7464f6a63d27",
   "metadata": {},
   "outputs": [],
   "source": [
    "with driver.session() as session:\n",
    "    result = session.run(possible_fraud_members)\n",
    "    print(result.single())"
   ]
  },
  {
   "cell_type": "code",
   "execution_count": null,
   "id": "2344c62a-6df2-492b-ac93-f82fcedadd29",
   "metadata": {},
   "outputs": [],
   "source": [
    "gds.run_cypher('''CALL gds.graph.drop('clientClusters', false)''')"
   ]
  },
  {
   "cell_type": "markdown",
   "id": "ef7f88f5-3ed3-4ab0-9891-73ada25bf572",
   "metadata": {},
   "source": [
    "Step 9"
   ]
  },
  {
   "cell_type": "code",
   "execution_count": null,
   "id": "fb513d54-4748-4f90-bec7-c2c046220a6c",
   "metadata": {},
   "outputs": [],
   "source": [
    "bipartite_graph = '''\n",
    "MATCH (c:Client) WHERE c.secondPartyFraudRing is NOT NULL\n",
    "WITH collect(c) as clients\n",
    "\n",
    "MATCH (n) WHERE n:Email OR n:Phone OR n:SSN\n",
    "\n",
    "WITH clients, collect(n) AS piis\n",
    "WITH clients + piis AS nodes\n",
    "\n",
    "MATCH (c:Client) -[:HAS_EMAIL | :HAS_PHONE | :HAS_SSN]->(p)\n",
    "WHERE c.secondPartyFraudRing is NOT NULL\n",
    "\n",
    "WITH nodes, collect({source: c, target: p}) as relationships\n",
    "\n",
    "CALL gds.graph.project.cypher(\n",
    "    'similarity',\n",
    "    \"UNWIND $nodes as n\n",
    "        RETURN id(n) AS id,labels(n) AS labels\",\n",
    "    \"UNWIND $relationships as r\n",
    "        RETURN id(r['source']) AS source, id(r['target']) AS target,\n",
    "    'HAS_PII' as type\",\n",
    "    { parameters:\n",
    "        { nodes: nodes,\n",
    "            relationships: relationships }\n",
    "    }\n",
    ")\n",
    "YIELD graphName, nodeCount, relationshipCount\n",
    "RETURN graphName, nodeCount, relationshipCount\n",
    "\n",
    "'''"
   ]
  },
  {
   "cell_type": "code",
   "execution_count": null,
   "id": "2b698911-c409-45e4-8df8-26b8eaae61e2",
   "metadata": {},
   "outputs": [],
   "source": [
    "gds.run_cypher(bipartite_graph)"
   ]
  },
  {
   "cell_type": "markdown",
   "id": "e3a0013d-1843-485a-876a-04816b7b4a1d",
   "metadata": {},
   "source": [
    "Step 10"
   ]
  },
  {
   "cell_type": "code",
   "execution_count": 38,
   "id": "163fff52-49c2-44b0-a2c9-f69b925faf6c",
   "metadata": {},
   "outputs": [],
   "source": [
    "nodeSimilarity_mutate = '''\n",
    "\n",
    "CALL gds.nodeSimilarity.mutate(\n",
    "  'similarity',\n",
    "  {\n",
    "    mutateProperty: 'jaccardScore',\n",
    "    mutateRelationshipType: 'SIMILAR_TO',\n",
    "    topK: 15\n",
    "  }\n",
    ")\n",
    "YIELD\n",
    "  preProcessingMillis,\n",
    "  computeMillis,\n",
    "  mutateMillis,\n",
    "  postProcessingMillis,\n",
    "  relationshipsWritten,\n",
    "  nodesCompared,\n",
    "  similarityDistribution,\n",
    "  configuration\n",
    "'''"
   ]
  },
  {
   "cell_type": "code",
   "execution_count": 39,
   "id": "82a984b9-d7ad-4d32-b5ea-3865ef6bbb99",
   "metadata": {},
   "outputs": [
    {
     "data": {
      "text/html": [
       "<div>\n",
       "<style scoped>\n",
       "    .dataframe tbody tr th:only-of-type {\n",
       "        vertical-align: middle;\n",
       "    }\n",
       "\n",
       "    .dataframe tbody tr th {\n",
       "        vertical-align: top;\n",
       "    }\n",
       "\n",
       "    .dataframe thead th {\n",
       "        text-align: right;\n",
       "    }\n",
       "</style>\n",
       "<table border=\"1\" class=\"dataframe\">\n",
       "  <thead>\n",
       "    <tr style=\"text-align: right;\">\n",
       "      <th></th>\n",
       "      <th>preProcessingMillis</th>\n",
       "      <th>computeMillis</th>\n",
       "      <th>mutateMillis</th>\n",
       "      <th>postProcessingMillis</th>\n",
       "      <th>relationshipsWritten</th>\n",
       "      <th>nodesCompared</th>\n",
       "      <th>similarityDistribution</th>\n",
       "      <th>configuration</th>\n",
       "    </tr>\n",
       "  </thead>\n",
       "  <tbody>\n",
       "    <tr>\n",
       "      <th>0</th>\n",
       "      <td>5</td>\n",
       "      <td>192</td>\n",
       "      <td>165</td>\n",
       "      <td>0</td>\n",
       "      <td>1518</td>\n",
       "      <td>336</td>\n",
       "      <td>{'min': 0.19999980926513672, 'p5': 0.199999809...</td>\n",
       "      <td>{'mutateProperty': 'jaccardScore', 'jobId': '8...</td>\n",
       "    </tr>\n",
       "  </tbody>\n",
       "</table>\n",
       "</div>"
      ],
      "text/plain": [
       "   preProcessingMillis  computeMillis  mutateMillis  postProcessingMillis  \\\n",
       "0                    5            192           165                     0   \n",
       "\n",
       "   relationshipsWritten  nodesCompared  \\\n",
       "0                  1518            336   \n",
       "\n",
       "                              similarityDistribution  \\\n",
       "0  {'min': 0.19999980926513672, 'p5': 0.199999809...   \n",
       "\n",
       "                                       configuration  \n",
       "0  {'mutateProperty': 'jaccardScore', 'jobId': '8...  "
      ]
     },
     "execution_count": 39,
     "metadata": {},
     "output_type": "execute_result"
    }
   ],
   "source": [
    "gds.run_cypher(nodeSimilarity_mutate)"
   ]
  },
  {
   "cell_type": "markdown",
   "id": "e4b4c019-84c2-4a8a-a5c9-77f0e8d2d690",
   "metadata": {},
   "source": [
    "Step 11"
   ]
  },
  {
   "cell_type": "code",
   "execution_count": null,
   "id": "35e766c8-f252-4ab3-8131-0e7c918954bd",
   "metadata": {},
   "outputs": [],
   "source": [
    "SIMILAR_TO_script = '''\n",
    "CALL gds.graph.writeRelationship(\n",
    "  'similarity', 'SIMILAR_TO', 'jaccardScore'\n",
    ")\n",
    "YIELD relationshipsWritten, propertiesWritten\n",
    "'''"
   ]
  },
  {
   "cell_type": "code",
   "execution_count": null,
   "id": "55d8967d-ba2d-4e41-83af-b076aed24882",
   "metadata": {},
   "outputs": [],
   "source": [
    "gds.run_cypher(SIMILAR_TO_script)"
   ]
  },
  {
   "cell_type": "markdown",
   "id": "2c0f917f-bf82-44f7-98f9-65b62af8bee4",
   "metadata": {},
   "source": [
    "Step 12"
   ]
  },
  {
   "cell_type": "code",
   "execution_count": null,
   "id": "9983db76-028f-454b-821a-f0bbc27b42d7",
   "metadata": {},
   "outputs": [],
   "source": [
    "how_many = '''\n",
    "CALL gds.degree.write(\n",
    "  'similarity',\n",
    "  {\n",
    "    nodeLabels: ['Client'],\n",
    "    relationshipTypes: ['SIMILAR_TO'],\n",
    "    relationshipWeightProperty: 'jaccardScore',\n",
    "    writeProperty: 'secondPartyFraudScore'\n",
    "  }\n",
    ")\n",
    "YIELD\n",
    "  centralityDistribution,\n",
    "  preProcessingMillis,\n",
    "  computeMillis,\n",
    "  postProcessingMillis,\n",
    "  writeMillis,\n",
    "  nodePropertiesWritten,\n",
    "  configuration\n",
    "  '''"
   ]
  },
  {
   "cell_type": "code",
   "execution_count": null,
   "id": "85ed2d80-d3be-45c5-95c0-98defecedfd6",
   "metadata": {},
   "outputs": [],
   "source": [
    "gds.run_cypher(how_many)"
   ]
  },
  {
   "cell_type": "markdown",
   "id": "db992cc3-a849-47f1-8802-7e8f97dd3fe9",
   "metadata": {},
   "source": [
    "Step 13"
   ]
  },
  {
   "cell_type": "code",
   "execution_count": null,
   "id": "fbee8fcb-29fe-4f49-8e3d-a1267f8c0a29",
   "metadata": {},
   "outputs": [],
   "source": [
    "high_enough = '''\n",
    "MATCH (c:Client)\n",
    "WHERE c.secondPartyFraudScore IS NOT NULL\n",
    "WITH percentileCont(c.secondPartyFraudScore, 0.95) AS threshold\n",
    "MATCH (c:Client)\n",
    "WHERE c.secondPartyFraudScore > threshold\n",
    "SET c:SecondPartyFraudster\n",
    "'''"
   ]
  },
  {
   "cell_type": "code",
   "execution_count": null,
   "id": "b01364db-5037-4742-86af-105da7da6aba",
   "metadata": {
    "scrolled": true
   },
   "outputs": [],
   "source": [
    "gds.run_cypher(high_enough)"
   ]
  },
  {
   "cell_type": "code",
   "execution_count": null,
   "id": "a839131f-0e30-42d9-aed9-dfeedfeb0b17",
   "metadata": {},
   "outputs": [],
   "source": []
  }
 ],
 "metadata": {
  "kernelspec": {
   "display_name": "Python 3 (ipykernel)",
   "language": "python",
   "name": "python3"
  },
  "language_info": {
   "codemirror_mode": {
    "name": "ipython",
    "version": 3
   },
   "file_extension": ".py",
   "mimetype": "text/x-python",
   "name": "python",
   "nbconvert_exporter": "python",
   "pygments_lexer": "ipython3",
   "version": "3.12.7"
  }
 },
 "nbformat": 4,
 "nbformat_minor": 5
}
