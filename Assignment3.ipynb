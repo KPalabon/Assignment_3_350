{
 "cells": [
  {
   "cell_type": "markdown",
   "id": "3d1460ec-4220-43fc-97e0-ed39f7aacb0d",
   "metadata": {},
   "source": [
    "Step 4"
   ]
  },
  {
   "cell_type": "code",
   "execution_count": 1,
   "id": "399c5217-38c0-42d0-b87b-dd10aa2d774f",
   "metadata": {},
   "outputs": [],
   "source": [
    "import pandas as pd\n",
    "import os"
   ]
  },
  {
   "cell_type": "code",
   "execution_count": 2,
   "id": "e6ff712c-b8a3-402a-b9ad-72eb3198882b",
   "metadata": {},
   "outputs": [],
   "source": [
    "import neo4j"
   ]
  },
  {
   "cell_type": "code",
   "execution_count": 3,
   "id": "4572b7e7-99b3-4f3e-bd1b-e684375dbba4",
   "metadata": {},
   "outputs": [],
   "source": [
    "from neo4j import GraphDatabase"
   ]
  },
  {
   "cell_type": "code",
   "execution_count": 4,
   "id": "2f84e7fb-ed48-4f93-8075-e074ade5f128",
   "metadata": {},
   "outputs": [],
   "source": [
    "from graphdatascience import GraphDataScience"
   ]
  },
  {
   "cell_type": "code",
   "execution_count": 5,
   "id": "1ef0f609-2cf3-4cfb-b633-e451e001b426",
   "metadata": {},
   "outputs": [],
   "source": [
    "NEO4J_URI = os.environ.get(\"NEO4J_URI\", \"bolt://localhost:7687\")"
   ]
  },
  {
   "cell_type": "code",
   "execution_count": 6,
   "id": "5d31e35a-71d2-4e46-b9f7-fb7c66ab0f7e",
   "metadata": {},
   "outputs": [],
   "source": [
    "NEO4J_AUTH = ( \"neo4j\",  \"assignment3\")"
   ]
  },
  {
   "cell_type": "code",
   "execution_count": 7,
   "id": "e24bb559-c1df-4ec8-936e-619cde2b0d83",
   "metadata": {},
   "outputs": [],
   "source": [
    "driver = GraphDatabase.driver(NEO4J_URI, auth=NEO4J_AUTH)"
   ]
  },
  {
   "cell_type": "code",
   "execution_count": 8,
   "id": "c8657bf1-70e1-4b3c-bcf2-3b7f4d7a1469",
   "metadata": {
    "scrolled": true
   },
   "outputs": [
    {
     "name": "stderr",
     "output_type": "stream",
     "text": [
      "Received notification from DBMS server: {severity: WARNING} {code: Neo.ClientNotification.Statement.FeatureDeprecationWarning} {category: DEPRECATION} {title: This feature is deprecated and will be removed in future versions.} {description: The query used a deprecated field from a procedure. ('advertisedListenAddress' returned by 'gds.debug.arrow' is deprecated.)} {position: line: 1, column: 1, offset: 0} for query: 'CALL gds.debug.arrow()'\n",
      "Received notification from DBMS server: {severity: WARNING} {code: Neo.ClientNotification.Statement.FeatureDeprecationWarning} {category: DEPRECATION} {title: This feature is deprecated and will be removed in future versions.} {description: The query used a deprecated field from a procedure. ('serverLocation' returned by 'gds.debug.arrow' is deprecated.)} {position: line: 1, column: 1, offset: 0} for query: 'CALL gds.debug.arrow()'\n"
     ]
    }
   ],
   "source": [
    "gds = GraphDataScience(NEO4J_URI, auth=NEO4J_AUTH)"
   ]
  },
  {
   "cell_type": "markdown",
   "id": "6ea255b5-c1c0-41f5-b306-621293efa663",
   "metadata": {},
   "source": [
    "Step 5"
   ]
  },
  {
   "cell_type": "code",
   "execution_count": 9,
   "id": "18d01548-18ba-4807-8694-619db6d9d40e",
   "metadata": {},
   "outputs": [],
   "source": [
    "pii_query = '''\n",
    "MATCH (c:Client)-[ :HAS_EMAIL |:HAS_PHONE |:HAS_SSN ]-> (n) <-[ :HAS_EMAIL |:HAS_PHONE |:HAS_SSN ]-(d:Client)\n",
    "WHERE id(c) < id(d)\n",
    "RETURN c.id, d.id, count(*) AS freq\n",
    "ORDER BY freq DESC\n",
    "'''"
   ]
  },
  {
   "cell_type": "code",
   "execution_count": 10,
   "id": "b4253e3e-5a49-4def-b9d9-b9bb8bad7b91",
   "metadata": {},
   "outputs": [
    {
     "name": "stderr",
     "output_type": "stream",
     "text": [
      "Received notification from DBMS server: {severity: WARNING} {code: Neo.ClientNotification.Statement.FeatureDeprecationWarning} {category: DEPRECATION} {title: This feature is deprecated and will be removed in future versions.} {description: The semantics of using colon in the separation of alternative relationship types will change in a future version. (Please use ':HAS_EMAIL|HAS_PHONE|HAS_SSN' instead)} {position: line: 2, column: 43, offset: 43} for query: '\\nMATCH (c:Client)-[ :HAS_EMAIL |:HAS_PHONE |:HAS_SSN ]-> (n) <-[ :HAS_EMAIL |:HAS_PHONE |:HAS_SSN ]-(d:Client)\\nWHERE id(c) < id(d)\\nRETURN c.id, d.id, count(*) AS freq\\nORDER BY freq DESC\\n'\n",
      "Received notification from DBMS server: {severity: WARNING} {code: Neo.ClientNotification.Statement.FeatureDeprecationWarning} {category: DEPRECATION} {title: This feature is deprecated and will be removed in future versions.} {description: The semantics of using colon in the separation of alternative relationship types will change in a future version. (Please use ':HAS_EMAIL|HAS_PHONE|HAS_SSN' instead)} {position: line: 2, column: 88, offset: 88} for query: '\\nMATCH (c:Client)-[ :HAS_EMAIL |:HAS_PHONE |:HAS_SSN ]-> (n) <-[ :HAS_EMAIL |:HAS_PHONE |:HAS_SSN ]-(d:Client)\\nWHERE id(c) < id(d)\\nRETURN c.id, d.id, count(*) AS freq\\nORDER BY freq DESC\\n'\n",
      "Received notification from DBMS server: {severity: WARNING} {code: Neo.ClientNotification.Statement.FeatureDeprecationWarning} {category: DEPRECATION} {title: This feature is deprecated and will be removed in future versions.} {description: The query used a deprecated function: `id`.} {position: line: 3, column: 7, offset: 117} for query: '\\nMATCH (c:Client)-[ :HAS_EMAIL |:HAS_PHONE |:HAS_SSN ]-> (n) <-[ :HAS_EMAIL |:HAS_PHONE |:HAS_SSN ]-(d:Client)\\nWHERE id(c) < id(d)\\nRETURN c.id, d.id, count(*) AS freq\\nORDER BY freq DESC\\n'\n",
      "Received notification from DBMS server: {severity: WARNING} {code: Neo.ClientNotification.Statement.FeatureDeprecationWarning} {category: DEPRECATION} {title: This feature is deprecated and will be removed in future versions.} {description: The query used a deprecated function: `id`.} {position: line: 3, column: 15, offset: 125} for query: '\\nMATCH (c:Client)-[ :HAS_EMAIL |:HAS_PHONE |:HAS_SSN ]-> (n) <-[ :HAS_EMAIL |:HAS_PHONE |:HAS_SSN ]-(d:Client)\\nWHERE id(c) < id(d)\\nRETURN c.id, d.id, count(*) AS freq\\nORDER BY freq DESC\\n'\n"
     ]
    },
    {
     "data": {
      "text/html": [
       "<div>\n",
       "<style scoped>\n",
       "    .dataframe tbody tr th:only-of-type {\n",
       "        vertical-align: middle;\n",
       "    }\n",
       "\n",
       "    .dataframe tbody tr th {\n",
       "        vertical-align: top;\n",
       "    }\n",
       "\n",
       "    .dataframe thead th {\n",
       "        text-align: right;\n",
       "    }\n",
       "</style>\n",
       "<table border=\"1\" class=\"dataframe\">\n",
       "  <thead>\n",
       "    <tr style=\"text-align: right;\">\n",
       "      <th></th>\n",
       "      <th>c.id</th>\n",
       "      <th>d.id</th>\n",
       "      <th>freq</th>\n",
       "    </tr>\n",
       "  </thead>\n",
       "  <tbody>\n",
       "    <tr>\n",
       "      <th>0</th>\n",
       "      <td>4952527271473904</td>\n",
       "      <td>4816336012071985</td>\n",
       "      <td>3</td>\n",
       "    </tr>\n",
       "    <tr>\n",
       "      <th>1</th>\n",
       "      <td>4883445100935916</td>\n",
       "      <td>4708373581412325</td>\n",
       "      <td>3</td>\n",
       "    </tr>\n",
       "    <tr>\n",
       "      <th>2</th>\n",
       "      <td>4658150168863397</td>\n",
       "      <td>4100374538108184</td>\n",
       "      <td>3</td>\n",
       "    </tr>\n",
       "    <tr>\n",
       "      <th>3</th>\n",
       "      <td>4673951123644611</td>\n",
       "      <td>4795773320377768</td>\n",
       "      <td>3</td>\n",
       "    </tr>\n",
       "    <tr>\n",
       "      <th>4</th>\n",
       "      <td>4192214340630620</td>\n",
       "      <td>4912097363222923</td>\n",
       "      <td>3</td>\n",
       "    </tr>\n",
       "    <tr>\n",
       "      <th>...</th>\n",
       "      <td>...</td>\n",
       "      <td>...</td>\n",
       "      <td>...</td>\n",
       "    </tr>\n",
       "    <tr>\n",
       "      <th>754</th>\n",
       "      <td>4910140986334626</td>\n",
       "      <td>4114683318919154</td>\n",
       "      <td>1</td>\n",
       "    </tr>\n",
       "    <tr>\n",
       "      <th>755</th>\n",
       "      <td>4454780847105236</td>\n",
       "      <td>4210575070378533</td>\n",
       "      <td>1</td>\n",
       "    </tr>\n",
       "    <tr>\n",
       "      <th>756</th>\n",
       "      <td>4721862020593706</td>\n",
       "      <td>4210575070378533</td>\n",
       "      <td>1</td>\n",
       "    </tr>\n",
       "    <tr>\n",
       "      <th>757</th>\n",
       "      <td>4445521165797820</td>\n",
       "      <td>4210575070378533</td>\n",
       "      <td>1</td>\n",
       "    </tr>\n",
       "    <tr>\n",
       "      <th>758</th>\n",
       "      <td>4884394011157286</td>\n",
       "      <td>4210575070378533</td>\n",
       "      <td>1</td>\n",
       "    </tr>\n",
       "  </tbody>\n",
       "</table>\n",
       "<p>759 rows × 3 columns</p>\n",
       "</div>"
      ],
      "text/plain": [
       "                 c.id              d.id  freq\n",
       "0    4952527271473904  4816336012071985     3\n",
       "1    4883445100935916  4708373581412325     3\n",
       "2    4658150168863397  4100374538108184     3\n",
       "3    4673951123644611  4795773320377768     3\n",
       "4    4192214340630620  4912097363222923     3\n",
       "..                ...               ...   ...\n",
       "754  4910140986334626  4114683318919154     1\n",
       "755  4454780847105236  4210575070378533     1\n",
       "756  4721862020593706  4210575070378533     1\n",
       "757  4445521165797820  4210575070378533     1\n",
       "758  4884394011157286  4210575070378533     1\n",
       "\n",
       "[759 rows x 3 columns]"
      ]
     },
     "execution_count": 10,
     "metadata": {},
     "output_type": "execute_result"
    }
   ],
   "source": [
    "gds.run_cypher(pii_query)"
   ]
  },
  {
   "cell_type": "markdown",
   "id": "0f01d3a3-dc07-49e0-9095-40c302dc8d02",
   "metadata": {},
   "source": [
    "Step 6"
   ]
  },
  {
   "cell_type": "code",
   "execution_count": 11,
   "id": "1dadd458-cf10-4925-aa76-114b3fe9048d",
   "metadata": {},
   "outputs": [],
   "source": [
    "project_query = '''\n",
    "CALL gds.graph.project(\n",
    "    'clientClusters' ,\n",
    "    { Client: {\n",
    "        label: 'Client' }\n",
    "    },\n",
    "    { SHARED_PII: {\n",
    "        type: 'SHARED_PII',\n",
    "        orientation: 'UNDIRECTED',\n",
    "        properties: {\n",
    "        count: {\n",
    "        property: 'count' }\n",
    "            }\n",
    "        }\n",
    "    }\n",
    ")\n",
    "YIELD graphName, nodeCount, relationshipCount\n",
    "'''"
   ]
  },
  {
   "cell_type": "code",
   "execution_count": 12,
   "id": "97d33f39-8449-4864-ac14-0a6a9ab02f70",
   "metadata": {},
   "outputs": [
    {
     "data": {
      "text/html": [
       "<div>\n",
       "<style scoped>\n",
       "    .dataframe tbody tr th:only-of-type {\n",
       "        vertical-align: middle;\n",
       "    }\n",
       "\n",
       "    .dataframe tbody tr th {\n",
       "        vertical-align: top;\n",
       "    }\n",
       "\n",
       "    .dataframe thead th {\n",
       "        text-align: right;\n",
       "    }\n",
       "</style>\n",
       "<table border=\"1\" class=\"dataframe\">\n",
       "  <thead>\n",
       "    <tr style=\"text-align: right;\">\n",
       "      <th></th>\n",
       "      <th>graphName</th>\n",
       "      <th>nodeCount</th>\n",
       "      <th>relationshipCount</th>\n",
       "    </tr>\n",
       "  </thead>\n",
       "  <tbody>\n",
       "    <tr>\n",
       "      <th>0</th>\n",
       "      <td>clientClusters</td>\n",
       "      <td>2433</td>\n",
       "      <td>1518</td>\n",
       "    </tr>\n",
       "  </tbody>\n",
       "</table>\n",
       "</div>"
      ],
      "text/plain": [
       "        graphName  nodeCount  relationshipCount\n",
       "0  clientClusters       2433               1518"
      ]
     },
     "execution_count": 12,
     "metadata": {},
     "output_type": "execute_result"
    }
   ],
   "source": [
    "gds.run_cypher(project_query)"
   ]
  },
  {
   "cell_type": "markdown",
   "id": "68745cb0-8847-45be-a6ec-4daa855743d7",
   "metadata": {},
   "source": [
    "Step 7"
   ]
  },
  {
   "cell_type": "code",
   "execution_count": 13,
   "id": "402b1697-371a-4d06-8832-5adc59f318d5",
   "metadata": {},
   "outputs": [],
   "source": [
    "streaming_query = '''\n",
    "CALL gds.wcc.stream(\n",
    "    'clientClusters',\n",
    "    {\n",
    "    nodeLabels: ['Client'],\n",
    "    relationshipTypes: ['SHARED_PII'],\n",
    "    consecutiveIds: true\n",
    "    }\n",
    ")\n",
    "YIELD nodeId, componentId\n",
    "RETURN gds.util.asNode(nodeId).id AS clientId, \n",
    "componentId AS clusterId\n",
    "'''"
   ]
  },
  {
   "cell_type": "code",
   "execution_count": 14,
   "id": "988253a1-2fdc-4249-a366-33577df21ef1",
   "metadata": {},
   "outputs": [],
   "source": [
    "pandasDF = driver.execute_query(\n",
    "    streaming_query,\n",
    "    database_=\"neo4j\",\n",
    "    result_transformer_=  neo4j.Result.to_df\n",
    ")"
   ]
  },
  {
   "cell_type": "code",
   "execution_count": 15,
   "id": "37f04009-0e94-49b8-a25f-936c8b90436e",
   "metadata": {},
   "outputs": [
    {
     "name": "stdout",
     "output_type": "stream",
     "text": [
      "<class 'pandas.core.frame.DataFrame'>\n"
     ]
    }
   ],
   "source": [
    "print(type(pandasDF))"
   ]
  },
  {
   "cell_type": "code",
   "execution_count": 16,
   "id": "9a9f34f1-e7e5-442d-b257-07565851d157",
   "metadata": {},
   "outputs": [
    {
     "name": "stdout",
     "output_type": "stream",
     "text": [
      "[{'clientId': '4997933060327094', 'clusterId': 0}, {'clientId': '4776276949898423', 'clusterId': 1}, {'clientId': '4858607188760216', 'clusterId': 2}, {'clientId': '4287186486553145', 'clusterId': 3}, {'clientId': '4661202154682409', 'clusterId': 4}, {'clientId': '4649268238636650', 'clusterId': 5}, {'clientId': '4426707672690219', 'clusterId': 6}, {'clientId': '4922246870240518', 'clusterId': 7}, {'clientId': '4415848797892554', 'clusterId': 8}, {'clientId': '4548497513788330', 'clusterId': 9}, {'clientId': '4950634022082174', 'clusterId': 10}, {'clientId': '4860903977910377', 'clusterId': 11}, {'clientId': '4234798486577769', 'clusterId': 12}, {'clientId': '4175792657809755', 'clusterId': 13}, {'clientId': '4361287590543243', 'clusterId': 14}, {'clientId': '4833833649287561', 'clusterId': 15}, {'clientId': '4495151043368906', 'clusterId': 16}, {'clientId': '4028666746330768', 'clusterId': 17}, {'clientId': '4664274185403862', 'clusterId': 18}, {'clientId': '4699974121949998', 'clusterId': 19}, {'clientId': '4489062023200829', 'clusterId': 20}, {'clientId': '4527531615372893', 'clusterId': 21}, {'clientId': '4821459384144769', 'clusterId': 22}, {'clientId': '4210732778597472', 'clusterId': 23}, {'clientId': '4593783306746815', 'clusterId': 24}, {'clientId': '4758686577017108', 'clusterId': 25}, {'clientId': '4599940846994966', 'clusterId': 26}, {'clientId': '4132057089935301', 'clusterId': 27}, {'clientId': '4890138988127380', 'clusterId': 28}, {'clientId': '4281501376120050', 'clusterId': 29}, {'clientId': '4769476330068912', 'clusterId': 30}, {'clientId': '4373234071581165', 'clusterId': 31}, {'clientId': '4675771584247656', 'clusterId': 32}, {'clientId': '4696541400811323', 'clusterId': 33}, {'clientId': '4861143012504716', 'clusterId': 34}, {'clientId': '4304476930200305', 'clusterId': 35}, {'clientId': '4877069009840122', 'clusterId': 36}, {'clientId': '4307389536474215', 'clusterId': 37}, {'clientId': '4992336978696375', 'clusterId': 38}, {'clientId': '4878881046730861', 'clusterId': 39}, {'clientId': '4461025065707946', 'clusterId': 40}, {'clientId': '4865299590185033', 'clusterId': 41}, {'clientId': '4163577571209198', 'clusterId': 42}, {'clientId': '4308282204170505', 'clusterId': 43}, {'clientId': '4936227921830956', 'clusterId': 44}, {'clientId': '4193892236705694', 'clusterId': 45}, {'clientId': '4978842692656858', 'clusterId': 46}, {'clientId': '4815190123866838', 'clusterId': 47}, {'clientId': '4728958453898167', 'clusterId': 48}, {'clientId': '4283269812060375', 'clusterId': 49}, {'clientId': '4461994951769742', 'clusterId': 50}, {'clientId': '4997067730646995', 'clusterId': 51}, {'clientId': '4623314711512743', 'clusterId': 52}, {'clientId': '4934689914802775', 'clusterId': 53}, {'clientId': '4016387696144307', 'clusterId': 54}, {'clientId': '4232854535206405', 'clusterId': 55}, {'clientId': '4179469308131931', 'clusterId': 56}, {'clientId': '4829008012563262', 'clusterId': 57}, {'clientId': '4620568193977533', 'clusterId': 58}, {'clientId': '4442345643996272', 'clusterId': 59}, {'clientId': '4538385146266257', 'clusterId': 60}, {'clientId': '4713815840501838', 'clusterId': 61}, {'clientId': '4328824923173439', 'clusterId': 62}, {'clientId': '4130311182126975', 'clusterId': 63}, {'clientId': '4240479863497572', 'clusterId': 64}, {'clientId': '4165116258455283', 'clusterId': 65}, {'clientId': '4269962672858619', 'clusterId': 66}, {'clientId': '4054055006130851', 'clusterId': 67}, {'clientId': '4084607637589873', 'clusterId': 68}, {'clientId': '4521897024497282', 'clusterId': 69}, {'clientId': '4302834979508818', 'clusterId': 70}, {'clientId': '4627736982168399', 'clusterId': 71}, {'clientId': '4377768394269020', 'clusterId': 72}, {'clientId': '4977044628908930', 'clusterId': 73}, {'clientId': '4404867431062658', 'clusterId': 74}, {'clientId': '4646848043920366', 'clusterId': 75}, {'clientId': '4919472822763465', 'clusterId': 76}, {'clientId': '4153043632267305', 'clusterId': 77}, {'clientId': '4112149735589808', 'clusterId': 78}, {'clientId': '4087341555918503', 'clusterId': 79}, {'clientId': '4158067208474537', 'clusterId': 80}, {'clientId': '4292537167149848', 'clusterId': 81}, {'clientId': '4587723358115624', 'clusterId': 82}, {'clientId': '4150120977295100', 'clusterId': 83}, {'clientId': '4682483717760768', 'clusterId': 84}, {'clientId': '4024938746543466', 'clusterId': 85}, {'clientId': '4202816160498223', 'clusterId': 86}, {'clientId': '4186781964248762', 'clusterId': 87}, {'clientId': '4071037055398752', 'clusterId': 88}, {'clientId': '4623309864720788', 'clusterId': 89}, {'clientId': '4065917752731157', 'clusterId': 90}, {'clientId': '4330713673472164', 'clusterId': 91}, {'clientId': '4622357371241815', 'clusterId': 92}, {'clientId': '4391533280007161', 'clusterId': 93}, {'clientId': '4797490575674736', 'clusterId': 94}, {'clientId': '4729897098800395', 'clusterId': 95}, {'clientId': '4592978276479535', 'clusterId': 96}, {'clientId': '4786729655407217', 'clusterId': 97}, {'clientId': '4233423774075779', 'clusterId': 98}, {'clientId': '4557998293684670', 'clusterId': 99}, {'clientId': '4033549352028921', 'clusterId': 100}, {'clientId': '4815308135379356', 'clusterId': 101}, {'clientId': '4715129455360771', 'clusterId': 102}, {'clientId': '4494372282930336', 'clusterId': 103}, {'clientId': '4450493265462311', 'clusterId': 104}, {'clientId': '4387267948699723', 'clusterId': 105}, {'clientId': '4780613781229800', 'clusterId': 106}, {'clientId': '4889393727181791', 'clusterId': 107}, {'clientId': '4702736320806344', 'clusterId': 108}, {'clientId': '4632210280624548', 'clusterId': 109}, {'clientId': '4262578189389927', 'clusterId': 110}, {'clientId': '4072243909548092', 'clusterId': 111}, {'clientId': '4708195232614102', 'clusterId': 112}, {'clientId': '4902307731209466', 'clusterId': 113}, {'clientId': '4289113772492612', 'clusterId': 114}, {'clientId': '4161520571289754', 'clusterId': 115}, {'clientId': '4335449420718279', 'clusterId': 116}, {'clientId': '4023116008139528', 'clusterId': 117}, {'clientId': '4514793600633656', 'clusterId': 118}, {'clientId': '4687332997541403', 'clusterId': 119}, {'clientId': '4356808512585876', 'clusterId': 120}, {'clientId': '4045124071961434', 'clusterId': 121}, {'clientId': '4708810288167975', 'clusterId': 122}, {'clientId': '4481859531667540', 'clusterId': 123}, {'clientId': '4014764056745539', 'clusterId': 124}, {'clientId': '4769131050343629', 'clusterId': 125}, {'clientId': '4582479174320451', 'clusterId': 126}, {'clientId': '4001835049359250', 'clusterId': 127}, {'clientId': '4747197533234351', 'clusterId': 128}, {'clientId': '4251690762385207', 'clusterId': 129}, {'clientId': '4159333812922603', 'clusterId': 130}, {'clientId': '4363891062277780', 'clusterId': 131}, {'clientId': '4303896274548822', 'clusterId': 132}, {'clientId': '4761129253698219', 'clusterId': 133}, {'clientId': '4847004421535569', 'clusterId': 134}, {'clientId': '4614999133119712', 'clusterId': 135}, {'clientId': '4916802445693967', 'clusterId': 136}, {'clientId': '4344664124443466', 'clusterId': 137}, {'clientId': '4009538477848065', 'clusterId': 138}, {'clientId': '4281412995849030', 'clusterId': 139}, {'clientId': '4715961100753509', 'clusterId': 140}, {'clientId': '4540648090956660', 'clusterId': 141}, {'clientId': '4149148237665907', 'clusterId': 142}, {'clientId': '4762508605129016', 'clusterId': 143}, {'clientId': '4657053097061102', 'clusterId': 144}, {'clientId': '4224112264202875', 'clusterId': 145}, {'clientId': '4595563639796630', 'clusterId': 146}, {'clientId': '4581361078262974', 'clusterId': 147}, {'clientId': '4899493998944261', 'clusterId': 148}, {'clientId': '4038293474855045', 'clusterId': 149}, {'clientId': '4254050261609911', 'clusterId': 150}, {'clientId': '4730866977965758', 'clusterId': 151}, {'clientId': '4005138917512746', 'clusterId': 152}, {'clientId': '4048598649266169', 'clusterId': 153}, {'clientId': '4288305116859172', 'clusterId': 154}, {'clientId': '4570157930216387', 'clusterId': 155}, {'clientId': '4014291232764499', 'clusterId': 156}, {'clientId': '4204756048452299', 'clusterId': 157}, {'clientId': '4512218883997455', 'clusterId': 158}, {'clientId': '4640838056556591', 'clusterId': 159}, {'clientId': '4469543801171013', 'clusterId': 160}, {'clientId': '4058347027442142', 'clusterId': 161}, {'clientId': '4202414299992967', 'clusterId': 162}, {'clientId': '4042858310837771', 'clusterId': 163}, {'clientId': '4503162753048398', 'clusterId': 164}, {'clientId': '4876888691263926', 'clusterId': 165}, {'clientId': '4471057460522032', 'clusterId': 166}, {'clientId': '4097495687844827', 'clusterId': 167}, {'clientId': '4658050290567355', 'clusterId': 168}, {'clientId': '4067820106762175', 'clusterId': 169}, {'clientId': '4556462489562498', 'clusterId': 170}, {'clientId': '4695829423381775', 'clusterId': 171}, {'clientId': '4717941153768800', 'clusterId': 172}, {'clientId': '4341868419479647', 'clusterId': 173}, {'clientId': '4091959311664063', 'clusterId': 174}, {'clientId': '4680843166052813', 'clusterId': 175}, {'clientId': '4124987861037647', 'clusterId': 176}, {'clientId': '4264142507557323', 'clusterId': 177}, {'clientId': '4868008898368820', 'clusterId': 178}, {'clientId': '4604149621099404', 'clusterId': 179}, {'clientId': '4723468297219344', 'clusterId': 180}, {'clientId': '4912560635349287', 'clusterId': 181}, {'clientId': '4778023973814191', 'clusterId': 182}, {'clientId': '4206809650465972', 'clusterId': 183}, {'clientId': '4103703552828276', 'clusterId': 184}, {'clientId': '4573055924202156', 'clusterId': 185}, {'clientId': '4339937679957834', 'clusterId': 186}, {'clientId': '4240608262482716', 'clusterId': 187}, {'clientId': '4159333597329602', 'clusterId': 188}, {'clientId': '4857142650272616', 'clusterId': 189}, {'clientId': '4734850335377159', 'clusterId': 190}, {'clientId': '4260826898618652', 'clusterId': 191}, {'clientId': '4513372993083174', 'clusterId': 192}, {'clientId': '4397655406866081', 'clusterId': 193}, {'clientId': '4880863847169883', 'clusterId': 194}, {'clientId': '4349534927816629', 'clusterId': 195}, {'clientId': '4138921972021806', 'clusterId': 196}, {'clientId': '4129312672803977', 'clusterId': 197}, {'clientId': '4072976045805906', 'clusterId': 198}, {'clientId': '4200705897489898', 'clusterId': 199}, {'clientId': '4082100079332244', 'clusterId': 200}, {'clientId': '4597138984015585', 'clusterId': 201}, {'clientId': '4276145187433372', 'clusterId': 202}, {'clientId': '4561476999710564', 'clusterId': 203}, {'clientId': '4055137946147184', 'clusterId': 204}, {'clientId': '4968981972643467', 'clusterId': 205}, {'clientId': '4361820138088717', 'clusterId': 206}, {'clientId': '4575741077168744', 'clusterId': 207}, {'clientId': '4301913757626538', 'clusterId': 208}, {'clientId': '4224702696691131', 'clusterId': 209}, {'clientId': '4606038454045253', 'clusterId': 210}, {'clientId': '4600663987564524', 'clusterId': 211}, {'clientId': '4930197545166283', 'clusterId': 212}, {'clientId': '4318379463432754', 'clusterId': 213}, {'clientId': '4698909532174316', 'clusterId': 214}, {'clientId': '4437455794102450', 'clusterId': 215}, {'clientId': '4826418339721621', 'clusterId': 216}, {'clientId': '4736530962481163', 'clusterId': 217}, {'clientId': '4290571225699165', 'clusterId': 218}, {'clientId': '4605231580790972', 'clusterId': 219}, {'clientId': '4730137806877584', 'clusterId': 220}, {'clientId': '4282095805760742', 'clusterId': 221}, {'clientId': '4895234272686531', 'clusterId': 222}, {'clientId': '4883352702429316', 'clusterId': 223}, {'clientId': '4568377344209596', 'clusterId': 224}, {'clientId': '4801108151452681', 'clusterId': 225}, {'clientId': '4128160612062621', 'clusterId': 226}, {'clientId': '4552052319606591', 'clusterId': 227}, {'clientId': '4836684413368450', 'clusterId': 228}, {'clientId': '4899930499814667', 'clusterId': 229}, {'clientId': '4091001178873444', 'clusterId': 230}, {'clientId': '4478422032464209', 'clusterId': 231}, {'clientId': '4222789529502298', 'clusterId': 232}, {'clientId': '4905652182322426', 'clusterId': 233}, {'clientId': '4550674901795284', 'clusterId': 234}, {'clientId': '4911045717094325', 'clusterId': 235}, {'clientId': '4144793447749275', 'clusterId': 236}, {'clientId': '4987434781745591', 'clusterId': 237}, {'clientId': '4621838626509123', 'clusterId': 238}, {'clientId': '4168529496267889', 'clusterId': 239}, {'clientId': '4550846201232610', 'clusterId': 240}, {'clientId': '4791392842545556', 'clusterId': 241}, {'clientId': '4238751935576235', 'clusterId': 242}, {'clientId': '4318118974921552', 'clusterId': 243}, {'clientId': '4448703992347196', 'clusterId': 244}, {'clientId': '4212767395465412', 'clusterId': 245}, {'clientId': '4009699366296244', 'clusterId': 246}, {'clientId': '4558664163453831', 'clusterId': 247}, {'clientId': '4026791806639957', 'clusterId': 248}, {'clientId': '4015381509588546', 'clusterId': 249}, {'clientId': '4660344075850987', 'clusterId': 250}, {'clientId': '4549442787573355', 'clusterId': 251}, {'clientId': '4757962740795271', 'clusterId': 252}, {'clientId': '4611538383305788', 'clusterId': 253}, {'clientId': '4226330034353269', 'clusterId': 254}, {'clientId': '4131426384968666', 'clusterId': 255}, {'clientId': '4653230932156362', 'clusterId': 256}, {'clientId': '4271401885368682', 'clusterId': 257}, {'clientId': '4534034138740119', 'clusterId': 258}, {'clientId': '4163977808042877', 'clusterId': 259}, {'clientId': '4702875003559448', 'clusterId': 260}, {'clientId': '4844100635867039', 'clusterId': 261}, {'clientId': '4312500067640239', 'clusterId': 262}, {'clientId': '4393233814806687', 'clusterId': 263}, {'clientId': '4303161444345124', 'clusterId': 264}, {'clientId': '4569735720384581', 'clusterId': 265}, {'clientId': '4607649312760617', 'clusterId': 266}, {'clientId': '4926165363996194', 'clusterId': 267}, {'clientId': '4500168717345518', 'clusterId': 268}, {'clientId': '4989140333160373', 'clusterId': 269}, {'clientId': '4773053530041314', 'clusterId': 270}, {'clientId': '4060306982105512', 'clusterId': 271}, {'clientId': '4076270844833053', 'clusterId': 272}, {'clientId': '4243752358227630', 'clusterId': 273}, {'clientId': '4663795262700482', 'clusterId': 274}, {'clientId': '4817201385246417', 'clusterId': 275}, {'clientId': '4381330463737868', 'clusterId': 276}, {'clientId': '4738403346417899', 'clusterId': 277}, {'clientId': '4299987716395413', 'clusterId': 278}, {'clientId': '4174137455589855', 'clusterId': 279}, {'clientId': '4246475895642411', 'clusterId': 280}, {'clientId': '4399478280159160', 'clusterId': 281}, {'clientId': '4793413982890699', 'clusterId': 282}, {'clientId': '4472697680535626', 'clusterId': 283}, {'clientId': '4747053141630789', 'clusterId': 284}, {'clientId': '4363682124849058', 'clusterId': 285}, {'clientId': '4767447955389554', 'clusterId': 286}, {'clientId': '4565375454180550', 'clusterId': 287}, {'clientId': '4058960930568561', 'clusterId': 288}, {'clientId': '4417930787545513', 'clusterId': 289}, {'clientId': '4119425868338830', 'clusterId': 290}, {'clientId': '4854046464375254', 'clusterId': 291}, {'clientId': '4818330895728561', 'clusterId': 292}, {'clientId': '4614037965713896', 'clusterId': 293}, {'clientId': '4622402652135565', 'clusterId': 294}, {'clientId': '4015507180855024', 'clusterId': 295}, {'clientId': '4738997452222647', 'clusterId': 296}, {'clientId': '4574324791104302', 'clusterId': 297}, {'clientId': '4483870243478348', 'clusterId': 298}, {'clientId': '4310138420980570', 'clusterId': 299}, {'clientId': '4159110797546171', 'clusterId': 300}, {'clientId': '4259765732065311', 'clusterId': 301}, {'clientId': '4067371667139502', 'clusterId': 302}, {'clientId': '4661604799908182', 'clusterId': 303}, {'clientId': '4850134858807894', 'clusterId': 304}, {'clientId': '4555524197038367', 'clusterId': 305}, {'clientId': '4217397083232851', 'clusterId': 306}, {'clientId': '4087267650947743', 'clusterId': 307}, {'clientId': '4459518201980546', 'clusterId': 308}, {'clientId': '4801941792439422', 'clusterId': 309}, {'clientId': '4766143398147631', 'clusterId': 310}, {'clientId': '4913323287321008', 'clusterId': 311}, {'clientId': '4132475800325463', 'clusterId': 312}, {'clientId': '4428683009647776', 'clusterId': 313}, {'clientId': '4926525935293349', 'clusterId': 314}, {'clientId': '4944879463853604', 'clusterId': 315}, {'clientId': '4204148874226585', 'clusterId': 316}, {'clientId': '4108435484921532', 'clusterId': 317}, {'clientId': '4342014639897792', 'clusterId': 318}, {'clientId': '4131589834590933', 'clusterId': 319}, {'clientId': '4614708838272423', 'clusterId': 320}, {'clientId': '4948164903040302', 'clusterId': 321}, {'clientId': '4931843620175454', 'clusterId': 322}, {'clientId': '4470103683099407', 'clusterId': 323}, {'clientId': '4670460374686035', 'clusterId': 324}, {'clientId': '4682343664217644', 'clusterId': 325}, {'clientId': '4584375831360336', 'clusterId': 326}, {'clientId': '4518637399470562', 'clusterId': 327}, {'clientId': '4423633304681850', 'clusterId': 328}, {'clientId': '4072490207067537', 'clusterId': 329}, {'clientId': '4004968428764449', 'clusterId': 330}, {'clientId': '4857447038681747', 'clusterId': 331}, {'clientId': '4353809614535002', 'clusterId': 332}, {'clientId': '4801480599010763', 'clusterId': 333}, {'clientId': '4047841290742877', 'clusterId': 334}, {'clientId': '4376948871941546', 'clusterId': 335}, {'clientId': '4145008166943903', 'clusterId': 336}, {'clientId': '4045601141753545', 'clusterId': 337}, {'clientId': '4127939408297678', 'clusterId': 338}, {'clientId': '4760078293523674', 'clusterId': 339}, {'clientId': '4749351815484840', 'clusterId': 340}, {'clientId': '4261123352758912', 'clusterId': 341}, {'clientId': '4677065757405425', 'clusterId': 342}, {'clientId': '4655564117925409', 'clusterId': 343}, {'clientId': '4971130788069674', 'clusterId': 344}, {'clientId': '4805378598192044', 'clusterId': 345}, {'clientId': '4659358266749702', 'clusterId': 346}, {'clientId': '4101860776172949', 'clusterId': 347}, {'clientId': '4581473619720079', 'clusterId': 348}, {'clientId': '4152573242698623', 'clusterId': 349}, {'clientId': '4569008257887008', 'clusterId': 350}, {'clientId': '4200041182409973', 'clusterId': 351}, {'clientId': '4763983845751870', 'clusterId': 352}, {'clientId': '4016258429226663', 'clusterId': 353}, {'clientId': '4824031947188273', 'clusterId': 354}, {'clientId': '4960232781079933', 'clusterId': 355}, {'clientId': '4900115908073868', 'clusterId': 356}, {'clientId': '4017175649989905', 'clusterId': 357}, {'clientId': '4539769779399619', 'clusterId': 358}, {'clientId': '4001923623053182', 'clusterId': 359}, {'clientId': '4163831079382787', 'clusterId': 360}, {'clientId': '4424523028554666', 'clusterId': 361}, {'clientId': '4722556313920746', 'clusterId': 362}, {'clientId': '4076988070877474', 'clusterId': 363}, {'clientId': '4735441619467988', 'clusterId': 364}, {'clientId': '4078948577825697', 'clusterId': 365}, {'clientId': '4471525217239993', 'clusterId': 366}, {'clientId': '4374143150878450', 'clusterId': 367}, {'clientId': '4648240178626968', 'clusterId': 368}, {'clientId': '4748549454996302', 'clusterId': 369}, {'clientId': '4133864978801752', 'clusterId': 370}, {'clientId': '4658689665280050', 'clusterId': 371}, {'clientId': '4061953969158359', 'clusterId': 372}, {'clientId': '4823648068686685', 'clusterId': 373}, {'clientId': '4446078673925152', 'clusterId': 374}, {'clientId': '4118854786249376', 'clusterId': 375}, {'clientId': '4549367389487391', 'clusterId': 376}, {'clientId': '4920638601317080', 'clusterId': 377}, {'clientId': '4494400674663080', 'clusterId': 378}, {'clientId': '4753848553948715', 'clusterId': 379}, {'clientId': '4947364005857451', 'clusterId': 380}, {'clientId': '4332677644533487', 'clusterId': 381}, {'clientId': '4446527462545779', 'clusterId': 382}, {'clientId': '4476172625910942', 'clusterId': 383}, {'clientId': '4910928204791001', 'clusterId': 384}, {'clientId': '4624689748916465', 'clusterId': 385}, {'clientId': '4619870352658174', 'clusterId': 386}, {'clientId': '4686684633417674', 'clusterId': 387}, {'clientId': '4004170032959818', 'clusterId': 388}, {'clientId': '4457873615336690', 'clusterId': 389}, {'clientId': '4243470358955627', 'clusterId': 390}, {'clientId': '4951011302620396', 'clusterId': 391}, {'clientId': '4968118297981963', 'clusterId': 392}, {'clientId': '4329272591701975', 'clusterId': 393}, {'clientId': '4605300156860772', 'clusterId': 394}, {'clientId': '4666966256403147', 'clusterId': 395}, {'clientId': '4448068623275269', 'clusterId': 396}, {'clientId': '4162221028660999', 'clusterId': 397}, {'clientId': '4757536427962907', 'clusterId': 398}, {'clientId': '4718689029117673', 'clusterId': 399}, {'clientId': '4879392007022636', 'clusterId': 400}, {'clientId': '4809178163257297', 'clusterId': 401}, {'clientId': '4652034826531412', 'clusterId': 402}, {'clientId': '4025060919204955', 'clusterId': 403}, {'clientId': '4358482506317874', 'clusterId': 404}, {'clientId': '4817493933115513', 'clusterId': 405}, {'clientId': '4745195023353196', 'clusterId': 406}, {'clientId': '4257296155938711', 'clusterId': 407}, {'clientId': '4294486367410170', 'clusterId': 408}, {'clientId': '4603793086789214', 'clusterId': 409}, {'clientId': '4871425748718290', 'clusterId': 410}, {'clientId': '4514064474079271', 'clusterId': 411}, {'clientId': '4694928638822259', 'clusterId': 412}, {'clientId': '4658101267326844', 'clusterId': 413}, {'clientId': '4205859656978867', 'clusterId': 414}, {'clientId': '4615776788359267', 'clusterId': 415}, {'clientId': '4102563135510481', 'clusterId': 416}, {'clientId': '4928584657525402', 'clusterId': 417}, {'clientId': '4238504689613807', 'clusterId': 418}, {'clientId': '4122208727131645', 'clusterId': 419}, {'clientId': '4262303732943330', 'clusterId': 420}, {'clientId': '4739034601818411', 'clusterId': 421}, {'clientId': '4921637784351329', 'clusterId': 422}, {'clientId': '4729100203868872', 'clusterId': 423}, {'clientId': '4817108942541315', 'clusterId': 424}, {'clientId': '4899723048634730', 'clusterId': 425}, {'clientId': '4492405985926318', 'clusterId': 426}, {'clientId': '4945572930119555', 'clusterId': 427}, {'clientId': '4495148511784119', 'clusterId': 428}, {'clientId': '4894706077233305', 'clusterId': 429}, {'clientId': '4422875579170371', 'clusterId': 430}, {'clientId': '4427263689107853', 'clusterId': 431}, {'clientId': '4346695965431135', 'clusterId': 432}, {'clientId': '4602832047687694', 'clusterId': 433}, {'clientId': '4134014333703082', 'clusterId': 434}, {'clientId': '4180445484655338', 'clusterId': 435}, {'clientId': '4601440763959338', 'clusterId': 436}, {'clientId': '4767470491344073', 'clusterId': 437}, {'clientId': '4446997295506381', 'clusterId': 438}, {'clientId': '4188859303620962', 'clusterId': 439}, {'clientId': '4950928820609984', 'clusterId': 440}, {'clientId': '4155554320840482', 'clusterId': 441}, {'clientId': '4267107786130586', 'clusterId': 442}, {'clientId': '4610123395741618', 'clusterId': 443}, {'clientId': '4039959745446918', 'clusterId': 444}, {'clientId': '4132851634549868', 'clusterId': 445}, {'clientId': '4806827163057239', 'clusterId': 446}, {'clientId': '4480502107032506', 'clusterId': 447}, {'clientId': '4374904457805805', 'clusterId': 448}, {'clientId': '4423207795660499', 'clusterId': 449}, {'clientId': '4235444088629851', 'clusterId': 450}, {'clientId': '4679441097934457', 'clusterId': 451}, {'clientId': '4624583038913284', 'clusterId': 452}, {'clientId': '4052822086739253', 'clusterId': 453}, {'clientId': '4396688650313949', 'clusterId': 454}, {'clientId': '4003680861198180', 'clusterId': 455}, {'clientId': '4730324466606780', 'clusterId': 456}, {'clientId': '4959424012288762', 'clusterId': 457}, {'clientId': '4199456782468851', 'clusterId': 458}, {'clientId': '4562987769782848', 'clusterId': 459}, {'clientId': '4395814861992724', 'clusterId': 460}, {'clientId': '4518098225467548', 'clusterId': 461}, {'clientId': '4555172988043707', 'clusterId': 462}, {'clientId': '4796491010728450', 'clusterId': 463}, {'clientId': '4238668129213773', 'clusterId': 464}, {'clientId': '4027856088189952', 'clusterId': 465}, {'clientId': '4135937604926579', 'clusterId': 466}, {'clientId': '4306271421393570', 'clusterId': 467}, {'clientId': '4786938779294720', 'clusterId': 468}, {'clientId': '4696426720179918', 'clusterId': 469}, {'clientId': '4698149143969982', 'clusterId': 470}, {'clientId': '4128023851846213', 'clusterId': 471}, {'clientId': '4574172169890915', 'clusterId': 472}, {'clientId': '4562314392843519', 'clusterId': 473}, {'clientId': '4828834181043906', 'clusterId': 474}, {'clientId': '4581459897193097', 'clusterId': 475}, {'clientId': '4389891443477794', 'clusterId': 476}, {'clientId': '4886411983150111', 'clusterId': 477}, {'clientId': '4270274401349994', 'clusterId': 478}, {'clientId': '4930853414222595', 'clusterId': 479}, {'clientId': '4670553320003980', 'clusterId': 480}, {'clientId': '4634635858806226', 'clusterId': 481}, {'clientId': '4829364165393365', 'clusterId': 482}, {'clientId': '4396953688671340', 'clusterId': 483}, {'clientId': '4058487038431237', 'clusterId': 484}, {'clientId': '4351799703761340', 'clusterId': 485}, {'clientId': '4219811291420973', 'clusterId': 486}, {'clientId': '4466097569273563', 'clusterId': 487}, {'clientId': '4285876449274100', 'clusterId': 488}, {'clientId': '4768202795957824', 'clusterId': 489}, {'clientId': '4491800831638599', 'clusterId': 490}, {'clientId': '4429908870955837', 'clusterId': 491}, {'clientId': '4332101203167967', 'clusterId': 492}, {'clientId': '4251079809415922', 'clusterId': 493}, {'clientId': '4528511321706427', 'clusterId': 494}, {'clientId': '4029793401421069', 'clusterId': 495}, {'clientId': '4315101630544847', 'clusterId': 496}, {'clientId': '4235195327306236', 'clusterId': 497}, {'clientId': '4304019201953929', 'clusterId': 498}, {'clientId': '4554577384607064', 'clusterId': 499}, {'clientId': '4895880490129207', 'clusterId': 500}, {'clientId': '4907122579018407', 'clusterId': 501}, {'clientId': '4693424346063494', 'clusterId': 502}, {'clientId': '4834808343088233', 'clusterId': 503}, {'clientId': '4582038798083166', 'clusterId': 504}, {'clientId': '4996732298709003', 'clusterId': 505}, {'clientId': '4994412023693242', 'clusterId': 506}, {'clientId': '4319779110498752', 'clusterId': 507}, {'clientId': '4835684824964120', 'clusterId': 508}, {'clientId': '4383730395905616', 'clusterId': 509}, {'clientId': '4641118474135602', 'clusterId': 510}, {'clientId': '4741439328667536', 'clusterId': 511}, {'clientId': '4519648241950395', 'clusterId': 512}, {'clientId': '4442052318954319', 'clusterId': 513}, {'clientId': '4093351287047440', 'clusterId': 514}, {'clientId': '4812960669882768', 'clusterId': 515}, {'clientId': '4026862630051337', 'clusterId': 516}, {'clientId': '4774665195519489', 'clusterId': 517}, {'clientId': '4816625523219780', 'clusterId': 518}, {'clientId': '4772094454451098', 'clusterId': 519}, {'clientId': '4599876854992734', 'clusterId': 520}, {'clientId': '4594515051383504', 'clusterId': 521}, {'clientId': '4357040632644263', 'clusterId': 522}, {'clientId': '4050082707646856', 'clusterId': 523}, {'clientId': '4736733007161218', 'clusterId': 524}, {'clientId': '4016101248025108', 'clusterId': 525}, {'clientId': '4375769757587539', 'clusterId': 526}, {'clientId': '4778879734442923', 'clusterId': 527}, {'clientId': '4846296308031206', 'clusterId': 528}, {'clientId': '4088328083716003', 'clusterId': 529}, {'clientId': '4626868586504371', 'clusterId': 530}, {'clientId': '4887271129762305', 'clusterId': 531}, {'clientId': '4468367720752534', 'clusterId': 532}, {'clientId': '4372908950084661', 'clusterId': 533}, {'clientId': '4211987731818139', 'clusterId': 534}, {'clientId': '4964593948087549', 'clusterId': 535}, {'clientId': '4639095284862688', 'clusterId': 536}, {'clientId': '4694864686816689', 'clusterId': 537}, {'clientId': '4515706536835392', 'clusterId': 538}, {'clientId': '4234696772274713', 'clusterId': 539}, {'clientId': '4601586309408550', 'clusterId': 540}, {'clientId': '4151584733675252', 'clusterId': 541}, {'clientId': '4570825295818936', 'clusterId': 542}, {'clientId': '4589380041288447', 'clusterId': 543}, {'clientId': '4417969908685139', 'clusterId': 544}, {'clientId': '4350477755708367', 'clusterId': 545}, {'clientId': '4129160561158973', 'clusterId': 546}, {'clientId': '4176697931241510', 'clusterId': 547}, {'clientId': '4515009624493376', 'clusterId': 548}, {'clientId': '4016886440148621', 'clusterId': 549}, {'clientId': '4143012371309993', 'clusterId': 550}, {'clientId': '4126524750255598', 'clusterId': 551}, {'clientId': '4479312781366441', 'clusterId': 552}, {'clientId': '4933950437556285', 'clusterId': 553}, {'clientId': '4747747814838948', 'clusterId': 554}, {'clientId': '4002021634916031', 'clusterId': 555}, {'clientId': '4437307558983312', 'clusterId': 556}, {'clientId': '4427072036459150', 'clusterId': 557}, {'clientId': '4104424364047042', 'clusterId': 558}, {'clientId': '4170463179525197', 'clusterId': 559}, {'clientId': '4895021495071546', 'clusterId': 560}, {'clientId': '4955277598071927', 'clusterId': 561}, {'clientId': '4281016674339187', 'clusterId': 562}, {'clientId': '4505681324436152', 'clusterId': 563}, {'clientId': '4107525342660719', 'clusterId': 564}, {'clientId': '4736352895684486', 'clusterId': 565}, {'clientId': '4848069870945121', 'clusterId': 566}, {'clientId': '4829998061685851', 'clusterId': 567}, {'clientId': '4374591447315316', 'clusterId': 568}, {'clientId': '4575156525055726', 'clusterId': 569}, {'clientId': '4082272661787232', 'clusterId': 570}, {'clientId': '4646889551506551', 'clusterId': 571}, {'clientId': '4660708291770619', 'clusterId': 572}, {'clientId': '4869752953198312', 'clusterId': 573}, {'clientId': '4031775839503556', 'clusterId': 574}, {'clientId': '4489850257009662', 'clusterId': 575}, {'clientId': '4741038779579990', 'clusterId': 576}, {'clientId': '4784302743842183', 'clusterId': 577}, {'clientId': '4564039056806985', 'clusterId': 578}, {'clientId': '4610144659560908', 'clusterId': 579}, {'clientId': '4352789842841524', 'clusterId': 580}, {'clientId': '4150488627008813', 'clusterId': 581}, {'clientId': '4452918312298324', 'clusterId': 582}, {'clientId': '4478060450704712', 'clusterId': 583}, {'clientId': '4740498095428275', 'clusterId': 584}, {'clientId': '4102432051852824', 'clusterId': 585}, {'clientId': '4248439478952918', 'clusterId': 586}, {'clientId': '4699577881778356', 'clusterId': 587}, {'clientId': '4688292393967694', 'clusterId': 588}, {'clientId': '4024316992822779', 'clusterId': 589}, {'clientId': '4148942281675338', 'clusterId': 590}, {'clientId': '4977919202100980', 'clusterId': 591}, {'clientId': '4796264144024124', 'clusterId': 592}, {'clientId': '4191575525235679', 'clusterId': 593}, {'clientId': '4230183117233823', 'clusterId': 594}, {'clientId': '4897592060627647', 'clusterId': 595}, {'clientId': '4164372377000671', 'clusterId': 596}, {'clientId': '4088810599490173', 'clusterId': 597}, {'clientId': '4864253224164980', 'clusterId': 598}, {'clientId': '4644112935504081', 'clusterId': 599}, {'clientId': '4368650954676904', 'clusterId': 600}, {'clientId': '4483070357616946', 'clusterId': 601}, {'clientId': '4407728339739598', 'clusterId': 602}, {'clientId': '4704261755501672', 'clusterId': 603}, {'clientId': '4274569125059621', 'clusterId': 604}, {'clientId': '4058020644458516', 'clusterId': 605}, {'clientId': '4443997796938169', 'clusterId': 606}, {'clientId': '4533318170897239', 'clusterId': 607}, {'clientId': '4064201741572803', 'clusterId': 608}, {'clientId': '4143659430560709', 'clusterId': 609}, {'clientId': '4371198139793124', 'clusterId': 610}, {'clientId': '4758073613956104', 'clusterId': 611}, {'clientId': '4439628113007596', 'clusterId': 612}, {'clientId': '4538567867528797', 'clusterId': 613}, {'clientId': '4641367962718169', 'clusterId': 614}, {'clientId': '4936303157707026', 'clusterId': 615}, {'clientId': '4052111379458270', 'clusterId': 616}, {'clientId': '4008180575159391', 'clusterId': 617}, {'clientId': '4395812319066604', 'clusterId': 618}, {'clientId': '4027240172134275', 'clusterId': 619}, {'clientId': '4874953421089033', 'clusterId': 620}, {'clientId': '4033439221978318', 'clusterId': 621}, {'clientId': '4223203552078605', 'clusterId': 622}, {'clientId': '4317485982696125', 'clusterId': 623}, {'clientId': '4314879006245864', 'clusterId': 624}, {'clientId': '4482778780588463', 'clusterId': 625}, {'clientId': '4152100710371358', 'clusterId': 626}, {'clientId': '4272146698974858', 'clusterId': 627}, {'clientId': '4692156246105303', 'clusterId': 628}, {'clientId': '4905689263517672', 'clusterId': 629}, {'clientId': '4904937028425371', 'clusterId': 630}, {'clientId': '4923002096129459', 'clusterId': 631}, {'clientId': '4560599528132363', 'clusterId': 632}, {'clientId': '4903269757045530', 'clusterId': 633}, {'clientId': '4479391641853939', 'clusterId': 634}, {'clientId': '4004642114651166', 'clusterId': 635}, {'clientId': '4386360355938238', 'clusterId': 636}, {'clientId': '4460225693283283', 'clusterId': 637}, {'clientId': '4030072634628130', 'clusterId': 638}, {'clientId': '4342063645580041', 'clusterId': 639}, {'clientId': '4328954058274015', 'clusterId': 640}, {'clientId': '4766425490243248', 'clusterId': 641}, {'clientId': '4774238974912661', 'clusterId': 642}, {'clientId': '4294318054911154', 'clusterId': 643}, {'clientId': '4244321454643303', 'clusterId': 644}, {'clientId': '4308501961502299', 'clusterId': 645}, {'clientId': '4437666409261362', 'clusterId': 646}, {'clientId': '4669297374168264', 'clusterId': 647}, {'clientId': '4200207266548545', 'clusterId': 648}, {'clientId': '4238323338778204', 'clusterId': 649}, {'clientId': '4159901196881569', 'clusterId': 650}, {'clientId': '4801104733213154', 'clusterId': 651}, {'clientId': '4430412703491901', 'clusterId': 566}, {'clientId': '4551443550793282', 'clusterId': 652}, {'clientId': '4519075955736440', 'clusterId': 653}, {'clientId': '4954410670700334', 'clusterId': 654}, {'clientId': '4779415181450264', 'clusterId': 655}, {'clientId': '4674334198759052', 'clusterId': 656}, {'clientId': '4918213317479659', 'clusterId': 657}, {'clientId': '4413082106914824', 'clusterId': 658}, {'clientId': '4709077873986966', 'clusterId': 659}, {'clientId': '4867563813981553', 'clusterId': 660}, {'clientId': '4791664097154353', 'clusterId': 661}, {'clientId': '4526813801774111', 'clusterId': 662}, {'clientId': '4227609164037209', 'clusterId': 663}, {'clientId': '4388219235730058', 'clusterId': 664}, {'clientId': '4738870022263187', 'clusterId': 665}, {'clientId': '4097927511993255', 'clusterId': 666}, {'clientId': '4191252293828909', 'clusterId': 667}, {'clientId': '4373655547556698', 'clusterId': 668}, {'clientId': '4243623247101866', 'clusterId': 669}, {'clientId': '4147821690984070', 'clusterId': 670}, {'clientId': '4790974383294354', 'clusterId': 671}, {'clientId': '4389736105240370', 'clusterId': 672}, {'clientId': '4488714586127218', 'clusterId': 673}, {'clientId': '4113001571000631', 'clusterId': 674}, {'clientId': '4480343786805783', 'clusterId': 675}, {'clientId': '4618623194094962', 'clusterId': 676}, {'clientId': '4792710388333997', 'clusterId': 677}, {'clientId': '4850311959290804', 'clusterId': 678}, {'clientId': '4138274042128106', 'clusterId': 679}, {'clientId': '4825902121407904', 'clusterId': 680}, {'clientId': '4857727966856340', 'clusterId': 681}, {'clientId': '4099091980236379', 'clusterId': 682}, {'clientId': '4044175985276419', 'clusterId': 683}, {'clientId': '4267415922823265', 'clusterId': 684}, {'clientId': '4431172664379789', 'clusterId': 685}, {'clientId': '4798652786776407', 'clusterId': 686}, {'clientId': '4870188407718040', 'clusterId': 687}, {'clientId': '4708231280717222', 'clusterId': 688}, {'clientId': '4088924592218943', 'clusterId': 689}, {'clientId': '4330724618424814', 'clusterId': 690}, {'clientId': '4668806653830112', 'clusterId': 691}, {'clientId': '4517082309243752', 'clusterId': 692}, {'clientId': '4207495082661310', 'clusterId': 693}, {'clientId': '4777968394122817', 'clusterId': 694}, {'clientId': '4075888428489488', 'clusterId': 695}, {'clientId': '4950327789169777', 'clusterId': 696}, {'clientId': '4691867791596420', 'clusterId': 697}, {'clientId': '4402779216606181', 'clusterId': 698}, {'clientId': '4542405247872821', 'clusterId': 699}, {'clientId': '4446889589770163', 'clusterId': 700}, {'clientId': '4719867308107107', 'clusterId': 701}, {'clientId': '4292101965275451', 'clusterId': 702}, {'clientId': '4780274744644484', 'clusterId': 703}, {'clientId': '4777673328584286', 'clusterId': 704}, {'clientId': '4288642238119063', 'clusterId': 705}, {'clientId': '4295605972463899', 'clusterId': 706}, {'clientId': '4250996495506634', 'clusterId': 707}, {'clientId': '4676394444075875', 'clusterId': 708}, {'clientId': '4427696510884812', 'clusterId': 709}, {'clientId': '4752992070157367', 'clusterId': 710}, {'clientId': '4298140538627396', 'clusterId': 711}, {'clientId': '4761552176439678', 'clusterId': 712}, {'clientId': '4606570125585150', 'clusterId': 713}, {'clientId': '4213114122617164', 'clusterId': 714}, {'clientId': '4947327871427279', 'clusterId': 715}, {'clientId': '4434972082738780', 'clusterId': 716}, {'clientId': '4768007737782085', 'clusterId': 717}, {'clientId': '4851245962491851', 'clusterId': 718}, {'clientId': '4313838654970968', 'clusterId': 719}, {'clientId': '4162647882566858', 'clusterId': 720}, {'clientId': '4832188874625626', 'clusterId': 721}, {'clientId': '4378137990771335', 'clusterId': 722}, {'clientId': '4227919181984691', 'clusterId': 723}, {'clientId': '4792530879098390', 'clusterId': 724}, {'clientId': '4833650226613161', 'clusterId': 725}, {'clientId': '4744268446390359', 'clusterId': 726}, {'clientId': '4791331459506550', 'clusterId': 727}, {'clientId': '4240898166880749', 'clusterId': 728}, {'clientId': '4485128197981546', 'clusterId': 729}, {'clientId': '4465503280846760', 'clusterId': 730}, {'clientId': '4706706380712399', 'clusterId': 731}, {'clientId': '4292384700099127', 'clusterId': 732}, {'clientId': '4337377400091540', 'clusterId': 733}, {'clientId': '4954955948997062', 'clusterId': 734}, {'clientId': '4575394188523611', 'clusterId': 735}, {'clientId': '4387436184442144', 'clusterId': 736}, {'clientId': '4692614074088843', 'clusterId': 737}, {'clientId': '4355045688915006', 'clusterId': 738}, {'clientId': '4676758511484931', 'clusterId': 739}, {'clientId': '4013475043547208', 'clusterId': 740}, {'clientId': '4888634482907255', 'clusterId': 741}, {'clientId': '4593564149434490', 'clusterId': 742}, {'clientId': '4521619667271943', 'clusterId': 743}, {'clientId': '4645299800468135', 'clusterId': 744}, {'clientId': '4760910768698187', 'clusterId': 745}, {'clientId': '4948210623912427', 'clusterId': 746}, {'clientId': '4431731294702924', 'clusterId': 747}, {'clientId': '4911004019310343', 'clusterId': 748}, {'clientId': '4898195440164676', 'clusterId': 749}, {'clientId': '4523187018735451', 'clusterId': 750}, {'clientId': '4316577599898374', 'clusterId': 751}, {'clientId': '4436323055642138', 'clusterId': 752}, {'clientId': '4658345011902539', 'clusterId': 753}, {'clientId': '4611393035502899', 'clusterId': 754}, {'clientId': '4145199524900352', 'clusterId': 755}, {'clientId': '4494269380452926', 'clusterId': 756}, {'clientId': '4905958657121809', 'clusterId': 757}, {'clientId': '4250320602388671', 'clusterId': 758}, {'clientId': '4622738502844918', 'clusterId': 759}, {'clientId': '4424344726821640', 'clusterId': 760}, {'clientId': '4321851715415634', 'clusterId': 761}, {'clientId': '4776099774327601', 'clusterId': 762}, {'clientId': '4229568448105745', 'clusterId': 763}, {'clientId': '4391203230014010', 'clusterId': 764}, {'clientId': '4164962428271238', 'clusterId': 765}, {'clientId': '4066002874314338', 'clusterId': 766}, {'clientId': '4905814879236018', 'clusterId': 767}, {'clientId': '4318133772460554', 'clusterId': 768}, {'clientId': '4653500053223575', 'clusterId': 769}, {'clientId': '4875904544896985', 'clusterId': 770}, {'clientId': '4360998824669965', 'clusterId': 771}, {'clientId': '4194731947998801', 'clusterId': 772}, {'clientId': '4382441625318064', 'clusterId': 773}, {'clientId': '4335791644014559', 'clusterId': 774}, {'clientId': '4907086991535217', 'clusterId': 775}, {'clientId': '4434352013003259', 'clusterId': 776}, {'clientId': '4840745297177368', 'clusterId': 777}, {'clientId': '4985618436764559', 'clusterId': 778}, {'clientId': '4689812211163132', 'clusterId': 779}, {'clientId': '4393485602943904', 'clusterId': 780}, {'clientId': '4781207723524847', 'clusterId': 781}, {'clientId': '4823803888294596', 'clusterId': 782}, {'clientId': '4375424424333970', 'clusterId': 783}, {'clientId': '4644322058633951', 'clusterId': 784}, {'clientId': '4953061260695375', 'clusterId': 785}, {'clientId': '4693849424732208', 'clusterId': 786}, {'clientId': '4052378625120141', 'clusterId': 787}, {'clientId': '4577448643953033', 'clusterId': 788}, {'clientId': '4153284079713589', 'clusterId': 789}, {'clientId': '4738578451971101', 'clusterId': 790}, {'clientId': '4717861414076662', 'clusterId': 791}, {'clientId': '4175902184324323', 'clusterId': 792}, {'clientId': '4523521685756525', 'clusterId': 793}, {'clientId': '4708996503243384', 'clusterId': 794}, {'clientId': '4205250092479407', 'clusterId': 795}, {'clientId': '4079187602164777', 'clusterId': 796}, {'clientId': '4994289100382596', 'clusterId': 797}, {'clientId': '4464585563538595', 'clusterId': 798}, {'clientId': '4398118478796933', 'clusterId': 799}, {'clientId': '4133562774671417', 'clusterId': 800}, {'clientId': '4850840388802235', 'clusterId': 801}, {'clientId': '4825469336821170', 'clusterId': 802}, {'clientId': '4899183594230047', 'clusterId': 803}, {'clientId': '4214069179633564', 'clusterId': 804}, {'clientId': '4880385483961498', 'clusterId': 805}, {'clientId': '4096948206744523', 'clusterId': 806}, {'clientId': '4984334419029983', 'clusterId': 807}, {'clientId': '4853076174848150', 'clusterId': 808}, {'clientId': '4271365030531298', 'clusterId': 809}, {'clientId': '4268973320913582', 'clusterId': 810}, {'clientId': '4312244732103147', 'clusterId': 811}, {'clientId': '4078169065653026', 'clusterId': 812}, {'clientId': '4144786481697319', 'clusterId': 813}, {'clientId': '4126491651254023', 'clusterId': 814}, {'clientId': '4188758431425205', 'clusterId': 815}, {'clientId': '4874258425973236', 'clusterId': 816}, {'clientId': '4631681558558637', 'clusterId': 817}, {'clientId': '4195353641912019', 'clusterId': 818}, {'clientId': '4164120624758108', 'clusterId': 819}, {'clientId': '4191675407274638', 'clusterId': 820}, {'clientId': '4831160344636575', 'clusterId': 821}, {'clientId': '4749647526061383', 'clusterId': 822}, {'clientId': '4906960457985176', 'clusterId': 823}, {'clientId': '4528636838692230', 'clusterId': 824}, {'clientId': '4753335306536716', 'clusterId': 825}, {'clientId': '4246647265124879', 'clusterId': 826}, {'clientId': '4835040854917084', 'clusterId': 827}, {'clientId': '4311881309969888', 'clusterId': 828}, {'clientId': '4050344547304595', 'clusterId': 829}, {'clientId': '4436837153697058', 'clusterId': 830}, {'clientId': '4457109804371846', 'clusterId': 831}, {'clientId': '4415695529198903', 'clusterId': 832}, {'clientId': '4783551467017635', 'clusterId': 833}, {'clientId': '4443873229782302', 'clusterId': 834}, {'clientId': '4999668047799878', 'clusterId': 835}, {'clientId': '4125945309499695', 'clusterId': 836}, {'clientId': '4993744837469406', 'clusterId': 837}, {'clientId': '4680460920669137', 'clusterId': 838}, {'clientId': '4562131819174967', 'clusterId': 839}, {'clientId': '4686503541972432', 'clusterId': 840}, {'clientId': '4850522013902818', 'clusterId': 841}, {'clientId': '4892141995816233', 'clusterId': 842}, {'clientId': '4240510434852612', 'clusterId': 843}, {'clientId': '4156014458421513', 'clusterId': 844}, {'clientId': '4652918179171281', 'clusterId': 845}, {'clientId': '4870688684589980', 'clusterId': 846}, {'clientId': '4054305305621450', 'clusterId': 847}, {'clientId': '4473469682437022', 'clusterId': 848}, {'clientId': '4905055899203618', 'clusterId': 849}, {'clientId': '4150330320912257', 'clusterId': 850}, {'clientId': '4223722001260654', 'clusterId': 851}, {'clientId': '4732894709621869', 'clusterId': 852}, {'clientId': '4586495595578408', 'clusterId': 853}, {'clientId': '4344995646919231', 'clusterId': 854}, {'clientId': '4946065857656880', 'clusterId': 855}, {'clientId': '4499763011295600', 'clusterId': 856}, {'clientId': '4524194067972620', 'clusterId': 857}, {'clientId': '4765001464904346', 'clusterId': 858}, {'clientId': '4676264431977278', 'clusterId': 859}, {'clientId': '4651322661863128', 'clusterId': 860}, {'clientId': '4646532036141087', 'clusterId': 861}, {'clientId': '4928244169371833', 'clusterId': 862}, {'clientId': '4101668939346106', 'clusterId': 863}, {'clientId': '4444123822741522', 'clusterId': 864}, {'clientId': '4191227084295088', 'clusterId': 865}, {'clientId': '4993267538816188', 'clusterId': 866}, {'clientId': '4383907790663053', 'clusterId': 867}, {'clientId': '4081954060664762', 'clusterId': 868}, {'clientId': '4580950844422655', 'clusterId': 869}, {'clientId': '4368779085530571', 'clusterId': 870}, {'clientId': '4282712951602532', 'clusterId': 871}, {'clientId': '4784502082852632', 'clusterId': 872}, {'clientId': '4987931604612023', 'clusterId': 873}, {'clientId': '4651225588720083', 'clusterId': 874}, {'clientId': '4320730453526151', 'clusterId': 875}, {'clientId': '4859155917206175', 'clusterId': 876}, {'clientId': '4096607585134967', 'clusterId': 877}, {'clientId': '4535744257394584', 'clusterId': 878}, {'clientId': '4381685764092440', 'clusterId': 879}, {'clientId': '4481740414152653', 'clusterId': 880}, {'clientId': '4602851185875879', 'clusterId': 881}, {'clientId': '4859879221436257', 'clusterId': 882}, {'clientId': '4850913617110496', 'clusterId': 883}, {'clientId': '4347815807885665', 'clusterId': 884}, {'clientId': '4011947829710525', 'clusterId': 885}, {'clientId': '4942187580427282', 'clusterId': 886}, {'clientId': '4733397754013684', 'clusterId': 887}, {'clientId': '4282607835670384', 'clusterId': 888}, {'clientId': '4886711646132640', 'clusterId': 889}, {'clientId': '4446415053332189', 'clusterId': 890}, {'clientId': '4767956155142878', 'clusterId': 891}, {'clientId': '4677705786717734', 'clusterId': 892}, {'clientId': '4469169955959233', 'clusterId': 893}, {'clientId': '4967718747063816', 'clusterId': 894}, {'clientId': '4536554443525630', 'clusterId': 895}, {'clientId': '4107040156119786', 'clusterId': 896}, {'clientId': '4337860998773629', 'clusterId': 897}, {'clientId': '4546899024810663', 'clusterId': 898}, {'clientId': '4414449887076819', 'clusterId': 899}, {'clientId': '4493313918300412', 'clusterId': 900}, {'clientId': '4508221044501337', 'clusterId': 901}, {'clientId': '4695893417798964', 'clusterId': 902}, {'clientId': '4736719181634963', 'clusterId': 903}, {'clientId': '4070916651202370', 'clusterId': 904}, {'clientId': '4565643037732118', 'clusterId': 905}, {'clientId': '4066120674044028', 'clusterId': 906}, {'clientId': '4486431252716107', 'clusterId': 907}, {'clientId': '4089451261612601', 'clusterId': 908}, {'clientId': '4432354274190132', 'clusterId': 909}, {'clientId': '4962371145665017', 'clusterId': 910}, {'clientId': '4955767212345079', 'clusterId': 911}, {'clientId': '4186531065756035', 'clusterId': 912}, {'clientId': '4206285912584126', 'clusterId': 913}, {'clientId': '4838660679908104', 'clusterId': 914}, {'clientId': '4627155114288332', 'clusterId': 915}, {'clientId': '4074902020791646', 'clusterId': 916}, {'clientId': '4090774135005133', 'clusterId': 917}, {'clientId': '4262205110488525', 'clusterId': 918}, {'clientId': '4325845293147490', 'clusterId': 919}, {'clientId': '4423374953209608', 'clusterId': 920}, {'clientId': '4513176727701286', 'clusterId': 921}, {'clientId': '4446449588875255', 'clusterId': 922}, {'clientId': '4204017355835349', 'clusterId': 923}, {'clientId': '4392270380851144', 'clusterId': 924}, {'clientId': '4384299639038732', 'clusterId': 925}, {'clientId': '4081950476375381', 'clusterId': 926}, {'clientId': '4994102952758864', 'clusterId': 927}, {'clientId': '4648166127792538', 'clusterId': 928}, {'clientId': '4502524996218719', 'clusterId': 929}, {'clientId': '4993947575158103', 'clusterId': 930}, {'clientId': '4015714721916972', 'clusterId': 931}, {'clientId': '4805783504443516', 'clusterId': 932}, {'clientId': '4107954285236453', 'clusterId': 933}, {'clientId': '4198532787675947', 'clusterId': 934}, {'clientId': '4386555173892299', 'clusterId': 935}, {'clientId': '4809286751379629', 'clusterId': 936}, {'clientId': '4694439888187534', 'clusterId': 937}, {'clientId': '4483509130835620', 'clusterId': 938}, {'clientId': '4993747095331333', 'clusterId': 939}, {'clientId': '4752722593636021', 'clusterId': 940}, {'clientId': '4039634307895691', 'clusterId': 941}, {'clientId': '4024429739148687', 'clusterId': 942}, {'clientId': '4235443286573523', 'clusterId': 943}, {'clientId': '4170173474945343', 'clusterId': 944}, {'clientId': '4387509405843918', 'clusterId': 945}, {'clientId': '4082641543252021', 'clusterId': 946}, {'clientId': '4149050207044107', 'clusterId': 947}, {'clientId': '4371214081495087', 'clusterId': 948}, {'clientId': '4900131088333295', 'clusterId': 949}, {'clientId': '4232111818432269', 'clusterId': 950}, {'clientId': '4298294551617451', 'clusterId': 951}, {'clientId': '4846772658311588', 'clusterId': 952}, {'clientId': '4834718447760167', 'clusterId': 953}, {'clientId': '4203306218684700', 'clusterId': 954}, {'clientId': '4963689508202048', 'clusterId': 955}, {'clientId': '4007526819838201', 'clusterId': 956}, {'clientId': '4004402468350190', 'clusterId': 957}, {'clientId': '4806978682851121', 'clusterId': 958}, {'clientId': '4137325652726828', 'clusterId': 959}, {'clientId': '4934098403980995', 'clusterId': 960}, {'clientId': '4270141440252713', 'clusterId': 961}, {'clientId': '4739980883421714', 'clusterId': 962}, {'clientId': '4179026139946521', 'clusterId': 963}, {'clientId': '4001149930504564', 'clusterId': 964}, {'clientId': '4348122656090664', 'clusterId': 965}, {'clientId': '4234724144853491', 'clusterId': 966}, {'clientId': '4539417103703292', 'clusterId': 967}, {'clientId': '4316386718167376', 'clusterId': 968}, {'clientId': '4887819291452970', 'clusterId': 969}, {'clientId': '4280167465879161', 'clusterId': 970}, {'clientId': '4623765097326505', 'clusterId': 971}, {'clientId': '4226556058893257', 'clusterId': 972}, {'clientId': '4510674982389113', 'clusterId': 973}, {'clientId': '4540716397390410', 'clusterId': 974}, {'clientId': '4307638120600654', 'clusterId': 975}, {'clientId': '4575958981945724', 'clusterId': 976}, {'clientId': '4964749588140242', 'clusterId': 977}, {'clientId': '4011770730832406', 'clusterId': 978}, {'clientId': '4230056404903136', 'clusterId': 979}, {'clientId': '4593179789566764', 'clusterId': 980}, {'clientId': '4578015134929506', 'clusterId': 981}, {'clientId': '4415176859910191', 'clusterId': 982}, {'clientId': '4456335999570949', 'clusterId': 983}, {'clientId': '4375719381945421', 'clusterId': 984}, {'clientId': '4742139769818353', 'clusterId': 985}, {'clientId': '4728818942296953', 'clusterId': 986}, {'clientId': '4385660121723504', 'clusterId': 987}, {'clientId': '4047762628302954', 'clusterId': 988}, {'clientId': '4208789390226785', 'clusterId': 989}, {'clientId': '4841062059084710', 'clusterId': 990}, {'clientId': '4843380160073275', 'clusterId': 991}, {'clientId': '4078799066956620', 'clusterId': 992}, {'clientId': '4176073761107009', 'clusterId': 993}, {'clientId': '4278454580216394', 'clusterId': 994}, {'clientId': '4878024437460216', 'clusterId': 995}, {'clientId': '4243900684436637', 'clusterId': 996}, {'clientId': '4318560486628839', 'clusterId': 997}, {'clientId': '4686578287559460', 'clusterId': 998}, {'clientId': '4338160674472854', 'clusterId': 999}, {'clientId': '4230363509724411', 'clusterId': 1000}, {'clientId': '4042581988218138', 'clusterId': 1001}, {'clientId': '4131546376807992', 'clusterId': 1002}, {'clientId': '4562649128636780', 'clusterId': 1003}, {'clientId': '4390488488775989', 'clusterId': 1004}, {'clientId': '4951438345377926', 'clusterId': 1005}, {'clientId': '4885099156161147', 'clusterId': 1006}, {'clientId': '4845263057388519', 'clusterId': 1007}, {'clientId': '4166236508913912', 'clusterId': 1008}, {'clientId': '4195206565651841', 'clusterId': 1009}, {'clientId': '4008161366364903', 'clusterId': 1010}, {'clientId': '4867203982111035', 'clusterId': 1011}, {'clientId': '4248007878747103', 'clusterId': 1012}, {'clientId': '4145996590120074', 'clusterId': 1013}, {'clientId': '4597096131434978', 'clusterId': 1014}, {'clientId': '4370117011501786', 'clusterId': 1015}, {'clientId': '4358225624236991', 'clusterId': 1016}, {'clientId': '4963140089929120', 'clusterId': 1017}, {'clientId': '4504666782784715', 'clusterId': 1018}, {'clientId': '4672075047787115', 'clusterId': 1019}, {'clientId': '4169382142859298', 'clusterId': 248}, {'clientId': '4450442476049169', 'clusterId': 1020}, {'clientId': '4295312623429177', 'clusterId': 1021}, {'clientId': '4612395542541772', 'clusterId': 1022}, {'clientId': '4893733572041927', 'clusterId': 1023}, {'clientId': '4370220901477768', 'clusterId': 1024}, {'clientId': '4561437938440762', 'clusterId': 1025}, {'clientId': '4836774265629834', 'clusterId': 1026}, {'clientId': '4950969236765127', 'clusterId': 1027}, {'clientId': '4503303375406131', 'clusterId': 1028}, {'clientId': '4230146293354507', 'clusterId': 1029}, {'clientId': '4486961749218309', 'clusterId': 1030}, {'clientId': '4677326088478998', 'clusterId': 1031}, {'clientId': '4193827762904758', 'clusterId': 1032}, {'clientId': '4151546856266151', 'clusterId': 1033}, {'clientId': '4882788260057737', 'clusterId': 1034}, {'clientId': '4642471688319143', 'clusterId': 1035}, {'clientId': '4146347822222289', 'clusterId': 1036}, {'clientId': '4772543153917296', 'clusterId': 1037}, {'clientId': '4405663691595878', 'clusterId': 1038}, {'clientId': '4192521563874192', 'clusterId': 1039}, {'clientId': '4350418291464628', 'clusterId': 1040}, {'clientId': '4750004389419983', 'clusterId': 1041}, {'clientId': '4525757490469270', 'clusterId': 1042}, {'clientId': '4834646596914550', 'clusterId': 1043}, {'clientId': '4486060408126554', 'clusterId': 1044}, {'clientId': '4052347545748190', 'clusterId': 1045}, {'clientId': '4918343213699157', 'clusterId': 1046}, {'clientId': '4856544462143482', 'clusterId': 1047}, {'clientId': '4137077149282721', 'clusterId': 1048}, {'clientId': '4884662017234261', 'clusterId': 1049}, {'clientId': '4515691426577355', 'clusterId': 1050}, {'clientId': '4456254307687941', 'clusterId': 1051}, {'clientId': '4621597474096522', 'clusterId': 1052}, {'clientId': '4115051091992377', 'clusterId': 1053}, {'clientId': '4772458461978684', 'clusterId': 1054}, {'clientId': '4436194879734967', 'clusterId': 1055}, {'clientId': '4991532746417257', 'clusterId': 1056}, {'clientId': '4230096358042911', 'clusterId': 1057}, {'clientId': '4653962045605873', 'clusterId': 1058}, {'clientId': '4870815441311263', 'clusterId': 1059}, {'clientId': '4800566596498166', 'clusterId': 1060}, {'clientId': '4316704820384079', 'clusterId': 1061}, {'clientId': '4882057737577671', 'clusterId': 1062}, {'clientId': '4834567248309587', 'clusterId': 1063}, {'clientId': '4110707053292610', 'clusterId': 1064}, {'clientId': '4107975997748113', 'clusterId': 1065}, {'clientId': '4818094897165814', 'clusterId': 1066}, {'clientId': '4719423902389723', 'clusterId': 1067}, {'clientId': '4273430064311880', 'clusterId': 1068}, {'clientId': '4589418939493826', 'clusterId': 1069}, {'clientId': '4976752298585330', 'clusterId': 1070}, {'clientId': '4997671785174454', 'clusterId': 1071}, {'clientId': '4629064521796663', 'clusterId': 1072}, {'clientId': '4256588731627797', 'clusterId': 1073}, {'clientId': '4326744419987823', 'clusterId': 1074}, {'clientId': '4559106979240431', 'clusterId': 1075}, {'clientId': '4964710169130028', 'clusterId': 1076}, {'clientId': '4564328280271128', 'clusterId': 1077}, {'clientId': '4013828830140894', 'clusterId': 1078}, {'clientId': '4815146524719869', 'clusterId': 1079}, {'clientId': '4352888749897959', 'clusterId': 1080}, {'clientId': '4696437508008369', 'clusterId': 1081}, {'clientId': '4387329510749979', 'clusterId': 1082}, {'clientId': '4030821741560721', 'clusterId': 1083}, {'clientId': '4661915366438423', 'clusterId': 1084}, {'clientId': '4382738220024264', 'clusterId': 1085}, {'clientId': '4518510086090532', 'clusterId': 1086}, {'clientId': '4895294666556831', 'clusterId': 1087}, {'clientId': '4349077551564198', 'clusterId': 1088}, {'clientId': '4825512698822722', 'clusterId': 1089}, {'clientId': '4224417959118819', 'clusterId': 1090}, {'clientId': '4827564473179990', 'clusterId': 1091}, {'clientId': '4692117359950505', 'clusterId': 1092}, {'clientId': '4119481019264649', 'clusterId': 1093}, {'clientId': '4342111388518874', 'clusterId': 1094}, {'clientId': '4195212681690911', 'clusterId': 1095}, {'clientId': '4135888948246507', 'clusterId': 1096}, {'clientId': '4648682712196422', 'clusterId': 1097}, {'clientId': '4458684716135140', 'clusterId': 1098}, {'clientId': '4186563435518829', 'clusterId': 1099}, {'clientId': '4086285984756219', 'clusterId': 1100}, {'clientId': '4841899313386823', 'clusterId': 1101}, {'clientId': '4766297195112378', 'clusterId': 1102}, {'clientId': '4989275623997884', 'clusterId': 1103}, {'clientId': '4711938892726327', 'clusterId': 1104}, {'clientId': '4059704076258911', 'clusterId': 1105}, {'clientId': '4695047362272398', 'clusterId': 1106}, {'clientId': '4226935915697053', 'clusterId': 1107}, {'clientId': '4321624857416748', 'clusterId': 1108}, {'clientId': '4135419198928899', 'clusterId': 1109}, {'clientId': '4951979266264023', 'clusterId': 1110}, {'clientId': '4672081543965841', 'clusterId': 1111}, {'clientId': '4321318101326502', 'clusterId': 1112}, {'clientId': '4254578269157905', 'clusterId': 1113}, {'clientId': '4847411402073389', 'clusterId': 1114}, {'clientId': '4869970753760673', 'clusterId': 1115}, {'clientId': '4991498447968941', 'clusterId': 1116}, {'clientId': '4931370910123481', 'clusterId': 1117}, {'clientId': '4620649717717215', 'clusterId': 1118}, {'clientId': '4088435550452291', 'clusterId': 1119}, {'clientId': '4770164352328417', 'clusterId': 1120}, {'clientId': '4178229456910929', 'clusterId': 1121}, {'clientId': '4264666574432499', 'clusterId': 1122}, {'clientId': '4360146634223256', 'clusterId': 1123}, {'clientId': '4209636465874776', 'clusterId': 1124}, {'clientId': '4911670808483325', 'clusterId': 1125}, {'clientId': '4124724906656614', 'clusterId': 1126}, {'clientId': '4567042350433370', 'clusterId': 1127}, {'clientId': '4437209450665015', 'clusterId': 1128}, {'clientId': '4052596727687044', 'clusterId': 1129}, {'clientId': '4356039973793466', 'clusterId': 1130}, {'clientId': '4550629785893522', 'clusterId': 1131}, {'clientId': '4654909209938730', 'clusterId': 1132}, {'clientId': '4024526789983523', 'clusterId': 1133}, {'clientId': '4725050851368911', 'clusterId': 1134}, {'clientId': '4930615682257201', 'clusterId': 1135}, {'clientId': '4982001726595707', 'clusterId': 1136}, {'clientId': '4575168889864635', 'clusterId': 1137}, {'clientId': '4700212806834855', 'clusterId': 1138}, {'clientId': '4347462283935266', 'clusterId': 1139}, {'clientId': '4059703180638141', 'clusterId': 1140}, {'clientId': '4739819905641679', 'clusterId': 1141}, {'clientId': '4328404899328703', 'clusterId': 1142}, {'clientId': '4975225106927029', 'clusterId': 1143}, {'clientId': '4036049930434508', 'clusterId': 1144}, {'clientId': '4757530215973036', 'clusterId': 1145}, {'clientId': '4637154137689491', 'clusterId': 1146}, {'clientId': '4920554508949687', 'clusterId': 1147}, {'clientId': '4588791053427551', 'clusterId': 1148}, {'clientId': '4976215772368417', 'clusterId': 1149}, {'clientId': '4266861248319937', 'clusterId': 1150}, {'clientId': '4336959497469563', 'clusterId': 1151}, {'clientId': '4770282368727818', 'clusterId': 1152}, {'clientId': '4963867416936705', 'clusterId': 1153}, {'clientId': '4564922345410927', 'clusterId': 1154}, {'clientId': '4456637322841297', 'clusterId': 1155}, {'clientId': '4767772951805265', 'clusterId': 1156}, {'clientId': '4107928131327591', 'clusterId': 1157}, {'clientId': '4909575165459384', 'clusterId': 1158}, {'clientId': '4349266284998738', 'clusterId': 1159}, {'clientId': '4657005281123387', 'clusterId': 1160}, {'clientId': '4426000369770696', 'clusterId': 1161}, {'clientId': '4709830340596325', 'clusterId': 1162}, {'clientId': '4986637213895294', 'clusterId': 1163}, {'clientId': '4307382951606890', 'clusterId': 1164}, {'clientId': '4114436431839928', 'clusterId': 1165}, {'clientId': '4168348945489535', 'clusterId': 1166}, {'clientId': '4917909827967122', 'clusterId': 1167}, {'clientId': '4290407681159925', 'clusterId': 1168}, {'clientId': '4948163993122012', 'clusterId': 1169}, {'clientId': '4807566613124111', 'clusterId': 1170}, {'clientId': '4922624171273000', 'clusterId': 1171}, {'clientId': '4448294459058245', 'clusterId': 1172}, {'clientId': '4364166107131030', 'clusterId': 1173}, {'clientId': '4395404142368017', 'clusterId': 1174}, {'clientId': '4847160830981271', 'clusterId': 1175}, {'clientId': '4309672185005481', 'clusterId': 1176}, {'clientId': '4265149051946975', 'clusterId': 1177}, {'clientId': '4114147689535601', 'clusterId': 1178}, {'clientId': '4511200347399248', 'clusterId': 1179}, {'clientId': '4461377580612899', 'clusterId': 1180}, {'clientId': '4000993103809420', 'clusterId': 1181}, {'clientId': '4584696192694066', 'clusterId': 1182}, {'clientId': '4179413840095816', 'clusterId': 1183}, {'clientId': '4341412906859118', 'clusterId': 1184}, {'clientId': '4092746152536891', 'clusterId': 1185}, {'clientId': '4956909247603432', 'clusterId': 1186}, {'clientId': '4487879444215504', 'clusterId': 1187}, {'clientId': '4570979534270282', 'clusterId': 1188}, {'clientId': '4160060270436274', 'clusterId': 1189}, {'clientId': '4422355678821257', 'clusterId': 1190}, {'clientId': '4519928439200609', 'clusterId': 1191}, {'clientId': '4686156166536303', 'clusterId': 1192}, {'clientId': '4380178711815718', 'clusterId': 1193}, {'clientId': '4194203502569856', 'clusterId': 1194}, {'clientId': '4324735756206092', 'clusterId': 1195}, {'clientId': '4047230665182549', 'clusterId': 1196}, {'clientId': '4808107783255507', 'clusterId': 1197}, {'clientId': '4220834532087481', 'clusterId': 1198}, {'clientId': '4972828925924912', 'clusterId': 1199}, {'clientId': '4238294033194528', 'clusterId': 1200}, {'clientId': '4858800755769088', 'clusterId': 1201}, {'clientId': '4995875809999562', 'clusterId': 1202}, {'clientId': '4848061106842693', 'clusterId': 1203}, {'clientId': '4634571023310309', 'clusterId': 1204}, {'clientId': '4524328810982284', 'clusterId': 1205}, {'clientId': '4013209345672434', 'clusterId': 1206}, {'clientId': '4465530495148088', 'clusterId': 1207}, {'clientId': '4328769866699199', 'clusterId': 1208}, {'clientId': '4340405198958235', 'clusterId': 1209}, {'clientId': '4412554038693495', 'clusterId': 1210}, {'clientId': '4216107783960110', 'clusterId': 1211}, {'clientId': '4009103765751776', 'clusterId': 1212}, {'clientId': '4682791144225811', 'clusterId': 1213}, {'clientId': '4264016456135952', 'clusterId': 1214}, {'clientId': '4915335434643942', 'clusterId': 1215}, {'clientId': '4017137390514282', 'clusterId': 1216}, {'clientId': '4876527004188608', 'clusterId': 1217}, {'clientId': '4328984307752719', 'clusterId': 1218}, {'clientId': '4959335978657438', 'clusterId': 1219}, {'clientId': '4060783466984911', 'clusterId': 1220}, {'clientId': '4488568044772423', 'clusterId': 1221}, {'clientId': '4063673943459586', 'clusterId': 1222}, {'clientId': '4749512829779968', 'clusterId': 1223}, {'clientId': '4228634233572035', 'clusterId': 1224}, {'clientId': '4729452029808248', 'clusterId': 1225}, {'clientId': '4834637782926987', 'clusterId': 1226}, {'clientId': '4411089852601515', 'clusterId': 1227}, {'clientId': '4322938960971715', 'clusterId': 1228}, {'clientId': '4604624692628075', 'clusterId': 1229}, {'clientId': '4827757738917176', 'clusterId': 1230}, {'clientId': '4819854121184496', 'clusterId': 1231}, {'clientId': '4888039251504285', 'clusterId': 1232}, {'clientId': '4203324654036079', 'clusterId': 1233}, {'clientId': '4150135489046726', 'clusterId': 1234}, {'clientId': '4861535542993592', 'clusterId': 1235}, {'clientId': '4706179717802343', 'clusterId': 1236}, {'clientId': '4956667287796942', 'clusterId': 1237}, {'clientId': '4925242463013245', 'clusterId': 1238}, {'clientId': '4548790683196817', 'clusterId': 1239}, {'clientId': '4633027882036700', 'clusterId': 1240}, {'clientId': '4423647577778318', 'clusterId': 1241}, {'clientId': '4561883288415377', 'clusterId': 1242}, {'clientId': '4584187250262038', 'clusterId': 1243}, {'clientId': '4049200651349475', 'clusterId': 1244}, {'clientId': '4752245280005235', 'clusterId': 1245}, {'clientId': '4214079774424244', 'clusterId': 1246}, {'clientId': '4938641226835361', 'clusterId': 1247}, {'clientId': '4015090959820644', 'clusterId': 1248}, {'clientId': '4088750945250006', 'clusterId': 1249}, {'clientId': '4218342513039426', 'clusterId': 1250}, {'clientId': '4822158147335644', 'clusterId': 1251}, {'clientId': '4327691648990988', 'clusterId': 1252}, {'clientId': '4778200748658943', 'clusterId': 1253}, {'clientId': '4971975992319640', 'clusterId': 1254}, {'clientId': '4840966068222965', 'clusterId': 1255}, {'clientId': '4517708433459449', 'clusterId': 1256}, {'clientId': '4204013315774546', 'clusterId': 1257}, {'clientId': '4346497644160684', 'clusterId': 1258}, {'clientId': '4805005750793331', 'clusterId': 1259}, {'clientId': '4625396482469532', 'clusterId': 1260}, {'clientId': '4019836679930675', 'clusterId': 1261}, {'clientId': '4553880854529862', 'clusterId': 1262}, {'clientId': '4310243194634948', 'clusterId': 1263}, {'clientId': '4949602892176727', 'clusterId': 1264}, {'clientId': '4204508218907218', 'clusterId': 1265}, {'clientId': '4659891315729986', 'clusterId': 1266}, {'clientId': '4674470356178550', 'clusterId': 1267}, {'clientId': '4163124040983093', 'clusterId': 1268}, {'clientId': '4774007706655660', 'clusterId': 1269}, {'clientId': '4159842175694005', 'clusterId': 1270}, {'clientId': '4600707836204616', 'clusterId': 1271}, {'clientId': '4453257377625629', 'clusterId': 1272}, {'clientId': '4339705571797750', 'clusterId': 1273}, {'clientId': '4005846496684047', 'clusterId': 1274}, {'clientId': '4411839529314045', 'clusterId': 1275}, {'clientId': '4727615808051212', 'clusterId': 1276}, {'clientId': '4823025259284192', 'clusterId': 1277}, {'clientId': '4252994568796909', 'clusterId': 1278}, {'clientId': '4173049893653089', 'clusterId': 1279}, {'clientId': '4602269847075830', 'clusterId': 1280}, {'clientId': '4652772139296674', 'clusterId': 1281}, {'clientId': '4711909536316387', 'clusterId': 1282}, {'clientId': '4207905462908354', 'clusterId': 1283}, {'clientId': '4449276305351394', 'clusterId': 1284}, {'clientId': '4986474437798652', 'clusterId': 1285}, {'clientId': '4578004566415549', 'clusterId': 1286}, {'clientId': '4255169706394605', 'clusterId': 1287}, {'clientId': '4080289439071485', 'clusterId': 1288}, {'clientId': '4208792427374990', 'clusterId': 1289}, {'clientId': '4272724311428690', 'clusterId': 1290}, {'clientId': '4529706962323420', 'clusterId': 1291}, {'clientId': '4056146987004187', 'clusterId': 1292}, {'clientId': '4760084275165997', 'clusterId': 1293}, {'clientId': '4419905719213818', 'clusterId': 1294}, {'clientId': '4970916262114239', 'clusterId': 1295}, {'clientId': '4976282147794024', 'clusterId': 1296}, {'clientId': '4815657662883218', 'clusterId': 1297}, {'clientId': '4118664888528365', 'clusterId': 1298}, {'clientId': '4490664258627894', 'clusterId': 1299}, {'clientId': '4501013023244923', 'clusterId': 1300}, {'clientId': '4353896741514307', 'clusterId': 1301}, {'clientId': '4298388109138844', 'clusterId': 1302}, {'clientId': '4914220265773714', 'clusterId': 1303}, {'clientId': '4584058429906435', 'clusterId': 1304}, {'clientId': '4808915565579740', 'clusterId': 1305}, {'clientId': '4798523608603212', 'clusterId': 1306}, {'clientId': '4000200289284091', 'clusterId': 1307}, {'clientId': '4246299551896545', 'clusterId': 1308}, {'clientId': '4506508607873778', 'clusterId': 1309}, {'clientId': '4256421553848616', 'clusterId': 1310}, {'clientId': '4015523095379133', 'clusterId': 1311}, {'clientId': '4563516774959312', 'clusterId': 1312}, {'clientId': '4864417389875090', 'clusterId': 1313}, {'clientId': '4286029577080100', 'clusterId': 1314}, {'clientId': '4858997846628602', 'clusterId': 1315}, {'clientId': '4327750510439167', 'clusterId': 1316}, {'clientId': '4053432809874830', 'clusterId': 1317}, {'clientId': '4029156581893368', 'clusterId': 1318}, {'clientId': '4074967343552694', 'clusterId': 1319}, {'clientId': '4145334574670908', 'clusterId': 1320}, {'clientId': '4051038909193245', 'clusterId': 1321}, {'clientId': '4702116558728132', 'clusterId': 1322}, {'clientId': '4946920103646483', 'clusterId': 1323}, {'clientId': '4145684166910686', 'clusterId': 1324}, {'clientId': '4221309110664166', 'clusterId': 1325}, {'clientId': '4031621610469320', 'clusterId': 1326}, {'clientId': '4654163104584708', 'clusterId': 1327}, {'clientId': '4283447522019283', 'clusterId': 1328}, {'clientId': '4373512672304172', 'clusterId': 1329}, {'clientId': '4233823396848893', 'clusterId': 1330}, {'clientId': '4940032948570633', 'clusterId': 1331}, {'clientId': '4835115022523590', 'clusterId': 1332}, {'clientId': '4628307357712481', 'clusterId': 1333}, {'clientId': '4214829245001660', 'clusterId': 1334}, {'clientId': '4822442261285391', 'clusterId': 1335}, {'clientId': '4352862408771581', 'clusterId': 1336}, {'clientId': '4580907781492018', 'clusterId': 1337}, {'clientId': '4939336847342736', 'clusterId': 1338}, {'clientId': '4680753966947239', 'clusterId': 1339}, {'clientId': '4948446803440355', 'clusterId': 1340}, {'clientId': '4467315140396730', 'clusterId': 1341}, {'clientId': '4344784255453967', 'clusterId': 1342}, {'clientId': '4585393190467880', 'clusterId': 1343}, {'clientId': '4179641078216262', 'clusterId': 1344}, {'clientId': '4540914658095717', 'clusterId': 1345}, {'clientId': '4508076173148411', 'clusterId': 1346}, {'clientId': '4442146639539526', 'clusterId': 1347}, {'clientId': '4203858720325388', 'clusterId': 1348}, {'clientId': '4274559721069231', 'clusterId': 1349}, {'clientId': '4961678435670932', 'clusterId': 1350}, {'clientId': '4559921541494807', 'clusterId': 1351}, {'clientId': '4322469024644312', 'clusterId': 1352}, {'clientId': '4162800883015884', 'clusterId': 1353}, {'clientId': '4073724588023597', 'clusterId': 1354}, {'clientId': '4790841090768451', 'clusterId': 1355}, {'clientId': '4228438177839982', 'clusterId': 1356}, {'clientId': '4666311203611809', 'clusterId': 1357}, {'clientId': '4081906360340881', 'clusterId': 1358}, {'clientId': '4483472457851573', 'clusterId': 1359}, {'clientId': '4093572396893156', 'clusterId': 1360}, {'clientId': '4467845381053756', 'clusterId': 1361}, {'clientId': '4660586548098186', 'clusterId': 1362}, {'clientId': '4285446316312324', 'clusterId': 1363}, {'clientId': '4934364646752843', 'clusterId': 1364}, {'clientId': '4550545065634388', 'clusterId': 1365}, {'clientId': '4628239131436758', 'clusterId': 1366}, {'clientId': '4218195259525705', 'clusterId': 1367}, {'clientId': '4698010144993670', 'clusterId': 1368}, {'clientId': '4302322848372194', 'clusterId': 1369}, {'clientId': '4658568889395318', 'clusterId': 1370}, {'clientId': '4626760824350990', 'clusterId': 1371}, {'clientId': '4888279407371649', 'clusterId': 1372}, {'clientId': '4937487349191451', 'clusterId': 1373}, {'clientId': '4769446062256662', 'clusterId': 1374}, {'clientId': '4042196809956038', 'clusterId': 1375}, {'clientId': '4405077464840108', 'clusterId': 1376}, {'clientId': '4640482032194647', 'clusterId': 1377}, {'clientId': '4568431200120676', 'clusterId': 1378}, {'clientId': '4282797327810448', 'clusterId': 1379}, {'clientId': '4893244109025540', 'clusterId': 1380}, {'clientId': '4632531275938100', 'clusterId': 1381}, {'clientId': '4382587812928410', 'clusterId': 1382}, {'clientId': '4835957408879413', 'clusterId': 1383}, {'clientId': '4905732849168451', 'clusterId': 1384}, {'clientId': '4835509729409899', 'clusterId': 1385}, {'clientId': '4989108127680500', 'clusterId': 1386}, {'clientId': '4570114996815826', 'clusterId': 1387}, {'clientId': '4678153976841411', 'clusterId': 1388}, {'clientId': '4639744425975574', 'clusterId': 1389}, {'clientId': '4959303255431430', 'clusterId': 1390}, {'clientId': '4692282476966923', 'clusterId': 1391}, {'clientId': '4487906192461988', 'clusterId': 1392}, {'clientId': '4205146677897981', 'clusterId': 1393}, {'clientId': '4440838010962317', 'clusterId': 1394}, {'clientId': '4588038582129252', 'clusterId': 1395}, {'clientId': '4064634365990333', 'clusterId': 1396}, {'clientId': '4562292512453528', 'clusterId': 1397}, {'clientId': '4001168914437963', 'clusterId': 1398}, {'clientId': '4755827775480333', 'clusterId': 1399}, {'clientId': '4984946286022153', 'clusterId': 1400}, {'clientId': '4924055408912458', 'clusterId': 1401}, {'clientId': '4804394567773319', 'clusterId': 1402}, {'clientId': '4312715554618148', 'clusterId': 1403}, {'clientId': '4144722599608617', 'clusterId': 1404}, {'clientId': '4683809290865914', 'clusterId': 1405}, {'clientId': '4810300910752886', 'clusterId': 1406}, {'clientId': '4903814051314882', 'clusterId': 1407}, {'clientId': '4168587080900059', 'clusterId': 1408}, {'clientId': '4496324715029887', 'clusterId': 1409}, {'clientId': '4604965470894946', 'clusterId': 1410}, {'clientId': '4765820521531598', 'clusterId': 1411}, {'clientId': '4813883894056678', 'clusterId': 1412}, {'clientId': '4258486341636621', 'clusterId': 1413}, {'clientId': '4541270922269672', 'clusterId': 1414}, {'clientId': '4122935511208888', 'clusterId': 1415}, {'clientId': '4824947792847004', 'clusterId': 1416}, {'clientId': '4496797257145809', 'clusterId': 1417}, {'clientId': '4182365670231991', 'clusterId': 1418}, {'clientId': '4945570529923874', 'clusterId': 1419}, {'clientId': '4687154999466359', 'clusterId': 1420}, {'clientId': '4411803055310603', 'clusterId': 1421}, {'clientId': '4026375382847125', 'clusterId': 1422}, {'clientId': '4530651224418773', 'clusterId': 1423}, {'clientId': '4279014409292353', 'clusterId': 1424}, {'clientId': '4780958780338825', 'clusterId': 1425}, {'clientId': '4853052440796606', 'clusterId': 1426}, {'clientId': '4685947870229941', 'clusterId': 1427}, {'clientId': '4015677959320680', 'clusterId': 1428}, {'clientId': '4863119581708431', 'clusterId': 1429}, {'clientId': '4690031616323988', 'clusterId': 1430}, {'clientId': '4814813266303902', 'clusterId': 1431}, {'clientId': '4045694640373816', 'clusterId': 1432}, {'clientId': '4049009017053287', 'clusterId': 1433}, {'clientId': '4714066972032338', 'clusterId': 1434}, {'clientId': '4663670058901125', 'clusterId': 1435}, {'clientId': '4123956588711124', 'clusterId': 1436}, {'clientId': '4946952073039738', 'clusterId': 1437}, {'clientId': '4031972301490301', 'clusterId': 1438}, {'clientId': '4146761821474586', 'clusterId': 1439}, {'clientId': '4280266824391700', 'clusterId': 1440}, {'clientId': '4270533001947675', 'clusterId': 1441}, {'clientId': '4173268934270394', 'clusterId': 1442}, {'clientId': '4883908397222777', 'clusterId': 1443}, {'clientId': '4348168441848718', 'clusterId': 1444}, {'clientId': '4853849424179042', 'clusterId': 1445}, {'clientId': '4127289763465399', 'clusterId': 1446}, {'clientId': '4754537156269301', 'clusterId': 1447}, {'clientId': '4212823382024041', 'clusterId': 1448}, {'clientId': '4100153004764930', 'clusterId': 1449}, {'clientId': '4132942201154016', 'clusterId': 1450}, {'clientId': '4576149016617996', 'clusterId': 1451}, {'clientId': '4286723806692905', 'clusterId': 1452}, {'clientId': '4353413816598379', 'clusterId': 1453}, {'clientId': '4515328851783097', 'clusterId': 1454}, {'clientId': '4925137284086125', 'clusterId': 1455}, {'clientId': '4332090864331659', 'clusterId': 1456}, {'clientId': '4613420618120639', 'clusterId': 1457}, {'clientId': '4437667540582781', 'clusterId': 1458}, {'clientId': '4689417493142752', 'clusterId': 1459}, {'clientId': '4336694887343249', 'clusterId': 1460}, {'clientId': '4887695031875591', 'clusterId': 1461}, {'clientId': '4788270019236495', 'clusterId': 1462}, {'clientId': '4577350193283045', 'clusterId': 1463}, {'clientId': '4413750748481200', 'clusterId': 1464}, {'clientId': '4590581789980577', 'clusterId': 1465}, {'clientId': '4207032310222100', 'clusterId': 1466}, {'clientId': '4995831941316108', 'clusterId': 1467}, {'clientId': '4749839105699267', 'clusterId': 1468}, {'clientId': '4824801522583191', 'clusterId': 1469}, {'clientId': '4757878960397939', 'clusterId': 1470}, {'clientId': '4618952338885609', 'clusterId': 1471}, {'clientId': '4172867619069624', 'clusterId': 1472}, {'clientId': '4594371434886163', 'clusterId': 1473}, {'clientId': '4101522848741685', 'clusterId': 1474}, {'clientId': '4279421832062933', 'clusterId': 1475}, {'clientId': '4881845494693140', 'clusterId': 1476}, {'clientId': '4522720634536100', 'clusterId': 1477}, {'clientId': '4136158173039848', 'clusterId': 1478}, {'clientId': '4299711134381833', 'clusterId': 1479}, {'clientId': '4862456059834641', 'clusterId': 1480}, {'clientId': '4462155348606406', 'clusterId': 1481}, {'clientId': '4760110529191081', 'clusterId': 1482}, {'clientId': '4378936775239370', 'clusterId': 1483}, {'clientId': '4923061848211304', 'clusterId': 1484}, {'clientId': '4782844638544129', 'clusterId': 1485}, {'clientId': '4210225112493730', 'clusterId': 1486}, {'clientId': '4071976060289904', 'clusterId': 1487}, {'clientId': '4127051141894736', 'clusterId': 1488}, {'clientId': '4692616245980733', 'clusterId': 1489}, {'clientId': '4981215716321053', 'clusterId': 1490}, {'clientId': '4735570878842505', 'clusterId': 1491}, {'clientId': '4020745974826255', 'clusterId': 1492}, {'clientId': '4416837452147544', 'clusterId': 1493}, {'clientId': '4467167988779778', 'clusterId': 1494}, {'clientId': '4597714409434716', 'clusterId': 1495}, {'clientId': '4832539262538971', 'clusterId': 1496}, {'clientId': '4862340226416146', 'clusterId': 1497}, {'clientId': '4498343256191987', 'clusterId': 1498}, {'clientId': '4249182331643618', 'clusterId': 1499}, {'clientId': '4446145778581105', 'clusterId': 1500}, {'clientId': '4449479760964186', 'clusterId': 1501}, {'clientId': '4458281672502882', 'clusterId': 1502}, {'clientId': '4175857445621125', 'clusterId': 1503}, {'clientId': '4606131300805093', 'clusterId': 1504}, {'clientId': '4715887339989384', 'clusterId': 1505}, {'clientId': '4506058713164514', 'clusterId': 1506}, {'clientId': '4164849397673934', 'clusterId': 1507}, {'clientId': '4920328241569684', 'clusterId': 1508}, {'clientId': '4799053933468445', 'clusterId': 1509}, {'clientId': '4374857685053624', 'clusterId': 1510}, {'clientId': '4435911420197167', 'clusterId': 1511}, {'clientId': '4645607898657965', 'clusterId': 1512}, {'clientId': '4215443145842253', 'clusterId': 1513}, {'clientId': '4676138830324516', 'clusterId': 1514}, {'clientId': '4855216071934137', 'clusterId': 1515}, {'clientId': '4774636087405798', 'clusterId': 1516}, {'clientId': '4265249543783489', 'clusterId': 1517}, {'clientId': '4380775285562707', 'clusterId': 1518}, {'clientId': '4950521182450491', 'clusterId': 1519}, {'clientId': '4129838411111264', 'clusterId': 1520}, {'clientId': '4589167578763797', 'clusterId': 1521}, {'clientId': '4848664099013659', 'clusterId': 1522}, {'clientId': '4743989309946927', 'clusterId': 1523}, {'clientId': '4616409443305819', 'clusterId': 1524}, {'clientId': '4680410518333679', 'clusterId': 1525}, {'clientId': '4864892710231330', 'clusterId': 1526}, {'clientId': '4838942671142324', 'clusterId': 1527}, {'clientId': '4906574064598676', 'clusterId': 1528}, {'clientId': '4354618697676628', 'clusterId': 1529}, {'clientId': '4613624677289504', 'clusterId': 1530}, {'clientId': '4367057557357547', 'clusterId': 1531}, {'clientId': '4175742432154217', 'clusterId': 1532}, {'clientId': '4039066863455273', 'clusterId': 1533}, {'clientId': '4787911178188602', 'clusterId': 1534}, {'clientId': '4716226367856323', 'clusterId': 1535}, {'clientId': '4336776955708187', 'clusterId': 1536}, {'clientId': '4311463377761503', 'clusterId': 1537}, {'clientId': '4845764375248947', 'clusterId': 1538}, {'clientId': '4754359537571184', 'clusterId': 1539}, {'clientId': '4937610779719638', 'clusterId': 1540}, {'clientId': '4056444932522795', 'clusterId': 1541}, {'clientId': '4777446725804270', 'clusterId': 334}, {'clientId': '4570467771017392', 'clusterId': 1542}, {'clientId': '4514015427227136', 'clusterId': 1543}, {'clientId': '4295943528511063', 'clusterId': 1544}, {'clientId': '4806725985515238', 'clusterId': 1545}, {'clientId': '4466127844721092', 'clusterId': 1546}, {'clientId': '4757317576297829', 'clusterId': 1547}, {'clientId': '4173911621136218', 'clusterId': 1548}, {'clientId': '4585814638933100', 'clusterId': 1549}, {'clientId': '4010085292810570', 'clusterId': 1550}, {'clientId': '4891055008465864', 'clusterId': 1551}, {'clientId': '4353236538423828', 'clusterId': 1552}, {'clientId': '4746348526150754', 'clusterId': 1553}, {'clientId': '4871962801593566', 'clusterId': 1554}, {'clientId': '4770462411740410', 'clusterId': 1555}, {'clientId': '4669116700761990', 'clusterId': 1556}, {'clientId': '4124975818053106', 'clusterId': 1557}, {'clientId': '4980328988698172', 'clusterId': 1558}, {'clientId': '4376984094262063', 'clusterId': 1559}, {'clientId': '4125097539211407', 'clusterId': 1560}, {'clientId': '4521413569707661', 'clusterId': 1561}, {'clientId': '4142471603749460', 'clusterId': 1562}, {'clientId': '4696975804488470', 'clusterId': 1563}, {'clientId': '4087726762668109', 'clusterId': 1564}, {'clientId': '4654711558663038', 'clusterId': 1565}, {'clientId': '4742108624138836', 'clusterId': 1566}, {'clientId': '4531558369165839', 'clusterId': 1567}, {'clientId': '4357606368290669', 'clusterId': 1568}, {'clientId': '4824311570423563', 'clusterId': 1569}, {'clientId': '4563020006662422', 'clusterId': 1570}, {'clientId': '4107647400305886', 'clusterId': 1571}, {'clientId': '4229338735024524', 'clusterId': 1572}, {'clientId': '4401030505102370', 'clusterId': 1573}, {'clientId': '4218727071178360', 'clusterId': 1574}, {'clientId': '4864699680324056', 'clusterId': 1575}, {'clientId': '4265060600968297', 'clusterId': 1576}, {'clientId': '4633127854858527', 'clusterId': 1577}, {'clientId': '4497280020080248', 'clusterId': 1578}, {'clientId': '4443953814823479', 'clusterId': 1579}, {'clientId': '4185474510988914', 'clusterId': 1580}, {'clientId': '4707009049901290', 'clusterId': 1581}, {'clientId': '4623993605866552', 'clusterId': 1582}, {'clientId': '4078990103284700', 'clusterId': 1583}, {'clientId': '4227250760721555', 'clusterId': 1584}, {'clientId': '4186433367318608', 'clusterId': 1585}, {'clientId': '4119429647707018', 'clusterId': 1586}, {'clientId': '4863136615234283', 'clusterId': 1587}, {'clientId': '4968719956177437', 'clusterId': 1588}, {'clientId': '4013141720611556', 'clusterId': 1589}, {'clientId': '4618560485773856', 'clusterId': 1590}, {'clientId': '4640928969926278', 'clusterId': 1591}, {'clientId': '4926931204977713', 'clusterId': 1592}, {'clientId': '4615546375737369', 'clusterId': 1593}, {'clientId': '4463459721222578', 'clusterId': 1594}, {'clientId': '4080300483501978', 'clusterId': 1595}, {'clientId': '4113315213210352', 'clusterId': 1596}, {'clientId': '4463217636250609', 'clusterId': 1597}, {'clientId': '4734417967241093', 'clusterId': 1598}, {'clientId': '4074138262189625', 'clusterId': 1599}, {'clientId': '4160193254497465', 'clusterId': 1600}, {'clientId': '4820806028003176', 'clusterId': 1601}, {'clientId': '4614268699856913', 'clusterId': 1602}, {'clientId': '4736817063166235', 'clusterId': 1603}, {'clientId': '4176137367248077', 'clusterId': 1604}, {'clientId': '4341960424103963', 'clusterId': 1605}, {'clientId': '4303167653491913', 'clusterId': 1606}, {'clientId': '4388030061382884', 'clusterId': 1607}, {'clientId': '4950456305586584', 'clusterId': 1608}, {'clientId': '4187387301720742', 'clusterId': 1609}, {'clientId': '4784383404129946', 'clusterId': 1610}, {'clientId': '4102117185969277', 'clusterId': 1611}, {'clientId': '4981986754765548', 'clusterId': 1612}, {'clientId': '4389053985128232', 'clusterId': 1613}, {'clientId': '4309374697394871', 'clusterId': 1614}, {'clientId': '4186513164936510', 'clusterId': 1615}, {'clientId': '4513761441422929', 'clusterId': 1616}, {'clientId': '4299110875473992', 'clusterId': 1617}, {'clientId': '4675011446322136', 'clusterId': 1618}, {'clientId': '4282331294740014', 'clusterId': 1619}, {'clientId': '4903494938984437', 'clusterId': 1620}, {'clientId': '4008511181910001', 'clusterId': 1621}, {'clientId': '4679832504354737', 'clusterId': 1622}, {'clientId': '4426404593838206', 'clusterId': 1623}, {'clientId': '4840737116147664', 'clusterId': 1624}, {'clientId': '4359782417677962', 'clusterId': 1625}, {'clientId': '4425925758272584', 'clusterId': 1626}, {'clientId': '4884186821224268', 'clusterId': 1627}, {'clientId': '4871410366720240', 'clusterId': 1628}, {'clientId': '4074414231799632', 'clusterId': 1629}, {'clientId': '4548544585233800', 'clusterId': 1630}, {'clientId': '4174234755618250', 'clusterId': 1631}, {'clientId': '4418641370354028', 'clusterId': 1632}, {'clientId': '4706706201851590', 'clusterId': 1633}, {'clientId': '4755556238864870', 'clusterId': 1634}, {'clientId': '4799284420260389', 'clusterId': 1635}, {'clientId': '4275500155097586', 'clusterId': 1636}, {'clientId': '4692090828124079', 'clusterId': 1637}, {'clientId': '4971385349309536', 'clusterId': 1638}, {'clientId': '4803783946300003', 'clusterId': 1639}, {'clientId': '4307270963179909', 'clusterId': 1640}, {'clientId': '4875564753419240', 'clusterId': 1641}, {'clientId': '4611370794059758', 'clusterId': 1642}, {'clientId': '4872332242424111', 'clusterId': 1643}, {'clientId': '4299479096341852', 'clusterId': 1644}, {'clientId': '4089155441617782', 'clusterId': 1645}, {'clientId': '4514860144127261', 'clusterId': 1646}, {'clientId': '4414529829048917', 'clusterId': 1647}, {'clientId': '4155563137418184', 'clusterId': 1648}, {'clientId': '4668524791718020', 'clusterId': 1649}, {'clientId': '4256567635663694', 'clusterId': 1650}, {'clientId': '4322747529705229', 'clusterId': 1651}, {'clientId': '4865936227823839', 'clusterId': 1652}, {'clientId': '4915714478494364', 'clusterId': 1653}, {'clientId': '4292027015259130', 'clusterId': 1654}, {'clientId': '4087040422964274', 'clusterId': 1655}, {'clientId': '4978697644081757', 'clusterId': 1656}, {'clientId': '4437422998136288', 'clusterId': 1657}, {'clientId': '4810484211505605', 'clusterId': 1658}, {'clientId': '4491486387587164', 'clusterId': 1659}, {'clientId': '4149457727235042', 'clusterId': 1660}, {'clientId': '4722268760882839', 'clusterId': 1661}, {'clientId': '4057899288962441', 'clusterId': 1662}, {'clientId': '4603213426530525', 'clusterId': 1663}, {'clientId': '4867661282117921', 'clusterId': 1664}, {'clientId': '4557031075591150', 'clusterId': 1665}, {'clientId': '4935341018836635', 'clusterId': 1666}, {'clientId': '4066808009115832', 'clusterId': 1667}, {'clientId': '4112888204138130', 'clusterId': 1668}, {'clientId': '4892796050510037', 'clusterId': 1669}, {'clientId': '4177248342503103', 'clusterId': 1670}, {'clientId': '4282733546081412', 'clusterId': 1671}, {'clientId': '4288767058170373', 'clusterId': 1672}, {'clientId': '4649440179997751', 'clusterId': 1673}, {'clientId': '4335042642265623', 'clusterId': 1674}, {'clientId': '4471313112390439', 'clusterId': 1675}, {'clientId': '4045794013751901', 'clusterId': 1676}, {'clientId': '4374731982075541', 'clusterId': 1677}, {'clientId': '4361482871293515', 'clusterId': 1678}, {'clientId': '4114310186245120', 'clusterId': 1679}, {'clientId': '4756541794966854', 'clusterId': 1680}, {'clientId': '4022001612984074', 'clusterId': 1681}, {'clientId': '4447931685831652', 'clusterId': 1682}, {'clientId': '4047126078373560', 'clusterId': 1683}, {'clientId': '4967827960469756', 'clusterId': 1684}, {'clientId': '4875470760841402', 'clusterId': 1685}, {'clientId': '4099242368295970', 'clusterId': 1686}, {'clientId': '4517145053744877', 'clusterId': 1687}, {'clientId': '4747246621058857', 'clusterId': 1688}, {'clientId': '4247688834203488', 'clusterId': 1689}, {'clientId': '4473904019849515', 'clusterId': 1690}, {'clientId': '4273735746095424', 'clusterId': 1691}, {'clientId': '4302802840685792', 'clusterId': 1692}, {'clientId': '4309905066570144', 'clusterId': 1693}, {'clientId': '4240518953676452', 'clusterId': 1694}, {'clientId': '4215352294038441', 'clusterId': 1695}, {'clientId': '4947232555940128', 'clusterId': 1696}, {'clientId': '4257228464497055', 'clusterId': 1697}, {'clientId': '4311987087788026', 'clusterId': 1698}, {'clientId': '4337853719587592', 'clusterId': 1699}, {'clientId': '4732297422015510', 'clusterId': 1700}, {'clientId': '4788025705568423', 'clusterId': 1701}, {'clientId': '4077891677038392', 'clusterId': 1702}, {'clientId': '4925145534445918', 'clusterId': 1703}, {'clientId': '4955967187150526', 'clusterId': 1704}, {'clientId': '4515075849314762', 'clusterId': 1705}, {'clientId': '4774896255855105', 'clusterId': 1706}, {'clientId': '4327804599198978', 'clusterId': 1707}, {'clientId': '4540577444569962', 'clusterId': 1708}, {'clientId': '4963619723793703', 'clusterId': 1709}, {'clientId': '4662774290020230', 'clusterId': 1710}, {'clientId': '4617917403645486', 'clusterId': 1711}, {'clientId': '4338237814666429', 'clusterId': 1712}, {'clientId': '4412478610579361', 'clusterId': 1713}, {'clientId': '4149045249505370', 'clusterId': 1714}, {'clientId': '4592309260618641', 'clusterId': 1715}, {'clientId': '4090205249215557', 'clusterId': 1716}, {'clientId': '4907142796482442', 'clusterId': 1717}, {'clientId': '4312358316443560', 'clusterId': 1718}, {'clientId': '4262438844922028', 'clusterId': 1719}, {'clientId': '4542162767110583', 'clusterId': 1720}, {'clientId': '4418659172510860', 'clusterId': 1721}, {'clientId': '4797149725054658', 'clusterId': 1722}, {'clientId': '4889632526468242', 'clusterId': 1723}, {'clientId': '4930759562498962', 'clusterId': 1724}, {'clientId': '4916677571140599', 'clusterId': 1725}, {'clientId': '4743760133638109', 'clusterId': 1726}, {'clientId': '4783387100851324', 'clusterId': 1727}, {'clientId': '4612192549299235', 'clusterId': 1728}, {'clientId': '4508739654235375', 'clusterId': 1729}, {'clientId': '4829730039932044', 'clusterId': 1730}, {'clientId': '4787800425998923', 'clusterId': 1731}, {'clientId': '4220694129658692', 'clusterId': 1732}, {'clientId': '4178116064558754', 'clusterId': 1733}, {'clientId': '4541950708857432', 'clusterId': 1734}, {'clientId': '4859108648529704', 'clusterId': 1735}, {'clientId': '4048123569100700', 'clusterId': 1736}, {'clientId': '4722119729540150', 'clusterId': 1737}, {'clientId': '4266219772281694', 'clusterId': 1738}, {'clientId': '4148504057744969', 'clusterId': 1739}, {'clientId': '4072980619986498', 'clusterId': 1740}, {'clientId': '4766124927013841', 'clusterId': 1741}, {'clientId': '4851448634144151', 'clusterId': 1742}, {'clientId': '4744990051105075', 'clusterId': 1743}, {'clientId': '4933794444926960', 'clusterId': 1744}, {'clientId': '4668283246721556', 'clusterId': 1745}, {'clientId': '4930649342359776', 'clusterId': 1746}, {'clientId': '4245317926331625', 'clusterId': 1747}, {'clientId': '4344286978096222', 'clusterId': 1748}, {'clientId': '4396064699576997', 'clusterId': 1749}, {'clientId': '4731657448639711', 'clusterId': 1750}, {'clientId': '4596565043909765', 'clusterId': 1751}, {'clientId': '4540458292655924', 'clusterId': 1752}, {'clientId': '4963381213991145', 'clusterId': 1753}, {'clientId': '4540773491731965', 'clusterId': 1754}, {'clientId': '4458114075326106', 'clusterId': 1755}, {'clientId': '4009865036281276', 'clusterId': 1756}, {'clientId': '4306776392524029', 'clusterId': 1757}, {'clientId': '4853005216397355', 'clusterId': 1758}, {'clientId': '4213240277838741', 'clusterId': 1759}, {'clientId': '4581522433373638', 'clusterId': 1760}, {'clientId': '4721715960684176', 'clusterId': 1761}, {'clientId': '4958878903004078', 'clusterId': 1762}, {'clientId': '4229168605798042', 'clusterId': 1763}, {'clientId': '4766261155349420', 'clusterId': 1764}, {'clientId': '4893420643715784', 'clusterId': 1765}, {'clientId': '4165878495433015', 'clusterId': 1766}, {'clientId': '4536072826730040', 'clusterId': 1767}, {'clientId': '4668965540204665', 'clusterId': 1768}, {'clientId': '4124521944566544', 'clusterId': 1769}, {'clientId': '4697188769127625', 'clusterId': 1770}, {'clientId': '4029043591201321', 'clusterId': 1771}, {'clientId': '4343063345299248', 'clusterId': 1772}, {'clientId': '4606285876093599', 'clusterId': 1773}, {'clientId': '4540510256424414', 'clusterId': 1774}, {'clientId': '4885620504466597', 'clusterId': 1775}, {'clientId': '4358562096347140', 'clusterId': 1776}, {'clientId': '4823478853188378', 'clusterId': 1777}, {'clientId': '4044795992362835', 'clusterId': 1778}, {'clientId': '4568224688918301', 'clusterId': 1779}, {'clientId': '4523124397526425', 'clusterId': 1780}, {'clientId': '4406823346915124', 'clusterId': 1781}, {'clientId': '4266623810926378', 'clusterId': 1782}, {'clientId': '4234297598400754', 'clusterId': 1783}, {'clientId': '4513612156509899', 'clusterId': 1784}, {'clientId': '4315635560555323', 'clusterId': 1785}, {'clientId': '4803141247879557', 'clusterId': 1786}, {'clientId': '4331835020797065', 'clusterId': 1787}, {'clientId': '4067232650820880', 'clusterId': 1788}, {'clientId': '4325442737950786', 'clusterId': 1789}, {'clientId': '4153774706495162', 'clusterId': 1790}, {'clientId': '4852377896592105', 'clusterId': 1791}, {'clientId': '4106640262511551', 'clusterId': 1792}, {'clientId': '4943501882974974', 'clusterId': 1793}, {'clientId': '4763161124198978', 'clusterId': 1794}, {'clientId': '4305578985329126', 'clusterId': 1795}, {'clientId': '4242115916558741', 'clusterId': 1796}, {'clientId': '4963645609055024', 'clusterId': 1797}, {'clientId': '4804716221442529', 'clusterId': 1798}, {'clientId': '4146276877215395', 'clusterId': 1799}, {'clientId': '4955863356824936', 'clusterId': 1800}, {'clientId': '4608876870660488', 'clusterId': 1801}, {'clientId': '4688078594691849', 'clusterId': 1802}, {'clientId': '4956476317184305', 'clusterId': 1803}, {'clientId': '4823502566274298', 'clusterId': 1804}, {'clientId': '4668712017394664', 'clusterId': 1805}, {'clientId': '4496144991338079', 'clusterId': 1806}, {'clientId': '4834263783703315', 'clusterId': 1807}, {'clientId': '4886687937579410', 'clusterId': 1808}, {'clientId': '4571309544691252', 'clusterId': 1809}, {'clientId': '4446139885245787', 'clusterId': 1810}, {'clientId': '4284418784796248', 'clusterId': 1811}, {'clientId': '4408972932246762', 'clusterId': 1812}, {'clientId': '4232457863531228', 'clusterId': 1813}, {'clientId': '4517517414755703', 'clusterId': 1814}, {'clientId': '4204831978823338', 'clusterId': 1815}, {'clientId': '4982923639781134', 'clusterId': 1816}, {'clientId': '4206300688888377', 'clusterId': 1817}, {'clientId': '4098896064459908', 'clusterId': 1818}, {'clientId': '4736723543282891', 'clusterId': 1819}, {'clientId': '4014925537398772', 'clusterId': 1820}, {'clientId': '4643124288058038', 'clusterId': 1821}, {'clientId': '4963433290756725', 'clusterId': 1822}, {'clientId': '4721236798158291', 'clusterId': 1823}, {'clientId': '4962823847789198', 'clusterId': 1824}, {'clientId': '4061805314070582', 'clusterId': 1825}, {'clientId': '4543268726022329', 'clusterId': 1826}, {'clientId': '4254455885416017', 'clusterId': 1827}, {'clientId': '4817101854374809', 'clusterId': 1828}, {'clientId': '4517534114931070', 'clusterId': 1829}, {'clientId': '4875580996042441', 'clusterId': 1830}, {'clientId': '4726422766888524', 'clusterId': 1831}, {'clientId': '4937281413837275', 'clusterId': 1832}, {'clientId': '4189629093610609', 'clusterId': 1833}, {'clientId': '4867940081508203', 'clusterId': 1834}, {'clientId': '4485900391994263', 'clusterId': 1835}, {'clientId': '4029101620544952', 'clusterId': 1836}, {'clientId': '4800068348692337', 'clusterId': 1837}, {'clientId': '4686785557977740', 'clusterId': 1838}, {'clientId': '4646594222699047', 'clusterId': 1839}, {'clientId': '4054001344181255', 'clusterId': 1840}, {'clientId': '4867170262361384', 'clusterId': 1841}, {'clientId': '4734409355607910', 'clusterId': 1842}, {'clientId': '4227707498335248', 'clusterId': 1843}, {'clientId': '4741357836637520', 'clusterId': 1844}, {'clientId': '4262420263302395', 'clusterId': 1845}, {'clientId': '4033259871748153', 'clusterId': 1846}, {'clientId': '4579972198768569', 'clusterId': 1847}, {'clientId': '4129896701498379', 'clusterId': 1848}, {'clientId': '4485155967195049', 'clusterId': 1849}, {'clientId': '4063762223358475', 'clusterId': 1850}, {'clientId': '4904907688700637', 'clusterId': 1851}, {'clientId': '4124727810142308', 'clusterId': 1852}, {'clientId': '4334513032558091', 'clusterId': 1853}, {'clientId': '4917624611038846', 'clusterId': 1854}, {'clientId': '4114457561980928', 'clusterId': 1855}, {'clientId': '4574084339696819', 'clusterId': 1856}, {'clientId': '4155385133052985', 'clusterId': 1857}, {'clientId': '4098397127521891', 'clusterId': 1858}, {'clientId': '4998821295649318', 'clusterId': 1859}, {'clientId': '4689657238658436', 'clusterId': 1860}, {'clientId': '4328195321831419', 'clusterId': 1861}, {'clientId': '4225118938991347', 'clusterId': 1862}, {'clientId': '4084410230459242', 'clusterId': 1863}, {'clientId': '4492405900239805', 'clusterId': 1864}, {'clientId': '4993036334479271', 'clusterId': 1865}, {'clientId': '4957877794147823', 'clusterId': 1866}, {'clientId': '4964644069717362', 'clusterId': 1867}, {'clientId': '4762732414176642', 'clusterId': 1868}, {'clientId': '4659802546143350', 'clusterId': 1869}, {'clientId': '4239182841165781', 'clusterId': 1870}, {'clientId': '4658519433539661', 'clusterId': 1871}, {'clientId': '4093910557866191', 'clusterId': 1872}, {'clientId': '4856881029892783', 'clusterId': 1873}, {'clientId': '4427773282472454', 'clusterId': 1874}, {'clientId': '4903742961381743', 'clusterId': 1875}, {'clientId': '4510337256859621', 'clusterId': 1876}, {'clientId': '4445730784009034', 'clusterId': 1877}, {'clientId': '4697405342481364', 'clusterId': 1878}, {'clientId': '4814825247204686', 'clusterId': 1879}, {'clientId': '4576264080775065', 'clusterId': 1880}, {'clientId': '4947761434891201', 'clusterId': 1881}, {'clientId': '4578808671429892', 'clusterId': 1882}, {'clientId': '4839044456513172', 'clusterId': 1883}, {'clientId': '4153888810492087', 'clusterId': 1884}, {'clientId': '4209685923566508', 'clusterId': 1885}, {'clientId': '4666997300541384', 'clusterId': 1886}, {'clientId': '4654606829557722', 'clusterId': 1887}, {'clientId': '4699869889105082', 'clusterId': 1888}, {'clientId': '4661499820886444', 'clusterId': 1889}, {'clientId': '4126876186693739', 'clusterId': 1890}, {'clientId': '4026969337659500', 'clusterId': 1891}, {'clientId': '4814153197808608', 'clusterId': 1892}, {'clientId': '4154521421401531', 'clusterId': 1893}, {'clientId': '4262121908145393', 'clusterId': 1894}, {'clientId': '4192333025519351', 'clusterId': 1895}, {'clientId': '4913707047981103', 'clusterId': 1896}, {'clientId': '4740745578823574', 'clusterId': 1897}, {'clientId': '4034509496350093', 'clusterId': 1898}, {'clientId': '4587222515088824', 'clusterId': 1899}, {'clientId': '4896638998389395', 'clusterId': 1900}, {'clientId': '4910471933054334', 'clusterId': 1901}, {'clientId': '4872640033613464', 'clusterId': 1902}, {'clientId': '4383396989773693', 'clusterId': 1903}, {'clientId': '4133101308885365', 'clusterId': 1904}, {'clientId': '4873846527099446', 'clusterId': 1905}, {'clientId': '4440887272195025', 'clusterId': 1906}, {'clientId': '4399828076154306', 'clusterId': 1907}, {'clientId': '4360614173336151', 'clusterId': 1908}, {'clientId': '4989824087943692', 'clusterId': 1909}, {'clientId': '4111744489873290', 'clusterId': 1910}, {'clientId': '4721887909890469', 'clusterId': 1911}, {'clientId': '4498628177353165', 'clusterId': 1912}, {'clientId': '4382065069594292', 'clusterId': 1913}, {'clientId': '4329541174532514', 'clusterId': 1914}, {'clientId': '4946743692827953', 'clusterId': 1915}, {'clientId': '4280877158450852', 'clusterId': 1916}, {'clientId': '4596299606421352', 'clusterId': 1917}, {'clientId': '4937110571204533', 'clusterId': 1918}, {'clientId': '4200670767824600', 'clusterId': 1919}, {'clientId': '4285894831610203', 'clusterId': 1920}, {'clientId': '4736126985653704', 'clusterId': 1921}, {'clientId': '4851525843390715', 'clusterId': 1922}, {'clientId': '4870246570109908', 'clusterId': 1923}, {'clientId': '4727691770813335', 'clusterId': 1924}, {'clientId': '4231468531997106', 'clusterId': 1925}, {'clientId': '4179542647330784', 'clusterId': 1926}, {'clientId': '4597829102553693', 'clusterId': 1927}, {'clientId': '4059102351317686', 'clusterId': 1928}, {'clientId': '4351312754302376', 'clusterId': 1929}, {'clientId': '4178925939117483', 'clusterId': 1930}, {'clientId': '4815915559228313', 'clusterId': 1931}, {'clientId': '4695073012513676', 'clusterId': 1932}, {'clientId': '4336671593503985', 'clusterId': 1933}, {'clientId': '4790397867231538', 'clusterId': 1934}, {'clientId': '4775511143044437', 'clusterId': 1935}, {'clientId': '4542959836401533', 'clusterId': 1936}, {'clientId': '4246555541442850', 'clusterId': 1937}, {'clientId': '4024399438403859', 'clusterId': 1938}, {'clientId': '4997750994691183', 'clusterId': 1939}, {'clientId': '4556182192023493', 'clusterId': 1940}, {'clientId': '4039882872311608', 'clusterId': 1941}, {'clientId': '4970903138369924', 'clusterId': 1942}, {'clientId': '4513998914965816', 'clusterId': 1943}, {'clientId': '4856580385759228', 'clusterId': 1944}, {'clientId': '4243670662045573', 'clusterId': 1945}, {'clientId': '4759569311524424', 'clusterId': 1946}, {'clientId': '4849562194923971', 'clusterId': 1947}, {'clientId': '4936871168671241', 'clusterId': 1948}, {'clientId': '4121322420343430', 'clusterId': 1949}, {'clientId': '4231009163327392', 'clusterId': 1950}, {'clientId': '4487136240406047', 'clusterId': 1951}, {'clientId': '4163090957693472', 'clusterId': 1952}, {'clientId': '4108250452477015', 'clusterId': 1953}, {'clientId': '4276435413322162', 'clusterId': 1954}, {'clientId': '4863543646221777', 'clusterId': 1955}, {'clientId': '4623830463690833', 'clusterId': 1956}, {'clientId': '4514221548826182', 'clusterId': 1957}, {'clientId': '4391971670034686', 'clusterId': 1958}, {'clientId': '4756732759832245', 'clusterId': 1959}, {'clientId': '4157212219227810', 'clusterId': 1960}, {'clientId': '4582196478433893', 'clusterId': 1961}, {'clientId': '4502686896948065', 'clusterId': 1962}, {'clientId': '4439379892707242', 'clusterId': 1963}, {'clientId': '4307493988742788', 'clusterId': 1964}, {'clientId': '4692809664542247', 'clusterId': 1965}, {'clientId': '4531208461548496', 'clusterId': 1966}, {'clientId': '4144121602180781', 'clusterId': 1967}, {'clientId': '4919692587663762', 'clusterId': 1968}, {'clientId': '4844509543572780', 'clusterId': 1969}, {'clientId': '4900554057584657', 'clusterId': 1970}, {'clientId': '4524819631624816', 'clusterId': 1971}, {'clientId': '4829987179634778', 'clusterId': 1972}, {'clientId': '4977596531678389', 'clusterId': 1973}, {'clientId': '4136202484702809', 'clusterId': 1974}, {'clientId': '4178759533444195', 'clusterId': 1975}, {'clientId': '4574993793308630', 'clusterId': 1976}, {'clientId': '4345249004654546', 'clusterId': 1977}, {'clientId': '4800384997881562', 'clusterId': 1978}, {'clientId': '4384498228360024', 'clusterId': 1979}, {'clientId': '4779687689058449', 'clusterId': 1980}, {'clientId': '4938939345858979', 'clusterId': 1981}, {'clientId': '4125735952963893', 'clusterId': 1982}, {'clientId': '4729316935887556', 'clusterId': 1983}, {'clientId': '4119141457991414', 'clusterId': 1984}, {'clientId': '4363348253713776', 'clusterId': 1985}, {'clientId': '4334590342688495', 'clusterId': 1986}, {'clientId': '4272951001479457', 'clusterId': 1987}, {'clientId': '4859297309605026', 'clusterId': 1988}, {'clientId': '4696584995012493', 'clusterId': 1989}, {'clientId': '4344439406454758', 'clusterId': 1990}, {'clientId': '4427156133671898', 'clusterId': 1991}, {'clientId': '4691423481421600', 'clusterId': 1992}, {'clientId': '4713758655755554', 'clusterId': 1993}, {'clientId': '4439401777493480', 'clusterId': 1994}, {'clientId': '4883349978292501', 'clusterId': 1995}, {'clientId': '4813950107254828', 'clusterId': 1996}, {'clientId': '4120182531259680', 'clusterId': 1997}, {'clientId': '4229238008315247', 'clusterId': 1998}, {'clientId': '4356747120844772', 'clusterId': 1999}, {'clientId': '4614650547751463', 'clusterId': 2000}, {'clientId': '4566362379593306', 'clusterId': 2001}, {'clientId': '4738763077725269', 'clusterId': 2002}, {'clientId': '4786801643980439', 'clusterId': 2003}, {'clientId': '4579206128252364', 'clusterId': 2004}, {'clientId': '4884023768879988', 'clusterId': 2005}, {'clientId': '4378166114865699', 'clusterId': 2006}, {'clientId': '4978317154800716', 'clusterId': 2007}, {'clientId': '4159207344034220', 'clusterId': 2008}, {'clientId': '4487834579654043', 'clusterId': 2009}, {'clientId': '4968084141698304', 'clusterId': 2010}, {'clientId': '4491229085076753', 'clusterId': 2011}, {'clientId': '4430798911383660', 'clusterId': 2012}, {'clientId': '4684417400466117', 'clusterId': 2013}, {'clientId': '4003255201377685', 'clusterId': 2014}, {'clientId': '4240232320880199', 'clusterId': 2015}, {'clientId': '4907315551522962', 'clusterId': 2016}, {'clientId': '4823433093413060', 'clusterId': 2017}, {'clientId': '4295974619744859', 'clusterId': 2018}, {'clientId': '4594036755853262', 'clusterId': 2019}, {'clientId': '4058096671086388', 'clusterId': 2020}, {'clientId': '4866909845372611', 'clusterId': 2021}, {'clientId': '4767422233086884', 'clusterId': 2022}, {'clientId': '4152042570321661', 'clusterId': 2023}, {'clientId': '4646750366138263', 'clusterId': 2024}, {'clientId': '4124120608951504', 'clusterId': 2025}, {'clientId': '4327165085103645', 'clusterId': 2026}, {'clientId': '4392996913912546', 'clusterId': 2027}, {'clientId': '4604414873091156', 'clusterId': 2028}, {'clientId': '4773058995765935', 'clusterId': 2029}, {'clientId': '4295529505792931', 'clusterId': 2030}, {'clientId': '4675660908783548', 'clusterId': 2031}, {'clientId': '4103995230960048', 'clusterId': 2032}, {'clientId': '4634809397971748', 'clusterId': 2033}, {'clientId': '4528449536009586', 'clusterId': 2034}, {'clientId': '4215465225552213', 'clusterId': 2035}, {'clientId': '4252021221910485', 'clusterId': 2036}, {'clientId': '4391421102919948', 'clusterId': 2037}, {'clientId': '4091319647578836', 'clusterId': 2038}, {'clientId': '4009558112859814', 'clusterId': 2017}, {'clientId': '4402510908707171', 'clusterId': 2039}, {'clientId': '4224756508260527', 'clusterId': 2040}, {'clientId': '4583937317122539', 'clusterId': 2041}, {'clientId': '4839117655568054', 'clusterId': 2042}, {'clientId': '4406083400731228', 'clusterId': 2043}, {'clientId': '4093230966472741', 'clusterId': 359}, {'clientId': '4031976368847642', 'clusterId': 2044}, {'clientId': '4511501733983457', 'clusterId': 2045}, {'clientId': '4048331030112705', 'clusterId': 2046}, {'clientId': '4506552825778484', 'clusterId': 2047}, {'clientId': '4476331324804471', 'clusterId': 2048}, {'clientId': '4328822058337175', 'clusterId': 2049}, {'clientId': '4830566399359007', 'clusterId': 2050}, {'clientId': '4191913052724502', 'clusterId': 2051}, {'clientId': '4887504408922715', 'clusterId': 2052}, {'clientId': '4877709410846149', 'clusterId': 2053}, {'clientId': '4913641832621030', 'clusterId': 2054}, {'clientId': '4042869180281172', 'clusterId': 2055}, {'clientId': '4407560824075778', 'clusterId': 2056}, {'clientId': '4109072137609187', 'clusterId': 2057}, {'clientId': '4217558718900523', 'clusterId': 2058}, {'clientId': '4484185869823837', 'clusterId': 2059}, {'clientId': '4588205638656014', 'clusterId': 2060}, {'clientId': '4027820308665951', 'clusterId': 2061}, {'clientId': '4339359656107046', 'clusterId': 2062}, {'clientId': '4284295603204293', 'clusterId': 2063}, {'clientId': '4553368691294569', 'clusterId': 2064}, {'clientId': '4643981374682405', 'clusterId': 2065}, {'clientId': '4673058669300135', 'clusterId': 2066}, {'clientId': '4162633826812178', 'clusterId': 2067}, {'clientId': '4626220507905388', 'clusterId': 2068}, {'clientId': '4432435889172431', 'clusterId': 2069}, {'clientId': '4453845201203314', 'clusterId': 2070}, {'clientId': '4378287122174948', 'clusterId': 2071}, {'clientId': '4413678751619160', 'clusterId': 2072}, {'clientId': '4760956772532417', 'clusterId': 2073}, {'clientId': '4438705970888788', 'clusterId': 2074}, {'clientId': '4845479708618357', 'clusterId': 2075}, {'clientId': '4252647919209283', 'clusterId': 2076}, {'clientId': '4896710337743093', 'clusterId': 2077}, {'clientId': '4533152621891255', 'clusterId': 2078}, {'clientId': '4690221132240218', 'clusterId': 2079}, {'clientId': '4246642187363572', 'clusterId': 2080}, {'clientId': '4561892579881312', 'clusterId': 2081}, {'clientId': '4334800391788652', 'clusterId': 2082}, {'clientId': '4141994088308826', 'clusterId': 2083}, {'clientId': '4684715150969382', 'clusterId': 2084}, {'clientId': '4155350982255345', 'clusterId': 2085}, {'clientId': '4351889107199682', 'clusterId': 2086}, {'clientId': '4572543678917146', 'clusterId': 2087}, {'clientId': '4642826704758485', 'clusterId': 2088}, {'clientId': '4553276071561418', 'clusterId': 2089}, {'clientId': '4031250318131295', 'clusterId': 2090}, {'clientId': '4111181206702892', 'clusterId': 2041}, {'clientId': '4373147651569030', 'clusterId': 2091}, {'clientId': '4619605947707965', 'clusterId': 2092}, {'clientId': '4190966722807793', 'clusterId': 2017}, {'clientId': '4465027718647186', 'clusterId': 2093}, {'clientId': '4883445100935916', 'clusterId': 2094}, {'clientId': '4069289419684211', 'clusterId': 2095}, {'clientId': '4438494059431543', 'clusterId': 2096}, {'clientId': '4952527271473904', 'clusterId': 2042}, {'clientId': '4648925080664319', 'clusterId': 2097}, {'clientId': '4752237855138632', 'clusterId': 1953}, {'clientId': '4658150168863397', 'clusterId': 2098}, {'clientId': '4671367186729003', 'clusterId': 1671}, {'clientId': '4788983787944120', 'clusterId': 2099}, {'clientId': '4372836268687786', 'clusterId': 2100}, {'clientId': '4192214340630620', 'clusterId': 2101}, {'clientId': '4398424560585014', 'clusterId': 2102}, {'clientId': '4126169899003622', 'clusterId': 2103}, {'clientId': '4767545742164741', 'clusterId': 2104}, {'clientId': '4077105943325370', 'clusterId': 1771}, {'clientId': '4322011236353157', 'clusterId': 2105}, {'clientId': '4100739748495656', 'clusterId': 382}, {'clientId': '4065614897483204', 'clusterId': 2106}, {'clientId': '4165405441954181', 'clusterId': 2107}, {'clientId': '4689748983194261', 'clusterId': 334}, {'clientId': '4339163191363498', 'clusterId': 2108}, {'clientId': '4321503325756713', 'clusterId': 2109}, {'clientId': '4789367526486768', 'clusterId': 2110}, {'clientId': '4816336012071985', 'clusterId': 2042}, {'clientId': '4023014659543363', 'clusterId': 2101}, {'clientId': '4911103580170829', 'clusterId': 2108}, {'clientId': '4039797055208530', 'clusterId': 2111}, {'clientId': '4200688700598370', 'clusterId': 2112}, {'clientId': '4950320376629295', 'clusterId': 2113}, {'clientId': '4530387357276551', 'clusterId': 1671}, {'clientId': '4078181885228814', 'clusterId': 1953}, {'clientId': '4984788098598750', 'clusterId': 2114}, {'clientId': '4527574745058727', 'clusterId': 1953}, {'clientId': '4633319621184978', 'clusterId': 2115}, {'clientId': '4479459063791364', 'clusterId': 2116}, {'clientId': '4924062839080632', 'clusterId': 2117}, {'clientId': '4535412573229708', 'clusterId': 1628}, {'clientId': '4580880838327380', 'clusterId': 2118}, {'clientId': '4759246680522129', 'clusterId': 382}, {'clientId': '4811564365307269', 'clusterId': 2119}, {'clientId': '4454357737255718', 'clusterId': 37}, {'clientId': '4034217878849464', 'clusterId': 2101}, {'clientId': '4841095053660747', 'clusterId': 2120}, {'clientId': '4743104242927790', 'clusterId': 2121}, {'clientId': '4616260554775369', 'clusterId': 2098}, {'clientId': '4124095296753802', 'clusterId': 2122}, {'clientId': '4409685336844821', 'clusterId': 2123}, {'clientId': '4126270022557284', 'clusterId': 2124}, {'clientId': '4615217256106385', 'clusterId': 2125}, {'clientId': '4467610950353932', 'clusterId': 2126}, {'clientId': '4556995478204531', 'clusterId': 1671}, {'clientId': '4234328998904473', 'clusterId': 2116}, {'clientId': '4239118602066958', 'clusterId': 2127}, {'clientId': '4764657930898338', 'clusterId': 1862}, {'clientId': '4431528620661216', 'clusterId': 2128}, {'clientId': '4670419240230030', 'clusterId': 2129}, {'clientId': '4428567156547220', 'clusterId': 2130}, {'clientId': '4912587051525728', 'clusterId': 1671}, {'clientId': '4454780847105236', 'clusterId': 2131}, {'clientId': '4329790161020492', 'clusterId': 382}, {'clientId': '4215356686582239', 'clusterId': 2132}, {'clientId': '4736915129584217', 'clusterId': 2133}, {'clientId': '4696128281928069', 'clusterId': 2134}, {'clientId': '4362497099236350', 'clusterId': 2135}, {'clientId': '4293511115111654', 'clusterId': 2114}, {'clientId': '4708373581412325', 'clusterId': 2094}, {'clientId': '4081907705182863', 'clusterId': 2136}, {'clientId': '4154784089899616', 'clusterId': 2110}, {'clientId': '4380038532109909', 'clusterId': 2110}, {'clientId': '4381671385773162', 'clusterId': 1767}, {'clientId': '4673951123644611', 'clusterId': 2109}, {'clientId': '4100374538108184', 'clusterId': 2098}, {'clientId': '4802140488458270', 'clusterId': 2125}, {'clientId': '4387588493640600', 'clusterId': 2137}, {'clientId': '4393112467512760', 'clusterId': 2138}, {'clientId': '4129696962356948', 'clusterId': 2123}, {'clientId': '4130480121137912', 'clusterId': 2039}, {'clientId': '4702244384875016', 'clusterId': 1862}, {'clientId': '4049703489028021', 'clusterId': 2114}, {'clientId': '4676756682073962', 'clusterId': 2108}, {'clientId': '4822570827153008', 'clusterId': 2139}, {'clientId': '4795773320377768', 'clusterId': 2109}, {'clientId': '4884394011157286', 'clusterId': 2131}, {'clientId': '4643304710823908', 'clusterId': 2135}, {'clientId': '4833881482659016', 'clusterId': 2112}, {'clientId': '4471990407567282', 'clusterId': 2140}, {'clientId': '4421785194889860', 'clusterId': 382}, {'clientId': '4362004785026473', 'clusterId': 1862}, {'clientId': '4307423921348807', 'clusterId': 2039}, {'clientId': '4299173765472524', 'clusterId': 1771}, {'clientId': '4260929839902829', 'clusterId': 2120}, {'clientId': '4090488003495066', 'clusterId': 2129}, {'clientId': '4683819328240592', 'clusterId': 2098}, {'clientId': '4903375666132507', 'clusterId': 2116}, {'clientId': '4815912270944740', 'clusterId': 2024}, {'clientId': '4912097363222923', 'clusterId': 2101}, {'clientId': '4312387486707181', 'clusterId': 2017}, {'clientId': '4846961683637444', 'clusterId': 1671}, {'clientId': '4260373222519348', 'clusterId': 2042}, {'clientId': '4797931411546596', 'clusterId': 359}, {'clientId': '4316312047827944', 'clusterId': 2129}, {'clientId': '4807559923617577', 'clusterId': 2041}, {'clientId': '4176474698197511', 'clusterId': 2042}, {'clientId': '4746952474327072', 'clusterId': 2099}, {'clientId': '4720099136948257', 'clusterId': 2125}, {'clientId': '4676840309600231', 'clusterId': 359}, {'clientId': '4687036182595666', 'clusterId': 2137}, {'clientId': '4738300547169776', 'clusterId': 2062}, {'clientId': '4446118457512030', 'clusterId': 2041}, {'clientId': '4491606652142193', 'clusterId': 1953}, {'clientId': '4467585746737590', 'clusterId': 2106}, {'clientId': '4617514126150934', 'clusterId': 2118}, {'clientId': '4362163576578231', 'clusterId': 2095}, {'clientId': '4402338746675545', 'clusterId': 2140}, {'clientId': '4276761560436970', 'clusterId': 2141}, {'clientId': '4223118810818115', 'clusterId': 2142}, {'clientId': '4717521340444448', 'clusterId': 2120}, {'clientId': '4507937171999454', 'clusterId': 2042}, {'clientId': '4433204386738246', 'clusterId': 2120}, {'clientId': '4151641026446781', 'clusterId': 2143}, {'clientId': '4563492200632453', 'clusterId': 2041}, {'clientId': '4100573774302522', 'clusterId': 2125}, {'clientId': '4479182889117081', 'clusterId': 2125}, {'clientId': '4281042920431552', 'clusterId': 2123}, {'clientId': '4633744264492448', 'clusterId': 2144}, {'clientId': '4702018529876257', 'clusterId': 2093}, {'clientId': '4044066898818795', 'clusterId': 2144}, {'clientId': '4620730895435885', 'clusterId': 2140}, {'clientId': '4561633986033612', 'clusterId': 2097}, {'clientId': '4221738942502345', 'clusterId': 1862}, {'clientId': '4450210848463503', 'clusterId': 2141}, {'clientId': '4043911585028946', 'clusterId': 2142}, {'clientId': '4935260846765792', 'clusterId': 2118}, {'clientId': '4104192118883745', 'clusterId': 2141}, {'clientId': '4654924754096834', 'clusterId': 2144}, {'clientId': '4765911969598056', 'clusterId': 2093}, {'clientId': '4227754063695630', 'clusterId': 37}, {'clientId': '4874810754733472', 'clusterId': 2145}, {'clientId': '4970263328206984', 'clusterId': 1628}, {'clientId': '4973767485982051', 'clusterId': 2093}, {'clientId': '4155911787692030', 'clusterId': 2142}, {'clientId': '4071572867188215', 'clusterId': 2120}, {'clientId': '4189330002136246', 'clusterId': 2017}, {'clientId': '4024985944102082', 'clusterId': 1862}, {'clientId': '4393042389640813', 'clusterId': 2129}, {'clientId': '4645699879213223', 'clusterId': 2062}, {'clientId': '4696408450407362', 'clusterId': 2145}, {'clientId': '4747026122918613', 'clusterId': 2095}, {'clientId': '4591134584542777', 'clusterId': 2110}, {'clientId': '4304251248785044', 'clusterId': 2141}, {'clientId': '4888025496997699', 'clusterId': 2099}, {'clientId': '4374008647874646', 'clusterId': 2106}, {'clientId': '4992383442671501', 'clusterId': 2110}, {'clientId': '4671283429280144', 'clusterId': 2097}, {'clientId': '4434120906682905', 'clusterId': 2114}, {'clientId': '4529286587132910', 'clusterId': 2101}, {'clientId': '4614177132519923', 'clusterId': 1771}, {'clientId': '4359490519123048', 'clusterId': 2118}, {'clientId': '4746640055495166', 'clusterId': 2039}, {'clientId': '4795183431891063', 'clusterId': 2141}, {'clientId': '4511787438421618', 'clusterId': 2017}, {'clientId': '4284694673228754', 'clusterId': 334}, {'clientId': '4979317926037836', 'clusterId': 2017}, {'clientId': '4251852273875197', 'clusterId': 2146}, {'clientId': '4743609788958504', 'clusterId': 2105}, {'clientId': '4371660075922934', 'clusterId': 1771}, {'clientId': '4804687086688623', 'clusterId': 2146}, {'clientId': '4758574718978232', 'clusterId': 2042}, {'clientId': '4721862020593706', 'clusterId': 2131}, {'clientId': '4072794005399129', 'clusterId': 2101}, {'clientId': '4833831211455368', 'clusterId': 2024}, {'clientId': '4434920976649324', 'clusterId': 2122}, {'clientId': '4680848396462179', 'clusterId': 2123}, {'clientId': '4327866489611139', 'clusterId': 2146}, {'clientId': '4824531510355498', 'clusterId': 2093}, {'clientId': '4210602649671196', 'clusterId': 1671}, {'clientId': '4782864771011264', 'clusterId': 2146}, {'clientId': '4337994235398500', 'clusterId': 2095}, {'clientId': '4042418680995061', 'clusterId': 2135}, {'clientId': '4941816913071208', 'clusterId': 2125}, {'clientId': '4332438336669505', 'clusterId': 2118}, {'clientId': '4284975213742127', 'clusterId': 2110}, {'clientId': '4968593889682429', 'clusterId': 2146}, {'clientId': '4121328223521239', 'clusterId': 2120}, {'clientId': '4173378453485974', 'clusterId': 1767}, {'clientId': '4309833640194449', 'clusterId': 334}, {'clientId': '4951970968299813', 'clusterId': 2112}, {'clientId': '4763573510422368', 'clusterId': 2109}, {'clientId': '4471350911787548', 'clusterId': 2114}, {'clientId': '4285617374920089', 'clusterId': 2113}, {'clientId': '4316366410034140', 'clusterId': 334}, {'clientId': '4297626800379477', 'clusterId': 37}, {'clientId': '4453546188292482', 'clusterId': 2137}, {'clientId': '4834589450383852', 'clusterId': 2017}, {'clientId': '4611708856885372', 'clusterId': 2123}, {'clientId': '4617375291006180', 'clusterId': 2101}, {'clientId': '4581500051219002', 'clusterId': 2116}, {'clientId': '4819872116217246', 'clusterId': 2041}, {'clientId': '4165095159219057', 'clusterId': 2143}, {'clientId': '4553090643791555', 'clusterId': 2116}, {'clientId': '4703696391676589', 'clusterId': 2137}, {'clientId': '4038469093537798', 'clusterId': 359}, {'clientId': '4659735599127948', 'clusterId': 2099}, {'clientId': '4667370651116652', 'clusterId': 2141}, {'clientId': '4818802026065667', 'clusterId': 1671}, {'clientId': '4385217169131833', 'clusterId': 1767}, {'clientId': '4607330517467908', 'clusterId': 2112}, {'clientId': '4617184437005845', 'clusterId': 2130}, {'clientId': '4698250700774797', 'clusterId': 382}, {'clientId': '4397272876353382', 'clusterId': 382}, {'clientId': '4204003400259628', 'clusterId': 2062}, {'clientId': '4640268658928388', 'clusterId': 2024}, {'clientId': '4071643766835865', 'clusterId': 2113}, {'clientId': '4311033884909059', 'clusterId': 2099}, {'clientId': '4693134312465652', 'clusterId': 2105}, {'clientId': '4906273345189427', 'clusterId': 2118}, {'clientId': '4777065657154114', 'clusterId': 2017}, {'clientId': '4016327053305182', 'clusterId': 2141}, {'clientId': '4585739699774673', 'clusterId': 2140}, {'clientId': '4134363806603463', 'clusterId': 1953}, {'clientId': '4268116544988895', 'clusterId': 2118}, {'clientId': '4053107646106295', 'clusterId': 2110}, {'clientId': '4760340196617585', 'clusterId': 2129}, {'clientId': '4840896328893679', 'clusterId': 2106}, {'clientId': '4402080003075833', 'clusterId': 2105}, {'clientId': '4721689545674517', 'clusterId': 2122}, {'clientId': '4416061545639355', 'clusterId': 2129}, {'clientId': '4830783673717400', 'clusterId': 1862}, {'clientId': '4937271292970578', 'clusterId': 2140}, {'clientId': '4221613079359852', 'clusterId': 2093}, {'clientId': '4945717430618560', 'clusterId': 2114}, {'clientId': '4792033891283694', 'clusterId': 2062}, {'clientId': '4205260234090129', 'clusterId': 2106}, {'clientId': '4947951393755725', 'clusterId': 2125}, {'clientId': '4732174812525004', 'clusterId': 1767}, {'clientId': '4328466262161953', 'clusterId': 2116}, {'clientId': '4510557354806584', 'clusterId': 2097}, {'clientId': '4956201854777596', 'clusterId': 2143}, {'clientId': '4206719915144736', 'clusterId': 2122}, {'clientId': '4059258545206720', 'clusterId': 2101}, {'clientId': '4299937032379229', 'clusterId': 2109}, {'clientId': '4066737437262363', 'clusterId': 2041}, {'clientId': '4988199250113857', 'clusterId': 2146}, {'clientId': '4632977841783696', 'clusterId': 1767}, {'clientId': '4432152886461762', 'clusterId': 2142}, {'clientId': '4432884060820864', 'clusterId': 2131}, {'clientId': '4150232245548630', 'clusterId': 2110}, {'clientId': '4218488645637296', 'clusterId': 359}, {'clientId': '4298192387817560', 'clusterId': 2145}, {'clientId': '4898199163781039', 'clusterId': 2114}, {'clientId': '4792118322519566', 'clusterId': 1862}, {'clientId': '4626452005491195', 'clusterId': 2095}, {'clientId': '4445521165797820', 'clusterId': 2131}, {'clientId': '4783460196955133', 'clusterId': 2144}, {'clientId': '4479119594484547', 'clusterId': 2099}, {'clientId': '4153577726581485', 'clusterId': 2145}, {'clientId': '4268433407129628', 'clusterId': 1862}, {'clientId': '4933318706220654', 'clusterId': 2113}, {'clientId': '4930006521352272', 'clusterId': 2131}, {'clientId': '4688868698931640', 'clusterId': 2120}, {'clientId': '4990588012218515', 'clusterId': 2135}, {'clientId': '4347565877110383', 'clusterId': 2122}, {'clientId': '4897606573902972', 'clusterId': 2108}, {'clientId': '4279849738838479', 'clusterId': 2131}, {'clientId': '4903135466568585', 'clusterId': 1862}, {'clientId': '4024483280959067', 'clusterId': 2130}, {'clientId': '4140395261422148', 'clusterId': 2095}, {'clientId': '4079338752933293', 'clusterId': 2130}, {'clientId': '4376927794249492', 'clusterId': 382}, {'clientId': '4982277886135159', 'clusterId': 2145}, {'clientId': '4455516602223700', 'clusterId': 382}, {'clientId': '4188616211717771', 'clusterId': 2106}, {'clientId': '4335837961644633', 'clusterId': 2109}, {'clientId': '4531292271117205', 'clusterId': 2113}, {'clientId': '4760851218040119', 'clusterId': 2097}, {'clientId': '4735236106636727', 'clusterId': 334}, {'clientId': '4872929154943952', 'clusterId': 2017}, {'clientId': '4926958609026192', 'clusterId': 1771}, {'clientId': '4053756988422981', 'clusterId': 2147}, {'clientId': '4211115329710134', 'clusterId': 2118}, {'clientId': '4754868789809068', 'clusterId': 2108}, {'clientId': '4235217183989895', 'clusterId': 2142}, {'clientId': '4943789235211018', 'clusterId': 2144}, {'clientId': '4903731667449482', 'clusterId': 2123}, {'clientId': '4294551565816062', 'clusterId': 382}, {'clientId': '4804176199546431', 'clusterId': 2098}, {'clientId': '4643800805671847', 'clusterId': 2039}, {'clientId': '4628502903907417', 'clusterId': 2114}, {'clientId': '4378750110117203', 'clusterId': 2097}, {'clientId': '4916687510112609', 'clusterId': 1767}, {'clientId': '4448882569772133', 'clusterId': 2101}, {'clientId': '4131167153778387', 'clusterId': 359}, {'clientId': '4162403684517511', 'clusterId': 2099}, {'clientId': '4325463825252091', 'clusterId': 2105}, {'clientId': '4129838064822639', 'clusterId': 1771}, {'clientId': '4187135907098538', 'clusterId': 334}, {'clientId': '4963824357856673', 'clusterId': 2062}, {'clientId': '4361847869567817', 'clusterId': 334}, {'clientId': '4688960172664225', 'clusterId': 1767}, {'clientId': '4263072467587732', 'clusterId': 2039}, {'clientId': '4685279747190928', 'clusterId': 2125}, {'clientId': '4934732209995365', 'clusterId': 2120}, {'clientId': '4958360792244180', 'clusterId': 1953}, {'clientId': '4663867238238168', 'clusterId': 2135}, {'clientId': '4913613747282489', 'clusterId': 2024}, {'clientId': '4669892895530362', 'clusterId': 2113}, {'clientId': '4486820274626767', 'clusterId': 1767}, {'clientId': '4268962310173687', 'clusterId': 1862}, {'clientId': '4635791548614964', 'clusterId': 2109}, {'clientId': '4635000579257671', 'clusterId': 2110}, {'clientId': '4093935103387566', 'clusterId': 2144}, {'clientId': '4465308441014617', 'clusterId': 1767}, {'clientId': '4040221031830108', 'clusterId': 1771}, {'clientId': '4748268948389491', 'clusterId': 2041}, {'clientId': '4480249142115116', 'clusterId': 2042}, {'clientId': '4477797024619766', 'clusterId': 359}, {'clientId': '4725134107241393', 'clusterId': 359}, {'clientId': '4870893694018075', 'clusterId': 2122}, {'clientId': '4531747593659044', 'clusterId': 2146}, {'clientId': '4390373166719154', 'clusterId': 2143}, {'clientId': '4406818222657758', 'clusterId': 2039}, {'clientId': '4675032883913799', 'clusterId': 2108}, {'clientId': '4387807674698397', 'clusterId': 1953}, {'clientId': '4445441262840003', 'clusterId': 2145}, {'clientId': '4451131703791888', 'clusterId': 2042}, {'clientId': '4838605732059460', 'clusterId': 2041}, {'clientId': '4910140986334626', 'clusterId': 334}, {'clientId': '4413385955087620', 'clusterId': 1767}, {'clientId': '4550448544478545', 'clusterId': 1862}, {'clientId': '4114683318919154', 'clusterId': 334}, {'clientId': '4172817689754167', 'clusterId': 2113}, {'clientId': '4210575070378533', 'clusterId': 2131}]\n"
     ]
    }
   ],
   "source": [
    "with driver.session() as session:\n",
    "    result = session.run(streaming_query)\n",
    "    print(result.data())"
   ]
  },
  {
   "cell_type": "markdown",
   "id": "6d90549f-b0e0-449d-bf73-a7555a370296",
   "metadata": {},
   "source": [
    "Step 8"
   ]
  },
  {
   "cell_type": "code",
   "execution_count": 17,
   "id": "312ad510-d9f0-4993-b220-2a4ba93302aa",
   "metadata": {},
   "outputs": [],
   "source": [
    "possible_fraud_members = '''\n",
    "CALL gds.wcc.stream(\n",
    "    'clientClusters',\n",
    "    {\n",
    "    nodeLabels: ['Client'],\n",
    "    relationshipTypes: ['SHARED_PII'],\n",
    "    consecutiveIds: true\n",
    "    }\n",
    ")\n",
    "YIELD nodeId, componentId\n",
    "WITH gds.util.asNode(nodeId) AS clientId , componentId AS clusterId\n",
    "WITH clusterId, collect(clientId.id) AS clients\n",
    "WITH clusterId, clients, size(clients) AS clusterSize WHERE clusterSize >= 2\n",
    "UNWIND clients AS client\n",
    "MATCH (c:Client) WHERE c.id = client\n",
    "SET c.secondPartyFraudRing = clusterId\n",
    "'''"
   ]
  },
  {
   "cell_type": "code",
   "execution_count": 18,
   "id": "1f473533-9904-4425-953d-2de7f26b05ec",
   "metadata": {},
   "outputs": [],
   "source": [
    "pandasDF = driver.execute_query(\n",
    "    possible_fraud_members,\n",
    "    database_=\"neo4j\",\n",
    "    result_transformer_=  neo4j.Result.to_df\n",
    ")"
   ]
  },
  {
   "cell_type": "code",
   "execution_count": 19,
   "id": "4dfec213-e5fa-4c3d-91f7-7464f6a63d27",
   "metadata": {},
   "outputs": [
    {
     "name": "stdout",
     "output_type": "stream",
     "text": [
      "None\n"
     ]
    }
   ],
   "source": [
    "with driver.session() as session:\n",
    "    result = session.run(possible_fraud_members)\n",
    "    print(result.single())"
   ]
  },
  {
   "cell_type": "markdown",
   "id": "ef7f88f5-3ed3-4ab0-9891-73ada25bf572",
   "metadata": {},
   "source": [
    "Step 9"
   ]
  },
  {
   "cell_type": "code",
   "execution_count": 20,
   "id": "fb513d54-4748-4f90-bec7-c2c046220a6c",
   "metadata": {},
   "outputs": [],
   "source": [
    "bipartite_graph = '''\n",
    "MATCH (c:Client) WHERE c.secondPartyFraudRing is NOT NULL\n",
    "WITH collect(c) as clients\n",
    "\n",
    "MATCH (n) WHERE n:Email OR n:Phone OR n:SSN\n",
    "\n",
    "WITH clients, collect(n) AS piis\n",
    "WITH clients + piis AS nodes\n",
    "\n",
    "MATCH (c:Client) -[:HAS_EMAIL | :HAS_PHONE | :HAS_SSN]->(p)\n",
    "WHERE c.secondPartyFraudRing is NOT NULL\n",
    "\n",
    "WITH nodes, collect({source: c, target: p}) as relationships\n",
    "\n",
    "CALL gds.graph.project.cypher(\n",
    "    'similarity',\n",
    "    \"UNWIND $nodes as n\n",
    "        RETURN id(n) AS id,labels(n) AS labels\",\n",
    "    \"UNWIND $relationships as r\n",
    "        RETURN id(r['source']) AS source, id(r['target']) AS target,\n",
    "    'HAS_PII' as type\",\n",
    "    { parameters:\n",
    "        { nodes: nodes,\n",
    "            relationships: relationships }\n",
    "    }\n",
    ")\n",
    "YIELD graphName, nodeCount, relationshipCount\n",
    "RETURN graphName, nodeCount, relationshipCount\n",
    "\n",
    "'''"
   ]
  },
  {
   "cell_type": "code",
   "execution_count": 21,
   "id": "2b698911-c409-45e4-8df8-26b8eaae61e2",
   "metadata": {},
   "outputs": [
    {
     "name": "stderr",
     "output_type": "stream",
     "text": [
      "Received notification from DBMS server: {severity: WARNING} {code: Neo.ClientNotification.Statement.FeatureDeprecationWarning} {category: DEPRECATION} {title: This feature is deprecated and will be removed in future versions.} {description: The semantics of using colon in the separation of alternative relationship types will change in a future version. (Please use ':HAS_EMAIL|HAS_PHONE|HAS_SSN' instead)} {position: line: 10, column: 44, offset: 238} for query: '\\nMATCH (c:Client) WHERE c.secondPartyFraudRing is NOT NULL\\nWITH collect(c) as clients\\n\\nMATCH (n) WHERE n:Email OR n:Phone OR n:SSN\\n\\nWITH clients, collect(n) AS piis\\nWITH clients + piis AS nodes\\n\\nMATCH (c:Client) -[:HAS_EMAIL | :HAS_PHONE | :HAS_SSN]->(p)\\nWHERE c.secondPartyFraudRing is NOT NULL\\n\\nWITH nodes, collect({source: c, target: p}) as relationships\\n\\nCALL gds.graph.project.cypher(\\n    \\'similarity\\',\\n    \"UNWIND $nodes as n\\n        RETURN id(n) AS id,labels(n) AS labels\",\\n    \"UNWIND $relationships as r\\n        RETURN id(r[\\'source\\']) AS source, id(r[\\'target\\']) AS target,\\n    \\'HAS_PII\\' as type\",\\n    { parameters:\\n        { nodes: nodes,\\n            relationships: relationships }\\n    }\\n)\\nYIELD graphName, nodeCount, relationshipCount\\nRETURN graphName, nodeCount, relationshipCount\\n\\n'\n",
      "Received notification from DBMS server: {severity: WARNING} {code: Neo.ClientNotification.Statement.FeatureDeprecationWarning} {category: DEPRECATION} {title: This feature is deprecated and will be removed in future versions.} {description: The query used a deprecated procedure. ('gds.graph.project.cypher' has been replaced by 'gds.graph.project Cypher projection as an aggregation function')} {position: line: 15, column: 1, offset: 359} for query: '\\nMATCH (c:Client) WHERE c.secondPartyFraudRing is NOT NULL\\nWITH collect(c) as clients\\n\\nMATCH (n) WHERE n:Email OR n:Phone OR n:SSN\\n\\nWITH clients, collect(n) AS piis\\nWITH clients + piis AS nodes\\n\\nMATCH (c:Client) -[:HAS_EMAIL | :HAS_PHONE | :HAS_SSN]->(p)\\nWHERE c.secondPartyFraudRing is NOT NULL\\n\\nWITH nodes, collect({source: c, target: p}) as relationships\\n\\nCALL gds.graph.project.cypher(\\n    \\'similarity\\',\\n    \"UNWIND $nodes as n\\n        RETURN id(n) AS id,labels(n) AS labels\",\\n    \"UNWIND $relationships as r\\n        RETURN id(r[\\'source\\']) AS source, id(r[\\'target\\']) AS target,\\n    \\'HAS_PII\\' as type\",\\n    { parameters:\\n        { nodes: nodes,\\n            relationships: relationships }\\n    }\\n)\\nYIELD graphName, nodeCount, relationshipCount\\nRETURN graphName, nodeCount, relationshipCount\\n\\n'\n"
     ]
    },
    {
     "data": {
      "text/html": [
       "<div>\n",
       "<style scoped>\n",
       "    .dataframe tbody tr th:only-of-type {\n",
       "        vertical-align: middle;\n",
       "    }\n",
       "\n",
       "    .dataframe tbody tr th {\n",
       "        vertical-align: top;\n",
       "    }\n",
       "\n",
       "    .dataframe thead th {\n",
       "        text-align: right;\n",
       "    }\n",
       "</style>\n",
       "<table border=\"1\" class=\"dataframe\">\n",
       "  <thead>\n",
       "    <tr style=\"text-align: right;\">\n",
       "      <th></th>\n",
       "      <th>graphName</th>\n",
       "      <th>nodeCount</th>\n",
       "      <th>relationshipCount</th>\n",
       "    </tr>\n",
       "  </thead>\n",
       "  <tbody>\n",
       "    <tr>\n",
       "      <th>0</th>\n",
       "      <td>similarity</td>\n",
       "      <td>7037</td>\n",
       "      <td>1008</td>\n",
       "    </tr>\n",
       "  </tbody>\n",
       "</table>\n",
       "</div>"
      ],
      "text/plain": [
       "    graphName  nodeCount  relationshipCount\n",
       "0  similarity       7037               1008"
      ]
     },
     "execution_count": 21,
     "metadata": {},
     "output_type": "execute_result"
    }
   ],
   "source": [
    "gds.run_cypher(bipartite_graph)"
   ]
  },
  {
   "cell_type": "markdown",
   "id": "e3a0013d-1843-485a-876a-04816b7b4a1d",
   "metadata": {},
   "source": [
    "Step 10"
   ]
  },
  {
   "cell_type": "code",
   "execution_count": 22,
   "id": "163fff52-49c2-44b0-a2c9-f69b925faf6c",
   "metadata": {},
   "outputs": [],
   "source": [
    "nodeSimilarity_mutate = '''\n",
    "\n",
    "CALL gds.nodeSimilarity.mutate(\n",
    "  'similarity',\n",
    "  {\n",
    "    mutateProperty: 'jaccardScore',\n",
    "    mutateRelationshipType: 'SIMILAR_TO',\n",
    "    topK: 15\n",
    "  }\n",
    ")\n",
    "YIELD\n",
    "  preProcessingMillis,\n",
    "  computeMillis,\n",
    "  mutateMillis,\n",
    "  postProcessingMillis,\n",
    "  relationshipsWritten,\n",
    "  nodesCompared,\n",
    "  similarityDistribution,\n",
    "  configuration\n",
    "'''"
   ]
  },
  {
   "cell_type": "code",
   "execution_count": 23,
   "id": "82a984b9-d7ad-4d32-b5ea-3865ef6bbb99",
   "metadata": {},
   "outputs": [
    {
     "data": {
      "text/html": [
       "<div>\n",
       "<style scoped>\n",
       "    .dataframe tbody tr th:only-of-type {\n",
       "        vertical-align: middle;\n",
       "    }\n",
       "\n",
       "    .dataframe tbody tr th {\n",
       "        vertical-align: top;\n",
       "    }\n",
       "\n",
       "    .dataframe thead th {\n",
       "        text-align: right;\n",
       "    }\n",
       "</style>\n",
       "<table border=\"1\" class=\"dataframe\">\n",
       "  <thead>\n",
       "    <tr style=\"text-align: right;\">\n",
       "      <th></th>\n",
       "      <th>preProcessingMillis</th>\n",
       "      <th>computeMillis</th>\n",
       "      <th>mutateMillis</th>\n",
       "      <th>postProcessingMillis</th>\n",
       "      <th>relationshipsWritten</th>\n",
       "      <th>nodesCompared</th>\n",
       "      <th>similarityDistribution</th>\n",
       "      <th>configuration</th>\n",
       "    </tr>\n",
       "  </thead>\n",
       "  <tbody>\n",
       "    <tr>\n",
       "      <th>0</th>\n",
       "      <td>0</td>\n",
       "      <td>85</td>\n",
       "      <td>79</td>\n",
       "      <td>0</td>\n",
       "      <td>1518</td>\n",
       "      <td>336</td>\n",
       "      <td>{'min': 0.19999980926513672, 'p5': 0.199999809...</td>\n",
       "      <td>{'mutateProperty': 'jaccardScore', 'jobId': 'a...</td>\n",
       "    </tr>\n",
       "  </tbody>\n",
       "</table>\n",
       "</div>"
      ],
      "text/plain": [
       "   preProcessingMillis  computeMillis  mutateMillis  postProcessingMillis  \\\n",
       "0                    0             85            79                     0   \n",
       "\n",
       "   relationshipsWritten  nodesCompared  \\\n",
       "0                  1518            336   \n",
       "\n",
       "                              similarityDistribution  \\\n",
       "0  {'min': 0.19999980926513672, 'p5': 0.199999809...   \n",
       "\n",
       "                                       configuration  \n",
       "0  {'mutateProperty': 'jaccardScore', 'jobId': 'a...  "
      ]
     },
     "execution_count": 23,
     "metadata": {},
     "output_type": "execute_result"
    }
   ],
   "source": [
    "gds.run_cypher(nodeSimilarity_mutate)"
   ]
  },
  {
   "cell_type": "markdown",
   "id": "a18fed66",
   "metadata": {},
   "source": [
    "Clearing Projections From Memory"
   ]
  },
  {
   "cell_type": "code",
   "execution_count": 24,
   "id": "45e4c914",
   "metadata": {},
   "outputs": [
    {
     "name": "stderr",
     "output_type": "stream",
     "text": [
      "Received notification from DBMS server: {severity: WARNING} {code: Neo.ClientNotification.Statement.FeatureDeprecationWarning} {category: DEPRECATION} {title: This feature is deprecated and will be removed in future versions.} {description: The query used a deprecated field from a procedure. ('schema' returned by 'gds.graph.drop' is deprecated.)} {position: line: 1, column: 1, offset: 0} for query: \"CALL gds.graph.drop('clientClusters', false)\"\n",
      "Received notification from DBMS server: {severity: WARNING} {code: Neo.ClientNotification.Statement.FeatureDeprecationWarning} {category: DEPRECATION} {title: This feature is deprecated and will be removed in future versions.} {description: The query used a deprecated field from a procedure. ('schema' returned by 'gds.graph.drop' is deprecated.)} {position: line: 1, column: 1, offset: 0} for query: \"CALL gds.graph.drop('similarity', false)\"\n"
     ]
    },
    {
     "data": {
      "text/html": [
       "<div>\n",
       "<style scoped>\n",
       "    .dataframe tbody tr th:only-of-type {\n",
       "        vertical-align: middle;\n",
       "    }\n",
       "\n",
       "    .dataframe tbody tr th {\n",
       "        vertical-align: top;\n",
       "    }\n",
       "\n",
       "    .dataframe thead th {\n",
       "        text-align: right;\n",
       "    }\n",
       "</style>\n",
       "<table border=\"1\" class=\"dataframe\">\n",
       "  <thead>\n",
       "    <tr style=\"text-align: right;\">\n",
       "      <th></th>\n",
       "      <th>graphName</th>\n",
       "      <th>database</th>\n",
       "      <th>databaseLocation</th>\n",
       "      <th>memoryUsage</th>\n",
       "      <th>sizeInBytes</th>\n",
       "      <th>nodeCount</th>\n",
       "      <th>relationshipCount</th>\n",
       "      <th>configuration</th>\n",
       "      <th>density</th>\n",
       "      <th>creationTime</th>\n",
       "      <th>modificationTime</th>\n",
       "      <th>schema</th>\n",
       "      <th>schemaWithOrientation</th>\n",
       "    </tr>\n",
       "  </thead>\n",
       "  <tbody>\n",
       "    <tr>\n",
       "      <th>0</th>\n",
       "      <td>similarity</td>\n",
       "      <td>neo4j</td>\n",
       "      <td>local</td>\n",
       "      <td></td>\n",
       "      <td>-1</td>\n",
       "      <td>7037</td>\n",
       "      <td>2526</td>\n",
       "      <td>{'readConcurrency': 4, 'jobId': '544c6a18-d515...</td>\n",
       "      <td>0.000051</td>\n",
       "      <td>2024-12-03T19:44:57.746851900-05:00</td>\n",
       "      <td>2024-12-03T19:44:57.993801100-05:00</td>\n",
       "      <td>{'graphProperties': {}, 'nodes': {'Mule': {}, ...</td>\n",
       "      <td>{'graphProperties': {}, 'nodes': {'Mule': {}, ...</td>\n",
       "    </tr>\n",
       "  </tbody>\n",
       "</table>\n",
       "</div>"
      ],
      "text/plain": [
       "    graphName database databaseLocation memoryUsage  sizeInBytes  nodeCount  \\\n",
       "0  similarity    neo4j            local                       -1       7037   \n",
       "\n",
       "   relationshipCount                                      configuration  \\\n",
       "0               2526  {'readConcurrency': 4, 'jobId': '544c6a18-d515...   \n",
       "\n",
       "    density                         creationTime  \\\n",
       "0  0.000051  2024-12-03T19:44:57.746851900-05:00   \n",
       "\n",
       "                      modificationTime  \\\n",
       "0  2024-12-03T19:44:57.993801100-05:00   \n",
       "\n",
       "                                              schema  \\\n",
       "0  {'graphProperties': {}, 'nodes': {'Mule': {}, ...   \n",
       "\n",
       "                               schemaWithOrientation  \n",
       "0  {'graphProperties': {}, 'nodes': {'Mule': {}, ...  "
      ]
     },
     "execution_count": 24,
     "metadata": {},
     "output_type": "execute_result"
    }
   ],
   "source": [
    "gds.run_cypher('''CALL gds.graph.drop('clientClusters', false)''')\n",
    "gds.run_cypher('''CALL gds.graph.drop('similarity', false)''')"
   ]
  },
  {
   "cell_type": "code",
   "execution_count": null,
   "id": "112150be",
   "metadata": {},
   "outputs": [],
   "source": []
  }
 ],
 "metadata": {
  "kernelspec": {
   "display_name": "Python 3 (ipykernel)",
   "language": "python",
   "name": "python3"
  },
  "language_info": {
   "codemirror_mode": {
    "name": "ipython",
    "version": 3
   },
   "file_extension": ".py",
   "mimetype": "text/x-python",
   "name": "python",
   "nbconvert_exporter": "python",
   "pygments_lexer": "ipython3",
   "version": "3.7.1"
  }
 },
 "nbformat": 4,
 "nbformat_minor": 5
}
