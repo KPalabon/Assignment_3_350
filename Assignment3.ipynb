{
 "cells": [
  {
   "cell_type": "markdown",
   "id": "3d1460ec-4220-43fc-97e0-ed39f7aacb0d",
   "metadata": {},
   "source": [
    "Step 4"
   ]
  },
  {
   "cell_type": "code",
   "execution_count": 1,
   "id": "399c5217-38c0-42d0-b87b-dd10aa2d774f",
   "metadata": {},
   "outputs": [],
   "source": [
    "import pandas as pd\n",
    "import os"
   ]
  },
  {
   "cell_type": "code",
   "execution_count": 2,
   "id": "e6ff712c-b8a3-402a-b9ad-72eb3198882b",
   "metadata": {},
   "outputs": [],
   "source": [
    "import neo4j"
   ]
  },
  {
   "cell_type": "code",
   "execution_count": 3,
   "id": "4572b7e7-99b3-4f3e-bd1b-e684375dbba4",
   "metadata": {},
   "outputs": [],
   "source": [
    "from neo4j import GraphDatabase"
   ]
  },
  {
   "cell_type": "code",
   "execution_count": 4,
   "id": "2f84e7fb-ed48-4f93-8075-e074ade5f128",
   "metadata": {},
   "outputs": [],
   "source": [
    "from graphdatascience import GraphDataScience"
   ]
  },
  {
   "cell_type": "code",
   "execution_count": 5,
   "id": "1ef0f609-2cf3-4cfb-b633-e451e001b426",
   "metadata": {},
   "outputs": [],
   "source": [
    "NEO4J_URI = os.environ.get(\"NEO4J_URI\", \"bolt://localhost:7687\")"
   ]
  },
  {
   "cell_type": "code",
   "execution_count": 6,
   "id": "5d31e35a-71d2-4e46-b9f7-fb7c66ab0f7e",
   "metadata": {},
   "outputs": [],
   "source": [
    "NEO4J_AUTH = ( \"neo4j\",  \"assignment3\")"
   ]
  },
  {
   "cell_type": "code",
   "execution_count": 7,
   "id": "e24bb559-c1df-4ec8-936e-619cde2b0d83",
   "metadata": {},
   "outputs": [],
   "source": [
    "driver = GraphDatabase.driver(NEO4J_URI, auth=NEO4J_AUTH)"
   ]
  },
  {
   "cell_type": "code",
   "execution_count": 8,
   "id": "c8657bf1-70e1-4b3c-bcf2-3b7f4d7a1469",
   "metadata": {
    "scrolled": true
   },
   "outputs": [
    {
     "name": "stderr",
     "output_type": "stream",
     "text": [
      "Unable to connect to the Neo4j DBMS. Trying again...\n",
      "Unable to connect to the Neo4j DBMS. Trying again...\n",
      "Unable to connect to the Neo4j DBMS. Trying again...\n",
      "Received notification from DBMS server: {severity: WARNING} {code: Neo.ClientNotification.Statement.FeatureDeprecationWarning} {category: DEPRECATION} {title: This feature is deprecated and will be removed in future versions.} {description: The query used a deprecated field from a procedure. ('advertisedListenAddress' returned by 'gds.debug.arrow' is deprecated.)} {position: line: 1, column: 1, offset: 0} for query: 'CALL gds.debug.arrow()'\n",
      "Received notification from DBMS server: {severity: WARNING} {code: Neo.ClientNotification.Statement.FeatureDeprecationWarning} {category: DEPRECATION} {title: This feature is deprecated and will be removed in future versions.} {description: The query used a deprecated field from a procedure. ('serverLocation' returned by 'gds.debug.arrow' is deprecated.)} {position: line: 1, column: 1, offset: 0} for query: 'CALL gds.debug.arrow()'\n"
     ]
    }
   ],
   "source": [
    "gds = GraphDataScience(NEO4J_URI, auth=NEO4J_AUTH)"
   ]
  },
  {
   "cell_type": "markdown",
   "id": "6ea255b5-c1c0-41f5-b306-621293efa663",
   "metadata": {},
   "source": [
    "Step 5"
   ]
  },
  {
   "cell_type": "code",
   "execution_count": 9,
   "id": "24535535",
   "metadata": {},
   "outputs": [],
   "source": [
    "pii_query = '''\n",
    "MATCH (c:Client)-[ :HAS_EMAIL |:HAS_PHONE |:HAS_SSN ]-> (n) <-[ :HAS_EMAIL |:HAS_PHONE |:HAS_SSN ]-(d:Client)\n",
    "WHERE id(c) < id(d)\n",
    "RETURN c.id, d.id, count(*) AS freq\n",
    "ORDER BY freq DESC\n",
    "'''"
   ]
  },
  {
   "cell_type": "code",
   "execution_count": 10,
   "id": "7a1ab0bf-0472-487a-97fa-d1b8eca3ef2d",
   "metadata": {},
   "outputs": [
    {
     "name": "stderr",
     "output_type": "stream",
     "text": [
      "Received notification from DBMS server: {severity: WARNING} {code: Neo.ClientNotification.Statement.FeatureDeprecationWarning} {category: DEPRECATION} {title: This feature is deprecated and will be removed in future versions.} {description: The semantics of using colon in the separation of alternative relationship types will change in a future version. (Please use ':HAS_EMAIL|HAS_PHONE|HAS_SSN' instead)} {position: line: 2, column: 43, offset: 43} for query: '\\nMATCH (c:Client)-[ :HAS_EMAIL |:HAS_PHONE |:HAS_SSN ]-> (n) <-[ :HAS_EMAIL |:HAS_PHONE |:HAS_SSN ]-(d:Client)\\nWHERE id(c) < id(d)\\nRETURN c.id, d.id, count(*) AS freq\\nORDER BY freq DESC\\n'\n",
      "Received notification from DBMS server: {severity: WARNING} {code: Neo.ClientNotification.Statement.FeatureDeprecationWarning} {category: DEPRECATION} {title: This feature is deprecated and will be removed in future versions.} {description: The semantics of using colon in the separation of alternative relationship types will change in a future version. (Please use ':HAS_EMAIL|HAS_PHONE|HAS_SSN' instead)} {position: line: 2, column: 88, offset: 88} for query: '\\nMATCH (c:Client)-[ :HAS_EMAIL |:HAS_PHONE |:HAS_SSN ]-> (n) <-[ :HAS_EMAIL |:HAS_PHONE |:HAS_SSN ]-(d:Client)\\nWHERE id(c) < id(d)\\nRETURN c.id, d.id, count(*) AS freq\\nORDER BY freq DESC\\n'\n",
      "Received notification from DBMS server: {severity: WARNING} {code: Neo.ClientNotification.Statement.FeatureDeprecationWarning} {category: DEPRECATION} {title: This feature is deprecated and will be removed in future versions.} {description: The query used a deprecated function: `id`.} {position: line: 3, column: 7, offset: 117} for query: '\\nMATCH (c:Client)-[ :HAS_EMAIL |:HAS_PHONE |:HAS_SSN ]-> (n) <-[ :HAS_EMAIL |:HAS_PHONE |:HAS_SSN ]-(d:Client)\\nWHERE id(c) < id(d)\\nRETURN c.id, d.id, count(*) AS freq\\nORDER BY freq DESC\\n'\n",
      "Received notification from DBMS server: {severity: WARNING} {code: Neo.ClientNotification.Statement.FeatureDeprecationWarning} {category: DEPRECATION} {title: This feature is deprecated and will be removed in future versions.} {description: The query used a deprecated function: `id`.} {position: line: 3, column: 15, offset: 125} for query: '\\nMATCH (c:Client)-[ :HAS_EMAIL |:HAS_PHONE |:HAS_SSN ]-> (n) <-[ :HAS_EMAIL |:HAS_PHONE |:HAS_SSN ]-(d:Client)\\nWHERE id(c) < id(d)\\nRETURN c.id, d.id, count(*) AS freq\\nORDER BY freq DESC\\n'\n"
     ]
    },
    {
     "data": {
      "text/html": [
       "<div>\n",
       "<style scoped>\n",
       "    .dataframe tbody tr th:only-of-type {\n",
       "        vertical-align: middle;\n",
       "    }\n",
       "\n",
       "    .dataframe tbody tr th {\n",
       "        vertical-align: top;\n",
       "    }\n",
       "\n",
       "    .dataframe thead th {\n",
       "        text-align: right;\n",
       "    }\n",
       "</style>\n",
       "<table border=\"1\" class=\"dataframe\">\n",
       "  <thead>\n",
       "    <tr style=\"text-align: right;\">\n",
       "      <th></th>\n",
       "      <th>c.id</th>\n",
       "      <th>d.id</th>\n",
       "      <th>freq</th>\n",
       "    </tr>\n",
       "  </thead>\n",
       "  <tbody>\n",
       "    <tr>\n",
       "      <th>0</th>\n",
       "      <td>4952527271473904</td>\n",
       "      <td>4816336012071985</td>\n",
       "      <td>3</td>\n",
       "    </tr>\n",
       "    <tr>\n",
       "      <th>1</th>\n",
       "      <td>4883445100935916</td>\n",
       "      <td>4708373581412325</td>\n",
       "      <td>3</td>\n",
       "    </tr>\n",
       "    <tr>\n",
       "      <th>2</th>\n",
       "      <td>4658150168863397</td>\n",
       "      <td>4100374538108184</td>\n",
       "      <td>3</td>\n",
       "    </tr>\n",
       "    <tr>\n",
       "      <th>3</th>\n",
       "      <td>4673951123644611</td>\n",
       "      <td>4795773320377768</td>\n",
       "      <td>3</td>\n",
       "    </tr>\n",
       "    <tr>\n",
       "      <th>4</th>\n",
       "      <td>4192214340630620</td>\n",
       "      <td>4912097363222923</td>\n",
       "      <td>3</td>\n",
       "    </tr>\n",
       "    <tr>\n",
       "      <th>...</th>\n",
       "      <td>...</td>\n",
       "      <td>...</td>\n",
       "      <td>...</td>\n",
       "    </tr>\n",
       "    <tr>\n",
       "      <th>754</th>\n",
       "      <td>4910140986334626</td>\n",
       "      <td>4114683318919154</td>\n",
       "      <td>1</td>\n",
       "    </tr>\n",
       "    <tr>\n",
       "      <th>755</th>\n",
       "      <td>4454780847105236</td>\n",
       "      <td>4210575070378533</td>\n",
       "      <td>1</td>\n",
       "    </tr>\n",
       "    <tr>\n",
       "      <th>756</th>\n",
       "      <td>4721862020593706</td>\n",
       "      <td>4210575070378533</td>\n",
       "      <td>1</td>\n",
       "    </tr>\n",
       "    <tr>\n",
       "      <th>757</th>\n",
       "      <td>4445521165797820</td>\n",
       "      <td>4210575070378533</td>\n",
       "      <td>1</td>\n",
       "    </tr>\n",
       "    <tr>\n",
       "      <th>758</th>\n",
       "      <td>4884394011157286</td>\n",
       "      <td>4210575070378533</td>\n",
       "      <td>1</td>\n",
       "    </tr>\n",
       "  </tbody>\n",
       "</table>\n",
       "<p>759 rows × 3 columns</p>\n",
       "</div>"
      ],
      "text/plain": [
       "                 c.id              d.id  freq\n",
       "0    4952527271473904  4816336012071985     3\n",
       "1    4883445100935916  4708373581412325     3\n",
       "2    4658150168863397  4100374538108184     3\n",
       "3    4673951123644611  4795773320377768     3\n",
       "4    4192214340630620  4912097363222923     3\n",
       "..                ...               ...   ...\n",
       "754  4910140986334626  4114683318919154     1\n",
       "755  4454780847105236  4210575070378533     1\n",
       "756  4721862020593706  4210575070378533     1\n",
       "757  4445521165797820  4210575070378533     1\n",
       "758  4884394011157286  4210575070378533     1\n",
       "\n",
       "[759 rows x 3 columns]"
      ]
     },
     "execution_count": 10,
     "metadata": {},
     "output_type": "execute_result"
    }
   ],
   "source": [
    "gds.run_cypher(pii_query)"
   ]
  },
  {
   "cell_type": "markdown",
   "id": "0f01d3a3-dc07-49e0-9095-40c302dc8d02",
   "metadata": {},
   "source": [
    "Step 6"
   ]
  },
  {
   "cell_type": "code",
   "execution_count": 11,
   "id": "6a00fd32",
   "metadata": {},
   "outputs": [],
   "source": [
    "project_query = '''\n",
    "CALL gds.graph.project(\n",
    "    'clientClusters' ,\n",
    "    { Client: {\n",
    "        label: 'Client' }\n",
    "    },\n",
    "    { SHARED_PII: {\n",
    "        type: 'SHARED_PII',\n",
    "        orientation: 'UNDIRECTED',\n",
    "        properties: {\n",
    "        count: {\n",
    "        property: 'count' }\n",
    "            }\n",
    "        }\n",
    "    }\n",
    ")\n",
    "YIELD graphName, nodeCount, relationshipCount\n",
    "'''"
   ]
  },
  {
   "cell_type": "code",
   "execution_count": 12,
   "id": "1dadd458-cf10-4925-aa76-114b3fe9048d",
   "metadata": {},
   "outputs": [
    {
     "data": {
      "text/html": [
       "<div>\n",
       "<style scoped>\n",
       "    .dataframe tbody tr th:only-of-type {\n",
       "        vertical-align: middle;\n",
       "    }\n",
       "\n",
       "    .dataframe tbody tr th {\n",
       "        vertical-align: top;\n",
       "    }\n",
       "\n",
       "    .dataframe thead th {\n",
       "        text-align: right;\n",
       "    }\n",
       "</style>\n",
       "<table border=\"1\" class=\"dataframe\">\n",
       "  <thead>\n",
       "    <tr style=\"text-align: right;\">\n",
       "      <th></th>\n",
       "      <th>graphName</th>\n",
       "      <th>nodeCount</th>\n",
       "      <th>relationshipCount</th>\n",
       "    </tr>\n",
       "  </thead>\n",
       "  <tbody>\n",
       "    <tr>\n",
       "      <th>0</th>\n",
       "      <td>clientClusters</td>\n",
       "      <td>2433</td>\n",
       "      <td>1518</td>\n",
       "    </tr>\n",
       "  </tbody>\n",
       "</table>\n",
       "</div>"
      ],
      "text/plain": [
       "        graphName  nodeCount  relationshipCount\n",
       "0  clientClusters       2433               1518"
      ]
     },
     "execution_count": 12,
     "metadata": {},
     "output_type": "execute_result"
    }
   ],
   "source": [
    "gds.run_cypher(project_query)"
   ]
  },
  {
   "cell_type": "markdown",
   "id": "d5157569",
   "metadata": {},
   "source": [
    "Step 7"
   ]
  },
  {
   "cell_type": "code",
   "execution_count": 13,
   "id": "1ff4e64c",
   "metadata": {},
   "outputs": [],
   "source": [
    "streaming_query = '''\n",
    "CALL gds.wcc.stream(\n",
    "    'clientClusters',\n",
    "    {\n",
    "    nodeLabels: ['Client'],\n",
    "    relationshipTypes: ['SHARED_PII'],\n",
    "    consecutiveIds: true\n",
    "    }\n",
    ")\n",
    "YIELD nodeId, componentId\n",
    "RETURN gds.util.asNode(nodeId).id AS clientId, \n",
    "componentId AS clusterId\n",
    "'''"
   ]
  },
  {
   "cell_type": "code",
   "execution_count": 14,
   "id": "0c73f9a9",
   "metadata": {},
   "outputs": [],
   "source": [
    "pandasDF = driver.execute_query(\n",
    "    streaming_query,\n",
    "    database_=\"neo4j\",\n",
    "    result_transformer_=  neo4j.Result.to_df\n",
    ")"
   ]
  },
  {
   "cell_type": "code",
   "execution_count": 15,
   "id": "7450378c",
   "metadata": {},
   "outputs": [
    {
     "name": "stdout",
     "output_type": "stream",
     "text": [
      "<class 'pandas.core.frame.DataFrame'>\n"
     ]
    }
   ],
   "source": [
    "print(type(pandasDF))"
   ]
  },
  {
   "cell_type": "code",
   "execution_count": 16,
   "id": "5853765b",
   "metadata": {},
   "outputs": [
    {
     "name": "stdout",
     "output_type": "stream",
     "text": [
      "<Record clientId='4997933060327094' clusterId=0>\n"
     ]
    },
    {
     "name": "stderr",
     "output_type": "stream",
     "text": [
      "C:\\Users\\Joaquin\\anaconda3\\envs\\myenv\\lib\\site-packages\\neo4j\\_sync\\work\\result.py:623: UserWarning: Expected a result with a single record, but found multiple.\n",
      "  stacklevel=1,\n"
     ]
    }
   ],
   "source": [
    "with driver.session() as session:\n",
    "    result = session.run(streaming_query)\n",
    "    print(result.single())"
   ]
  },
  {
   "cell_type": "markdown",
   "id": "b9403e7a",
   "metadata": {},
   "source": [
    "Clean Up"
   ]
  },
  {
   "cell_type": "code",
   "execution_count": 17,
   "id": "68214a4f",
   "metadata": {},
   "outputs": [
    {
     "name": "stderr",
     "output_type": "stream",
     "text": [
      "Received notification from DBMS server: {severity: WARNING} {code: Neo.ClientNotification.Statement.FeatureDeprecationWarning} {category: DEPRECATION} {title: This feature is deprecated and will be removed in future versions.} {description: The query used a deprecated field from a procedure. ('schema' returned by 'gds.graph.drop' is deprecated.)} {position: line: 1, column: 1, offset: 0} for query: \"CALL gds.graph.drop('nativeGraph', false)\"\n"
     ]
    },
    {
     "data": {
      "text/html": [
       "<div>\n",
       "<style scoped>\n",
       "    .dataframe tbody tr th:only-of-type {\n",
       "        vertical-align: middle;\n",
       "    }\n",
       "\n",
       "    .dataframe tbody tr th {\n",
       "        vertical-align: top;\n",
       "    }\n",
       "\n",
       "    .dataframe thead th {\n",
       "        text-align: right;\n",
       "    }\n",
       "</style>\n",
       "<table border=\"1\" class=\"dataframe\">\n",
       "  <thead>\n",
       "    <tr style=\"text-align: right;\">\n",
       "      <th></th>\n",
       "      <th>graphName</th>\n",
       "      <th>database</th>\n",
       "      <th>databaseLocation</th>\n",
       "      <th>memoryUsage</th>\n",
       "      <th>sizeInBytes</th>\n",
       "      <th>nodeCount</th>\n",
       "      <th>relationshipCount</th>\n",
       "      <th>configuration</th>\n",
       "      <th>density</th>\n",
       "      <th>creationTime</th>\n",
       "      <th>modificationTime</th>\n",
       "      <th>schema</th>\n",
       "      <th>schemaWithOrientation</th>\n",
       "    </tr>\n",
       "  </thead>\n",
       "  <tbody>\n",
       "  </tbody>\n",
       "</table>\n",
       "</div>"
      ],
      "text/plain": [
       "Empty DataFrame\n",
       "Columns: [graphName, database, databaseLocation, memoryUsage, sizeInBytes, nodeCount, relationshipCount, configuration, density, creationTime, modificationTime, schema, schemaWithOrientation]\n",
       "Index: []"
      ]
     },
     "execution_count": 17,
     "metadata": {},
     "output_type": "execute_result"
    }
   ],
   "source": [
    "gds.run_cypher('''CALL gds.graph.drop('nativeGraph', false)''')"
   ]
  },
  {
   "cell_type": "code",
   "execution_count": null,
   "id": "7f6ae97a",
   "metadata": {},
   "outputs": [],
   "source": []
  }
 ],
 "metadata": {
  "kernelspec": {
   "display_name": "Python 3 (ipykernel)",
   "language": "python",
   "name": "python3"
  },
  "language_info": {
   "codemirror_mode": {
    "name": "ipython",
    "version": 3
   },
   "file_extension": ".py",
   "mimetype": "text/x-python",
   "name": "python",
   "nbconvert_exporter": "python",
   "pygments_lexer": "ipython3",
   "version": "3.7.1"
  }
 },
 "nbformat": 4,
 "nbformat_minor": 5
}
