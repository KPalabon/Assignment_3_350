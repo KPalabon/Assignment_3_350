{
 "cells": [
  {
   "cell_type": "markdown",
   "id": "3d1460ec-4220-43fc-97e0-ed39f7aacb0d",
   "metadata": {},
   "source": [
    "Step 4"
   ]
  },
  {
   "cell_type": "code",
   "execution_count": 1,
   "id": "399c5217-38c0-42d0-b87b-dd10aa2d774f",
   "metadata": {},
   "outputs": [],
   "source": [
    "import pandas as pd\n",
    "import os"
   ]
  },
  {
   "cell_type": "code",
   "execution_count": 2,
   "id": "e6ff712c-b8a3-402a-b9ad-72eb3198882b",
   "metadata": {},
   "outputs": [],
   "source": [
    "import neo4j"
   ]
  },
  {
   "cell_type": "code",
   "execution_count": 3,
   "id": "4572b7e7-99b3-4f3e-bd1b-e684375dbba4",
   "metadata": {},
   "outputs": [],
   "source": [
    "from neo4j import GraphDatabase"
   ]
  },
  {
   "cell_type": "code",
   "execution_count": 4,
   "id": "2f84e7fb-ed48-4f93-8075-e074ade5f128",
   "metadata": {},
   "outputs": [],
   "source": [
    "from graphdatascience import GraphDataScience"
   ]
  },
  {
   "cell_type": "code",
   "execution_count": 5,
   "id": "1ef0f609-2cf3-4cfb-b633-e451e001b426",
   "metadata": {},
   "outputs": [],
   "source": [
    "NEO4J_URI = os.environ.get(\"NEO4J_URI\", \"bolt://localhost:7687\")"
   ]
  },
  {
   "cell_type": "code",
   "execution_count": 6,
   "id": "5d31e35a-71d2-4e46-b9f7-fb7c66ab0f7e",
   "metadata": {},
   "outputs": [],
   "source": [
    "NEO4J_AUTH = ( \"neo4j\",  \"june15kent\")"
   ]
  },
  {
   "cell_type": "code",
   "execution_count": 7,
   "id": "e24bb559-c1df-4ec8-936e-619cde2b0d83",
   "metadata": {},
   "outputs": [],
   "source": [
    "driver = GraphDatabase.driver(NEO4J_URI, auth=NEO4J_AUTH)"
   ]
  },
  {
   "cell_type": "code",
   "execution_count": 8,
   "id": "c8657bf1-70e1-4b3c-bcf2-3b7f4d7a1469",
   "metadata": {},
   "outputs": [],
   "source": [
    "gds = GraphDataScience(NEO4J_URI, auth=NEO4J_AUTH)"
   ]
  },
  {
   "cell_type": "markdown",
   "id": "6ea255b5-c1c0-41f5-b306-621293efa663",
   "metadata": {},
   "source": [
    "Step 5"
   ]
  },
  {
   "cell_type": "code",
   "execution_count": 9,
   "id": "7a1ab0bf-0472-487a-97fa-d1b8eca3ef2d",
   "metadata": {},
   "outputs": [],
   "source": [
    "test_query = '''\n",
    "MATCH (n) \n",
    "RETURN n\n",
    "LIMIT 10\n",
    "'''"
   ]
  },
  {
   "cell_type": "code",
   "execution_count": 10,
   "id": "18d01548-18ba-4807-8694-619db6d9d40e",
   "metadata": {},
   "outputs": [],
   "source": [
    "pii_query = '''\n",
    "MATCH (c:Client)-[ :HAS_EMAIL |:HAS_PHONE |:HAS_SSN ]-> (n) <-[ :HAS_EMAIL |:HAS_PHONE |:HAS_SSN ]-(d:Client)\n",
    "WHERE id(c) < id(d)\n",
    "RETURN c.id, d.id, count(*) AS freq\n",
    "ORDER BY freq DESC\n",
    "'''"
   ]
  },
  {
   "cell_type": "code",
   "execution_count": 11,
   "id": "b4253e3e-5a49-4def-b9d9-b9bb8bad7b91",
   "metadata": {},
   "outputs": [
    {
     "name": "stderr",
     "output_type": "stream",
     "text": [
      "C:\\Users\\kentp\\anaconda3\\envs\\cs350\\Lib\\site-packages\\graphdatascience\\query_runner\\neo4j_query_runner.py:234: RuntimeWarning: The semantics of using colon in the separation of alternative relationship types will change in a future version. (Please use ':HAS_EMAIL|HAS_PHONE|HAS_SSN' instead)\n",
      "  warnings.warn(warning)\n"
     ]
    },
    {
     "data": {
      "text/html": [
       "<div>\n",
       "<style scoped>\n",
       "    .dataframe tbody tr th:only-of-type {\n",
       "        vertical-align: middle;\n",
       "    }\n",
       "\n",
       "    .dataframe tbody tr th {\n",
       "        vertical-align: top;\n",
       "    }\n",
       "\n",
       "    .dataframe thead th {\n",
       "        text-align: right;\n",
       "    }\n",
       "</style>\n",
       "<table border=\"1\" class=\"dataframe\">\n",
       "  <thead>\n",
       "    <tr style=\"text-align: right;\">\n",
       "      <th></th>\n",
       "      <th>c.id</th>\n",
       "      <th>d.id</th>\n",
       "      <th>freq</th>\n",
       "    </tr>\n",
       "  </thead>\n",
       "  <tbody>\n",
       "    <tr>\n",
       "      <th>0</th>\n",
       "      <td>4952527271473904</td>\n",
       "      <td>4816336012071985</td>\n",
       "      <td>3</td>\n",
       "    </tr>\n",
       "    <tr>\n",
       "      <th>1</th>\n",
       "      <td>4883445100935916</td>\n",
       "      <td>4708373581412325</td>\n",
       "      <td>3</td>\n",
       "    </tr>\n",
       "    <tr>\n",
       "      <th>2</th>\n",
       "      <td>4658150168863397</td>\n",
       "      <td>4100374538108184</td>\n",
       "      <td>3</td>\n",
       "    </tr>\n",
       "    <tr>\n",
       "      <th>3</th>\n",
       "      <td>4673951123644611</td>\n",
       "      <td>4795773320377768</td>\n",
       "      <td>3</td>\n",
       "    </tr>\n",
       "    <tr>\n",
       "      <th>4</th>\n",
       "      <td>4192214340630620</td>\n",
       "      <td>4912097363222923</td>\n",
       "      <td>3</td>\n",
       "    </tr>\n",
       "    <tr>\n",
       "      <th>...</th>\n",
       "      <td>...</td>\n",
       "      <td>...</td>\n",
       "      <td>...</td>\n",
       "    </tr>\n",
       "    <tr>\n",
       "      <th>754</th>\n",
       "      <td>4910140986334626</td>\n",
       "      <td>4114683318919154</td>\n",
       "      <td>1</td>\n",
       "    </tr>\n",
       "    <tr>\n",
       "      <th>755</th>\n",
       "      <td>4454780847105236</td>\n",
       "      <td>4210575070378533</td>\n",
       "      <td>1</td>\n",
       "    </tr>\n",
       "    <tr>\n",
       "      <th>756</th>\n",
       "      <td>4721862020593706</td>\n",
       "      <td>4210575070378533</td>\n",
       "      <td>1</td>\n",
       "    </tr>\n",
       "    <tr>\n",
       "      <th>757</th>\n",
       "      <td>4445521165797820</td>\n",
       "      <td>4210575070378533</td>\n",
       "      <td>1</td>\n",
       "    </tr>\n",
       "    <tr>\n",
       "      <th>758</th>\n",
       "      <td>4884394011157286</td>\n",
       "      <td>4210575070378533</td>\n",
       "      <td>1</td>\n",
       "    </tr>\n",
       "  </tbody>\n",
       "</table>\n",
       "<p>759 rows × 3 columns</p>\n",
       "</div>"
      ],
      "text/plain": [
       "                 c.id              d.id  freq\n",
       "0    4952527271473904  4816336012071985     3\n",
       "1    4883445100935916  4708373581412325     3\n",
       "2    4658150168863397  4100374538108184     3\n",
       "3    4673951123644611  4795773320377768     3\n",
       "4    4192214340630620  4912097363222923     3\n",
       "..                ...               ...   ...\n",
       "754  4910140986334626  4114683318919154     1\n",
       "755  4454780847105236  4210575070378533     1\n",
       "756  4721862020593706  4210575070378533     1\n",
       "757  4445521165797820  4210575070378533     1\n",
       "758  4884394011157286  4210575070378533     1\n",
       "\n",
       "[759 rows x 3 columns]"
      ]
     },
     "execution_count": 11,
     "metadata": {},
     "output_type": "execute_result"
    }
   ],
   "source": [
    "gds.run_cypher(pii_query)"
   ]
  },
  {
   "cell_type": "markdown",
   "id": "0f01d3a3-dc07-49e0-9095-40c302dc8d02",
   "metadata": {},
   "source": [
    "Step 6"
   ]
  },
  {
   "cell_type": "code",
   "execution_count": 1,
   "id": "1dadd458-cf10-4925-aa76-114b3fe9048d",
   "metadata": {},
   "outputs": [
    {
     "ename": "SyntaxError",
     "evalue": "invalid syntax (22362033.py, line 1)",
     "output_type": "error",
     "traceback": [
      "\u001b[1;36m  Cell \u001b[1;32mIn[1], line 1\u001b[1;36m\u001b[0m\n\u001b[1;33m    CALL gds.graph.project(\u001b[0m\n\u001b[1;37m         ^\u001b[0m\n\u001b[1;31mSyntaxError\u001b[0m\u001b[1;31m:\u001b[0m invalid syntax\n"
     ]
    }
   ],
   "source": [
    "CALL gds.graph.project(\n",
    "    'clientClusters' ,\n",
    "    { Client: {\n",
    "        label: 'Client' }\n",
    "    },\n",
    "    { SHARED_PII: {\n",
    "        type: 'SHARED_PII',\n",
    "        orientation: 'UNDIRECTED',\n",
    "        properties: {\n",
    "        count: {\n",
    "        property: 'count' }\n",
    "            }\n",
    "        }\n",
    "    }\n",
    ")\n",
    "YIELD graphName, nodeCount, relationshipCount"
   ]
  },
  {
   "cell_type": "markdown",
   "id": "ef7f88f5-3ed3-4ab0-9891-73ada25bf572",
   "metadata": {},
   "source": [
    "Step 9"
   ]
  },
  {
   "cell_type": "code",
   "execution_count": null,
   "id": "fb513d54-4748-4f90-bec7-c2c046220a6c",
   "metadata": {},
   "outputs": [],
   "source": [
    "MATCH (c:Client) WHERE c.secondPartyFraudRing is NOT NULL\n",
    "WITH collect(c) as clients\n",
    "\n",
    "MATCH (n) WHERE n:Email OR n:Phone OR n:SSN\n",
    "\n",
    "WITH clients, collect(n) AS piis\n",
    "WITH clients + piis AS nodes\n",
    "\n",
    "MATCH (c:Client) -[:HAS_EMAIL | :HAS_PHONE | :HAS_SSN]->(p)\n",
    "WHERE c.secondPartyFraudRing is NOT NULL\n",
    "\n",
    "WITH nodes, collect({source: c, target: p}) as relationships"
   ]
  },
  {
   "cell_type": "code",
   "execution_count": null,
   "id": "9ef1d6b9-7e7b-4072-9946-59e5c6977e89",
   "metadata": {},
   "outputs": [],
   "source": [
    "CALL gds.graph.project.cypher(\n",
    "    'similarity',\n",
    "    \"UNWIND $nodes as n\n",
    "        RETURN id(n) AS id,labels(n) AS labels\",\n",
    "    \"UNWIND $relationships as r\n",
    "        RETURN id(r['source']) AS source, id(r['target']) AS target,\n",
    "    'HAS_PII' as type\",\n",
    "    { parameters:\n",
    "        { nodes: nodes,\n",
    "            relationships: relationships }\n",
    "    }\n",
    ")\n",
    "YIELD graphName, nodeCount, relationshipCount\n",
    "RETURN graphName, nodeCount, relationshipCount"
   ]
  },
  {
   "cell_type": "markdown",
   "id": "e3a0013d-1843-485a-876a-04816b7b4a1d",
   "metadata": {},
   "source": [
    "Step 10"
   ]
  },
  {
   "cell_type": "code",
   "execution_count": null,
   "id": "163fff52-49c2-44b0-a2c9-f69b925faf6c",
   "metadata": {},
   "outputs": [],
   "source": [
    "CALL gds.nodeSimilarity.mutate(\n",
    "  'similarity',\n",
    "  {\n",
    "    mutateProperty: 'jaccardScore',\n",
    "    mutateRelationshipType: 'SIMILAR_TO',\n",
    "    topK: 15\n",
    "  }\n",
    ")\n",
    "YIELD\n",
    "  preProcessingMillis,\n",
    "  computeMillis,\n",
    "  mutateMillis,\n",
    "  postProcessingMillis,\n",
    "  relationshipsWritten,\n",
    "  nodesCompared,\n",
    "  similarityDistribution,\n",
    "  configuration\n"
   ]
  }
 ],
 "metadata": {
  "kernelspec": {
   "display_name": "Python 3 (ipykernel)",
   "language": "python",
   "name": "python3"
  },
  "language_info": {
   "codemirror_mode": {
    "name": "ipython",
    "version": 3
   },
   "file_extension": ".py",
   "mimetype": "text/x-python",
   "name": "python",
   "nbconvert_exporter": "python",
   "pygments_lexer": "ipython3",
   "version": "3.12.7"
  }
 },
 "nbformat": 4,
 "nbformat_minor": 5
}
